{
 "cells": [
  {
   "cell_type": "markdown",
   "metadata": {
    "collapsed": true,
    "pycharm": {
     "name": "#%% md\n"
    }
   },
   "source": [
    "Autoencoder testing encoder output"
   ]
  },
  {
   "cell_type": "code",
   "execution_count": null,
   "outputs": [],
   "source": [
    "\"\"\"\n",
    "https://discuss.pytorch.org/t/autoencoder-testing-encoder-output/29988\n",
    "\"\"\""
   ],
   "metadata": {
    "collapsed": false,
    "pycharm": {
     "name": "#%%\n"
    }
   }
  },
  {
   "cell_type": "code",
   "execution_count": 3,
   "outputs": [],
   "source": [
    "import torch\n",
    "import torch.nn as nn"
   ],
   "metadata": {
    "collapsed": false,
    "pycharm": {
     "name": "#%%\n"
    }
   }
  },
  {
   "cell_type": "code",
   "execution_count": 4,
   "outputs": [],
   "source": [
    "class autoencoder(nn.Module):\n",
    "\n",
    "    def __init__(self):\n",
    "        super(autoencoder, self).__init__()\n",
    "        self.encoder = nn.Sequential(\n",
    "            nn.Linear(4, 32),\n",
    "            nn.ReLU(True),\n",
    "            nn.Linear(32, 12),\n",
    "            nn.ReLU(True),\n",
    "            nn.Linear(12, 5))\n",
    "\n",
    "        self. decoder = nn.Sequential(\n",
    "            nn.Linear(5, 12),\n",
    "            nn.ReLU(True),\n",
    "            nn.Linear(12, 32),\n",
    "            nn.ReLU(True),\n",
    "            nn.Linear(32, 4))\n",
    "\n",
    "    def forward(self, x):\n",
    "        x = self.encoder(x)\n",
    "        out = self.decoder(x)\n",
    "        return out"
   ],
   "metadata": {
    "collapsed": false,
    "pycharm": {
     "name": "#%%\n"
    }
   }
  },
  {
   "cell_type": "code",
   "execution_count": 39,
   "outputs": [
    {
     "name": "stdout",
     "output_type": "stream",
     "text": [
      "X: tensor([[-0.4112, -0.5244,  0.0771,  1.4589]])\n",
      "tensor([[ 0.0999,  0.0133,  0.1273, -0.0712, -0.3010]],\n",
      "       grad_fn=<AddmmBackward>)\n",
      "--------------------------------------------------\n",
      "X: tensor([[1.6875, 1.2575, 0.4212, 1.1049]])\n",
      "tensor([[ 0.0415, -0.1661,  0.2006, -0.1637, -0.3578]],\n",
      "       grad_fn=<AddmmBackward>)\n",
      "--------------------------------------------------\n"
     ]
    }
   ],
   "source": [
    "model = autoencoder()\n",
    "for i in range(2):\n",
    "    x = torch.randn(1,4)\n",
    "    print(\"X:\",x)\n",
    "    #out = model(x)\n",
    "    #print(out)\n",
    "\n",
    "    enc_output = model.encoder(x)\n",
    "    print(enc_output)\n",
    "    #dec_output = model.decoder(enc_output)\n",
    "    #print(dec_output)\n",
    "\n",
    "    print(\"-\" * 50)"
   ],
   "metadata": {
    "collapsed": false,
    "pycharm": {
     "name": "#%%\n"
    }
   }
  },
  {
   "cell_type": "code",
   "execution_count": null,
   "outputs": [],
   "source": [],
   "metadata": {
    "collapsed": false,
    "pycharm": {
     "name": "#%%\n"
    }
   }
  }
 ],
 "metadata": {
  "kernelspec": {
   "display_name": "Python 3",
   "language": "python",
   "name": "python3"
  },
  "language_info": {
   "codemirror_mode": {
    "name": "ipython",
    "version": 2
   },
   "file_extension": ".py",
   "mimetype": "text/x-python",
   "name": "python",
   "nbconvert_exporter": "python",
   "pygments_lexer": "ipython2",
   "version": "2.7.6"
  }
 },
 "nbformat": 4,
 "nbformat_minor": 0
}