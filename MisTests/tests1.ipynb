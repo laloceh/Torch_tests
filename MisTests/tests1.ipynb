{
 "cells": [
  {
   "cell_type": "code",
   "execution_count": 272,
   "metadata": {
    "collapsed": true
   },
   "outputs": [],
   "source": [
    "import torch\n",
    "import torch.nn as nn\n",
    "import numpy as np\n",
    "import torch.nn.functional as F"
   ]
  },
  {
   "cell_type": "code",
   "execution_count": 126,
   "outputs": [
    {
     "name": "stdout",
     "output_type": "stream",
     "text": [
      "[['hola', 'mundo', 'cruel'], ['me', 'llamo', 'eduardo'], ['buenas', 'noches', 'a', 'todos']]\n",
      "{'cruel', 'todos', 'llamo', 'a', 'hola', 'eduardo', 'noches', 'me', 'buenas', 'mundo'}\n",
      "Vocabulary length 12\n"
     ]
    }
   ],
   "source": [
    "texts=[\"hola mundo cruel\", \"me llamo eduardo\", \"buenas noches a todos\"]\n",
    "\n",
    "tokens = []\n",
    "vocabulary = set()\n",
    "for text in texts:\n",
    "    toks = text.split()\n",
    "    tokens.append(toks)\n",
    "    for w in toks:\n",
    "        vocabulary.add(w)\n",
    "\n",
    "print(tokens)\n",
    "\n",
    "unk_token = \"<UNK>\"\n",
    "pad_token = '<PAD>'\n",
    "print(vocabulary)\n",
    "\n",
    "print(f\"Vocabulary length {len(vocabulary) + 2}\")"
   ],
   "metadata": {
    "collapsed": false,
    "pycharm": {
     "name": "#%%\n"
    }
   }
  },
  {
   "cell_type": "code",
   "execution_count": 127,
   "outputs": [
    {
     "name": "stdout",
     "output_type": "stream",
     "text": [
      "{'<UNK>': 0, '<PAD>': 1, 'cruel': 2, 'todos': 3, 'llamo': 4, 'a': 5, 'hola': 6, 'eduardo': 7, 'noches': 8, 'me': 9, 'buenas': 10, 'mundo': 11}\n",
      "{0: '<UNK>', 1: '<PAD>', 2: 'cruel', 3: 'todos', 4: 'llamo', 5: 'a', 6: 'hola', 7: 'eduardo', 8: 'noches', 9: 'me', 10: 'buenas', 11: 'mundo'}\n",
      "Vocabulary length 12\n"
     ]
    }
   ],
   "source": [
    "word2id = {unk_token:0, pad_token:1}\n",
    "id2word = {0:unk_token, 1:pad_token}\n",
    "\n",
    "for i, w in enumerate(vocabulary,2):\n",
    "    word2id[w] = i\n",
    "    id2word[i] = w\n",
    "\n",
    "print(word2id)\n",
    "print(id2word)\n",
    "\n",
    "vocabulary_size = len(word2id)\n",
    "print(f\"Vocabulary length {vocabulary_size}\")"
   ],
   "metadata": {
    "collapsed": false,
    "pycharm": {
     "name": "#%%\n"
    }
   }
  },
  {
   "cell_type": "code",
   "execution_count": 128,
   "outputs": [],
   "source": [
    "def numeralize(text):\n",
    "    sent = []\n",
    "    for w in text:\n",
    "        if w in vocabulary:\n",
    "            sent.append(word2id[w])\n",
    "        else:\n",
    "            sent.append(0)  # <UNK>\n",
    "    return sent"
   ],
   "metadata": {
    "collapsed": false,
    "pycharm": {
     "name": "#%%\n"
    }
   }
  },
  {
   "cell_type": "code",
   "execution_count": 129,
   "outputs": [
    {
     "name": "stdout",
     "output_type": "stream",
     "text": [
      "[6, 0]\n"
     ]
    }
   ],
   "source": [
    "text = [\"hola\", \"lalo\"]\n",
    "print(numeralize(text))"
   ],
   "metadata": {
    "collapsed": false,
    "pycharm": {
     "name": "#%%\n"
    }
   }
  },
  {
   "cell_type": "code",
   "execution_count": 130,
   "outputs": [
    {
     "name": "stdout",
     "output_type": "stream",
     "text": [
      "[[6, 11, 2], [9, 4, 7], [10, 8, 5, 3]]\n"
     ]
    }
   ],
   "source": [
    "text_numbers = [numeralize(tok) for tok in tokens]\n",
    "print(text_numbers)"
   ],
   "metadata": {
    "collapsed": false,
    "pycharm": {
     "name": "#%%\n"
    }
   }
  },
  {
   "cell_type": "code",
   "execution_count": 131,
   "outputs": [
    {
     "name": "stdout",
     "output_type": "stream",
     "text": [
      "Largest text of 4 words\n"
     ]
    }
   ],
   "source": [
    "larger = 0\n",
    "for text in text_numbers:\n",
    "    if len(text) > larger:\n",
    "        larger = len(text)\n",
    "\n",
    "print(f\"Largest text of {larger} words\")"
   ],
   "metadata": {
    "collapsed": false,
    "pycharm": {
     "name": "#%%\n"
    }
   }
  },
  {
   "cell_type": "code",
   "execution_count": 132,
   "outputs": [],
   "source": [
    "def pad_sentence(text):\n",
    "    if len(text) < larger:\n",
    "        diff = larger - len(text)\n",
    "        for i in range(diff):\n",
    "            text.append(1)  # add token \"<PAD>\"\n",
    "    return text"
   ],
   "metadata": {
    "collapsed": false,
    "pycharm": {
     "name": "#%%\n"
    }
   }
  },
  {
   "cell_type": "code",
   "execution_count": 133,
   "outputs": [
    {
     "name": "stdout",
     "output_type": "stream",
     "text": [
      "[[6, 11, 2, 1], [9, 4, 7, 1], [10, 8, 5, 3]]\n"
     ]
    }
   ],
   "source": [
    "padded_text = [pad_sentence(text) for text in text_numbers]\n",
    "print(padded_text)"
   ],
   "metadata": {
    "collapsed": false,
    "pycharm": {
     "name": "#%%\n"
    }
   }
  },
  {
   "cell_type": "code",
   "execution_count": 134,
   "outputs": [],
   "source": [
    "def textify(text):\n",
    "    words = []\n",
    "    for number in text:\n",
    "        words.append(id2word[number])\n",
    "    return words"
   ],
   "metadata": {
    "collapsed": false,
    "pycharm": {
     "name": "#%%\n"
    }
   }
  },
  {
   "cell_type": "code",
   "execution_count": 135,
   "outputs": [
    {
     "name": "stdout",
     "output_type": "stream",
     "text": [
      "[['hola', 'mundo', 'cruel', '<PAD>'], ['me', 'llamo', 'eduardo', '<PAD>'], ['buenas', 'noches', 'a', 'todos']]\n"
     ]
    }
   ],
   "source": [
    "text_again = [textify(text) for text in padded_text]\n",
    "print(text_again)"
   ],
   "metadata": {
    "collapsed": false,
    "pycharm": {
     "name": "#%%\n"
    }
   }
  },
  {
   "cell_type": "code",
   "execution_count": 146,
   "outputs": [],
   "source": [
    "class Embedder(nn.Module):\n",
    "    def __init__(self, vocab_size, emb_dim):\n",
    "        super(Embedder, self).__init__()\n",
    "        self.embed = nn.Embedding(vocab_size+1, emb_dim)    # +1 for the ids not starting with 0\n",
    "\n",
    "    def forward(self, x):\n",
    "        return self.embed(x)\n",
    "\n",
    "    def print_weights(self):\n",
    "        return self.embed.weight"
   ],
   "metadata": {
    "collapsed": false,
    "pycharm": {
     "name": "#%%\n"
    }
   }
  },
  {
   "cell_type": "code",
   "execution_count": 147,
   "outputs": [
    {
     "name": "stdout",
     "output_type": "stream",
     "text": [
      "[6, 11, 2, 1]\n",
      "<class 'list'>\n"
     ]
    }
   ],
   "source": [
    "embedding_dimension = 5\n",
    "\n",
    "text1 = padded_text[0]\n",
    "print(text1)\n",
    "print(type(text1))"
   ],
   "metadata": {
    "collapsed": false,
    "pycharm": {
     "name": "#%%\n"
    }
   }
  },
  {
   "cell_type": "code",
   "execution_count": 148,
   "outputs": [
    {
     "name": "stdout",
     "output_type": "stream",
     "text": [
      "[[ 6 11  2  1]\n",
      " [ 9  4  7  1]\n",
      " [10  8  5  3]]\n",
      "<class 'numpy.ndarray'>\n",
      "[ 6 11  2  1]\n",
      "<class 'numpy.ndarray'>\n"
     ]
    }
   ],
   "source": [
    "batch = np.vstack(padded_text)\n",
    "print(batch)\n",
    "print(type(batch))\n",
    "print(batch[0])\n",
    "print(type(batch[0]))"
   ],
   "metadata": {
    "collapsed": false,
    "pycharm": {
     "name": "#%%\n"
    }
   }
  },
  {
   "cell_type": "code",
   "execution_count": 149,
   "outputs": [
    {
     "name": "stdout",
     "output_type": "stream",
     "text": [
      "tensor([[ 6, 11,  2,  1],\n",
      "        [ 9,  4,  7,  1],\n",
      "        [10,  8,  5,  3]])\n"
     ]
    }
   ],
   "source": [
    "input_batch = torch.tensor(batch, dtype=torch.long)\n",
    "print(input_batch)"
   ],
   "metadata": {
    "collapsed": false,
    "pycharm": {
     "name": "#%%\n"
    }
   }
  },
  {
   "cell_type": "code",
   "execution_count": 150,
   "outputs": [
    {
     "name": "stdout",
     "output_type": "stream",
     "text": [
      "tensor([ 6, 11,  2,  1])\n",
      "<class 'torch.Tensor'>\n"
     ]
    }
   ],
   "source": [
    "print(input_batch[0])\n",
    "print(type(input_batch[0]))"
   ],
   "metadata": {
    "collapsed": false,
    "pycharm": {
     "name": "#%%\n"
    }
   }
  },
  {
   "cell_type": "code",
   "execution_count": 151,
   "outputs": [
    {
     "name": "stdout",
     "output_type": "stream",
     "text": [
      "Parameter containing:\n",
      "tensor([[-1.5265e+00, -1.4884e+00,  5.3641e-01, -2.4606e-01,  4.5496e-01],\n",
      "        [-7.7714e-01, -2.0969e+00,  1.7835e+00, -2.6246e+00,  4.4385e-02],\n",
      "        [-9.0353e-01,  6.0791e-02, -7.1391e-01,  1.5493e+00,  2.6345e-03],\n",
      "        [-3.7953e-01,  4.6506e-01, -2.4369e+00, -1.8846e-01,  2.1542e+00],\n",
      "        [ 5.9098e-01,  3.7616e-01, -3.1290e-01,  5.6046e-01,  1.0438e-01],\n",
      "        [ 1.2133e+00,  1.3757e+00,  1.1258e+00,  8.7801e-01, -1.1513e+00],\n",
      "        [ 8.0069e-02, -1.1752e+00, -3.9491e-03,  1.1250e-03, -5.0092e-01],\n",
      "        [-5.6224e-02, -5.7728e-01,  1.3235e-01, -1.6854e+00, -5.7394e-01],\n",
      "        [-3.2366e-01,  7.3624e-01, -5.7591e-01,  4.0074e-01, -1.5145e+00],\n",
      "        [-3.0589e-01, -1.0460e-01,  1.0548e+00,  8.8961e-01,  1.1981e+00],\n",
      "        [ 1.0106e+00,  1.0115e+00,  3.5873e-01,  9.3127e-01,  1.6046e-01],\n",
      "        [ 5.4267e-01, -1.4515e+00,  5.6311e-01,  3.6198e-01, -8.6320e-01],\n",
      "        [ 8.8370e-01, -4.5666e-01,  8.0039e-01, -2.6311e+00,  2.1566e-01]],\n",
      "       requires_grad=True)\n"
     ]
    }
   ],
   "source": [
    "embedder = Embedder(vocabulary_size, embedding_dimension)\n",
    "print(embedder.print_weights())\n"
   ],
   "metadata": {
    "collapsed": false,
    "pycharm": {
     "name": "#%%\n"
    }
   }
  },
  {
   "cell_type": "code",
   "execution_count": 152,
   "outputs": [
    {
     "name": "stdout",
     "output_type": "stream",
     "text": [
      "tensor([[[ 8.0069e-02, -1.1752e+00, -3.9491e-03,  1.1250e-03, -5.0092e-01],\n",
      "         [ 5.4267e-01, -1.4515e+00,  5.6311e-01,  3.6198e-01, -8.6320e-01],\n",
      "         [-9.0353e-01,  6.0791e-02, -7.1391e-01,  1.5493e+00,  2.6345e-03],\n",
      "         [-7.7714e-01, -2.0969e+00,  1.7835e+00, -2.6246e+00,  4.4385e-02]],\n",
      "\n",
      "        [[-3.0589e-01, -1.0460e-01,  1.0548e+00,  8.8961e-01,  1.1981e+00],\n",
      "         [ 5.9098e-01,  3.7616e-01, -3.1290e-01,  5.6046e-01,  1.0438e-01],\n",
      "         [-5.6224e-02, -5.7728e-01,  1.3235e-01, -1.6854e+00, -5.7394e-01],\n",
      "         [-7.7714e-01, -2.0969e+00,  1.7835e+00, -2.6246e+00,  4.4385e-02]],\n",
      "\n",
      "        [[ 1.0106e+00,  1.0115e+00,  3.5873e-01,  9.3127e-01,  1.6046e-01],\n",
      "         [-3.2366e-01,  7.3624e-01, -5.7591e-01,  4.0074e-01, -1.5145e+00],\n",
      "         [ 1.2133e+00,  1.3757e+00,  1.1258e+00,  8.7801e-01, -1.1513e+00],\n",
      "         [-3.7953e-01,  4.6506e-01, -2.4369e+00, -1.8846e-01,  2.1542e+00]]],\n",
      "       grad_fn=<EmbeddingBackward>)\n",
      "torch.Size([3, 4, 5])\n"
     ]
    }
   ],
   "source": [
    "print(embedder(input_batch))\n",
    "print(embedder(input_batch).shape)\n"
   ],
   "metadata": {
    "collapsed": false,
    "pycharm": {
     "name": "#%%\n"
    }
   }
  },
  {
   "cell_type": "code",
   "execution_count": 157,
   "outputs": [
    {
     "name": "stdout",
     "output_type": "stream",
     "text": [
      "User embeddings\n",
      "Parameter containing:\n",
      "tensor([[-0.8669,  0.2444,  0.0309,  0.7737, -1.3752],\n",
      "        [ 0.5067,  0.2551,  0.7666, -0.6906,  0.1182],\n",
      "        [-1.4574, -0.7139, -1.2903,  0.1250, -0.1761],\n",
      "        [-0.7156, -0.6478,  0.4806,  1.3227, -0.5890],\n",
      "        [-0.0481, -0.7023,  1.6830, -0.0741,  0.9336],\n",
      "        [ 1.2916, -0.1991,  1.7233, -1.1685,  1.8439],\n",
      "        [-0.9833,  2.5072,  1.3217,  2.6013,  0.0705]], requires_grad=True)\n",
      "Item embeddings\n",
      "Parameter containing:\n",
      "tensor([[ 0.0167, -0.8347, -0.7065, -0.4941,  0.3440],\n",
      "        [-0.0895, -1.9731, -0.1074, -0.2042, -0.9967],\n",
      "        [ 0.0519, -0.4616,  1.5299, -1.5154,  0.2876],\n",
      "        [-0.2978, -0.1996,  0.5468,  1.8366, -1.0105],\n",
      "        [ 1.0886,  0.4457, -1.1799, -1.1166,  0.2687],\n",
      "        [-2.8253,  0.4217,  0.4023, -0.6789, -0.5841],\n",
      "        [ 0.0880,  0.9356,  1.3416,  0.2956, -0.2526],\n",
      "        [-0.5941,  0.2293, -0.8367, -0.1605,  0.6026],\n",
      "        [-1.5620,  0.9095, -0.5343,  0.8031, -1.0756],\n",
      "        [-0.4596, -0.2761,  1.2171,  1.4323, -1.0655]], requires_grad=True)\n"
     ]
    }
   ],
   "source": [
    "n_users = 6\n",
    "n_items = 9\n",
    "\n",
    "embedder_users = Embedder(n_users, embedding_dimension)\n",
    "embedder_items = Embedder(n_items, embedding_dimension)\n",
    "\n",
    "print(\"User embeddings\")\n",
    "print(embedder_users.print_weights())\n",
    "\n",
    "print(\"Item embeddings\")\n",
    "print(embedder_items.print_weights())"
   ],
   "metadata": {
    "collapsed": false,
    "pycharm": {
     "name": "#%%\n"
    }
   }
  },
  {
   "cell_type": "code",
   "execution_count": 158,
   "outputs": [],
   "source": [
    "user_item = (1,1)\n",
    "ratings = [4.5, 2.5, 5.0]\n",
    "user_1 = torch.tensor(user_item[0], dtype=torch.long)\n",
    "item_1 = torch.tensor(user_item[1], dtype=torch.long)"
   ],
   "metadata": {
    "collapsed": false,
    "pycharm": {
     "name": "#%%\n"
    }
   }
  },
  {
   "cell_type": "code",
   "execution_count": 161,
   "outputs": [
    {
     "name": "stdout",
     "output_type": "stream",
     "text": [
      "tensor([ 0.5067,  0.2551,  0.7666, -0.6906,  0.1182],\n",
      "       grad_fn=<EmbeddingBackward>)\n",
      "torch.Size([5])\n"
     ]
    }
   ],
   "source": [
    "user_1_embs = embedder_users(user_1)\n",
    "print(user_1_embs)\n",
    "print(user_1_embs.shape)"
   ],
   "metadata": {
    "collapsed": false,
    "pycharm": {
     "name": "#%%\n"
    }
   }
  },
  {
   "cell_type": "code",
   "execution_count": 160,
   "outputs": [
    {
     "name": "stdout",
     "output_type": "stream",
     "text": [
      "tensor([-0.0895, -1.9731, -0.1074, -0.2042, -0.9967],\n",
      "       grad_fn=<EmbeddingBackward>)\n"
     ]
    }
   ],
   "source": [
    "item_1_embs = embedder_items(item_1)\n",
    "print(item_1_embs)"
   ],
   "metadata": {
    "collapsed": false,
    "pycharm": {
     "name": "#%%\n"
    }
   }
  },
  {
   "cell_type": "markdown",
   "source": [
    "## LSTM"
   ],
   "metadata": {
    "collapsed": false,
    "pycharm": {
     "name": "#%% md\n"
    }
   }
  },
  {
   "cell_type": "code",
   "execution_count": 192,
   "outputs": [],
   "source": [],
   "metadata": {
    "collapsed": false,
    "pycharm": {
     "name": "#%%\n"
    }
   }
  },
  {
   "cell_type": "markdown",
   "source": [
    "Get first sentence"
   ],
   "metadata": {
    "collapsed": false,
    "pycharm": {
     "name": "#%% md\n"
    }
   }
  },
  {
   "cell_type": "code",
   "execution_count": 196,
   "outputs": [
    {
     "name": "stdout",
     "output_type": "stream",
     "text": [
      "tensor([[ 6, 11,  2,  1],\n",
      "        [ 9,  4,  7,  1],\n",
      "        [10,  8,  5,  3]])\n",
      "tensor([ 6, 11,  2,  1])\n"
     ]
    }
   ],
   "source": [
    "print(input_batch)\n",
    "sentence1 = input_batch[0]\n",
    "\n",
    "print(sentence1)"
   ],
   "metadata": {
    "collapsed": false,
    "pycharm": {
     "name": "#%%\n"
    }
   }
  },
  {
   "cell_type": "code",
   "execution_count": 197,
   "outputs": [
    {
     "name": "stdout",
     "output_type": "stream",
     "text": [
      "torch.Size([4])\n"
     ]
    }
   ],
   "source": [
    "print(sentence1.shape)"
   ],
   "metadata": {
    "collapsed": false,
    "pycharm": {
     "name": "#%%\n"
    }
   }
  },
  {
   "cell_type": "code",
   "execution_count": 201,
   "outputs": [
    {
     "name": "stdout",
     "output_type": "stream",
     "text": [
      "tensor([ 6, 11,  2,  1])\n",
      "torch.Size([4])\n"
     ]
    }
   ],
   "source": [
    "def prepare_sequence(seq):\n",
    "    idxs = [word2id[w] for w in seq]\n",
    "    return torch.tensor(idxs, dtype=torch.long)\n",
    "\n",
    "input_ = prepare_sequence([\"hola\",\"mundo\",\"cruel\", \"<PAD>\"])\n",
    "print(input_)\n",
    "print(input_.shape)"
   ],
   "metadata": {
    "collapsed": false,
    "pycharm": {
     "name": "#%%\n"
    }
   }
  },
  {
   "cell_type": "code",
   "execution_count": 211,
   "outputs": [
    {
     "name": "stdout",
     "output_type": "stream",
     "text": [
      "tensor([[-1.1404e+00, -2.1343e+00,  1.2045e+00, -1.4209e-01,  4.3552e-04],\n",
      "        [-1.7869e+00, -6.0799e-01, -2.6232e-01,  3.7224e-01,  4.5826e-02],\n",
      "        [-1.0003e+00, -1.1581e+00,  4.7018e-01, -9.4365e-02, -1.1623e+00],\n",
      "        [ 2.0146e+00, -4.0179e-01,  5.9712e-01,  4.2814e-01, -5.2815e-01]],\n",
      "       grad_fn=<EmbeddingBackward>)\n"
     ]
    }
   ],
   "source": [
    "embed = nn.Embedding(vocabulary_size, embedding_dimension)\n",
    "print(embed(input_))"
   ],
   "metadata": {
    "collapsed": false,
    "pycharm": {
     "name": "#%%\n"
    }
   }
  },
  {
   "cell_type": "code",
   "execution_count": 214,
   "outputs": [
    {
     "name": "stdout",
     "output_type": "stream",
     "text": [
      "tensor([[ 8.0069e-02, -1.1752e+00, -3.9491e-03,  1.1250e-03, -5.0092e-01],\n",
      "        [ 5.4267e-01, -1.4515e+00,  5.6311e-01,  3.6198e-01, -8.6320e-01],\n",
      "        [-9.0353e-01,  6.0791e-02, -7.1391e-01,  1.5493e+00,  2.6345e-03],\n",
      "        [-7.7714e-01, -2.0969e+00,  1.7835e+00, -2.6246e+00,  4.4385e-02]],\n",
      "       grad_fn=<EmbeddingBackward>)\n",
      "torch.Size([4, 5])\n"
     ]
    }
   ],
   "source": [
    "word_embeddings = nn.Embedding(vocabulary_size, embedding_dimension)\n",
    "embeds = embedder(input_)\n",
    "print(embeds)\n",
    "print(embeds.shape)"
   ],
   "metadata": {
    "collapsed": false,
    "pycharm": {
     "name": "#%%\n"
    }
   }
  },
  {
   "cell_type": "code",
   "execution_count": 264,
   "outputs": [
    {
     "name": "stdout",
     "output_type": "stream",
     "text": [
      "Sentence size: 4\n",
      "torch.Size([4, 1, 5])\n"
     ]
    }
   ],
   "source": [
    "hidden_dim = 5\n",
    "lstm = nn.LSTM(embedding_dimension, hidden_dim)\n",
    "print(\"Sentence size:\",len(sentence1))\n",
    "embeds_in = embeds.view(len(sentence1), 1, -1)\n",
    "print(embeds_in.shape)"
   ],
   "metadata": {
    "collapsed": false,
    "pycharm": {
     "name": "#%%\n"
    }
   }
  },
  {
   "cell_type": "code",
   "execution_count": 265,
   "outputs": [
    {
     "name": "stdout",
     "output_type": "stream",
     "text": [
      "lstm_out\n",
      "tensor([[[-0.0151,  0.0159,  0.1053, -0.0526,  0.1303]],\n",
      "\n",
      "        [[-0.0725,  0.0265,  0.1696, -0.1545,  0.1563]],\n",
      "\n",
      "        [[ 0.0155,  0.0256,  0.0986, -0.1919,  0.2565]],\n",
      "\n",
      "        [[ 0.0378, -0.0372,  0.2352, -0.1561,  0.0454]]],\n",
      "       grad_fn=<StackBackward>)\n",
      "torch.Size([4, 1, 5])\n",
      "\n",
      "hn\n",
      "tensor([[[ 0.0378, -0.0372,  0.2352, -0.1561,  0.0454]]],\n",
      "       grad_fn=<StackBackward>)\n",
      "torch.Size([1, 1, 5])\n",
      "cn\n",
      "tensor([[[ 0.1578, -0.0787,  0.3620, -0.2398,  0.3460]]],\n",
      "       grad_fn=<StackBackward>)\n",
      "torch.Size([1, 1, 5])\n"
     ]
    }
   ],
   "source": [
    "lstm_out_, (hn_, cn_) = lstm(embeds_in)\n",
    "print(\"lstm_out\")\n",
    "print(lstm_out_)\n",
    "print(lstm_out_.shape)\n",
    "print()\n",
    "print(\"hn\")\n",
    "print(hn_)\n",
    "print(hn_.shape)\n",
    "print(\"cn\")\n",
    "print(cn_)\n",
    "print(cn_.shape)"
   ],
   "metadata": {
    "collapsed": false,
    "pycharm": {
     "name": "#%%\n"
    }
   }
  },
  {
   "cell_type": "markdown",
   "source": [
    "# Using the whole batch"
   ],
   "metadata": {
    "collapsed": false,
    "pycharm": {
     "name": "#%% md\n"
    }
   }
  },
  {
   "cell_type": "code",
   "execution_count": 244,
   "outputs": [
    {
     "name": "stdout",
     "output_type": "stream",
     "text": [
      "tensor([[ 6, 11,  2,  1],\n",
      "        [ 9,  4,  7,  1],\n",
      "        [10,  8,  5,  3]])\n",
      "torch.Size([3, 4])\n",
      "tensor([[[ 8.0069e-02, -1.1752e+00, -3.9491e-03,  1.1250e-03, -5.0092e-01],\n",
      "         [ 5.4267e-01, -1.4515e+00,  5.6311e-01,  3.6198e-01, -8.6320e-01],\n",
      "         [-9.0353e-01,  6.0791e-02, -7.1391e-01,  1.5493e+00,  2.6345e-03],\n",
      "         [-7.7714e-01, -2.0969e+00,  1.7835e+00, -2.6246e+00,  4.4385e-02]],\n",
      "\n",
      "        [[-3.0589e-01, -1.0460e-01,  1.0548e+00,  8.8961e-01,  1.1981e+00],\n",
      "         [ 5.9098e-01,  3.7616e-01, -3.1290e-01,  5.6046e-01,  1.0438e-01],\n",
      "         [-5.6224e-02, -5.7728e-01,  1.3235e-01, -1.6854e+00, -5.7394e-01],\n",
      "         [-7.7714e-01, -2.0969e+00,  1.7835e+00, -2.6246e+00,  4.4385e-02]],\n",
      "\n",
      "        [[ 1.0106e+00,  1.0115e+00,  3.5873e-01,  9.3127e-01,  1.6046e-01],\n",
      "         [-3.2366e-01,  7.3624e-01, -5.7591e-01,  4.0074e-01, -1.5145e+00],\n",
      "         [ 1.2133e+00,  1.3757e+00,  1.1258e+00,  8.7801e-01, -1.1513e+00],\n",
      "         [-3.7953e-01,  4.6506e-01, -2.4369e+00, -1.8846e-01,  2.1542e+00]]],\n",
      "       grad_fn=<EmbeddingBackward>)\n",
      "torch.Size([3, 4, 5])\n"
     ]
    }
   ],
   "source": [
    "print(input_batch)\n",
    "print(input_batch.shape)\n",
    "embeds_batch_in = embedder(input_batch)\n",
    "print(embeds_batch_in)\n",
    "print(embeds_batch_in.shape)"
   ],
   "metadata": {
    "collapsed": false,
    "pycharm": {
     "name": "#%%\n"
    }
   }
  },
  {
   "cell_type": "code",
   "execution_count": 245,
   "outputs": [
    {
     "name": "stdout",
     "output_type": "stream",
     "text": [
      "lstm_out\n",
      "tensor([[[ 0.0017,  0.0772, -0.0372,  0.0288,  0.1634]],\n",
      "\n",
      "        [[ 0.0200,  0.1465, -0.0208, -0.1301,  0.2687]],\n",
      "\n",
      "        [[-0.0867,  0.0040,  0.0236, -0.1199,  0.2948]],\n",
      "\n",
      "        [[ 0.0977,  0.1190, -0.0186,  0.1673,  0.0552]]],\n",
      "       grad_fn=<StackBackward>)\n",
      "torch.Size([4, 1, 5])\n",
      "\n",
      "hn\n",
      "tensor([[[ 0.0977,  0.1190, -0.0186,  0.1673,  0.0552]]],\n",
      "       grad_fn=<StackBackward>)\n",
      "torch.Size([1, 1, 5])\n",
      "\n",
      "cn\n",
      "tensor([[[ 0.1339,  0.1921, -0.0379,  0.3936,  0.2908]]],\n",
      "       grad_fn=<StackBackward>)\n",
      "torch.Size([1, 1, 5])\n"
     ]
    }
   ],
   "source": [
    "lstm_out, (hn, cn) = lstm(embeds_in)\n",
    "print(\"lstm_out\")\n",
    "print(lstm_out)\n",
    "print(lstm_out.shape)\n",
    "print()\n",
    "print(\"hn\")\n",
    "print(hn)\n",
    "print(hn.shape)\n",
    "print()\n",
    "print(\"cn\")\n",
    "print(cn)\n",
    "print(cn.shape)\n",
    "\n"
   ],
   "metadata": {
    "collapsed": false,
    "pycharm": {
     "name": "#%%\n"
    }
   }
  },
  {
   "cell_type": "markdown",
   "source": [
    "## Attention"
   ],
   "metadata": {
    "collapsed": false,
    "pycharm": {
     "name": "#%% md\n"
    }
   }
  },
  {
   "cell_type": "code",
   "execution_count": 246,
   "outputs": [],
   "source": [
    "class Attention(nn.Module):\n",
    "\n",
    "    def __init__(self, dimensions, attention_type='general'):\n",
    "        super(Attention, self).__init__()\n",
    "\n",
    "        if attention_type not in ['dot', 'general']:\n",
    "            raise ValueError(\"Invalid attention type selected\")\n",
    "\n",
    "        self.attention_type = attention_type\n",
    "        if self.attention_type == 'general':\n",
    "            self.linear_in = nn.Linear(dimensions, dimensions, bias=False)\n",
    "\n",
    "        self.linear_out = nn.Linear(dimensions * 2, dimensions, bias=False)\n",
    "        self.softmax = nn.Softmax(dim=-1)\n",
    "        self.tanh = nn.Tanh()\n",
    "\n",
    "    def forward(self, query, context):\n",
    "        \"\"\"\n",
    "\n",
    "        :param query: [batch_size, output_length, dimensions]\n",
    "        :param context: [batch_size, output_length, query_length]\n",
    "        :return:\n",
    "        output [batch_size, output_legth, dimensions]\n",
    "        weights [batch_size, output_length, query_length]\n",
    "        \"\"\"\n",
    "        batch_size, output_len, dimensions = query.size()\n",
    "        query_len = context.size(1)\n",
    "\n",
    "        if self.attention_type == 'general':\n",
    "            query = query.reshape(batch_size * output_len, dimensions)\n",
    "            query = self.linear_in(query)\n",
    "            query = query.reshape(batch_size, output_len, dimensions)\n",
    "\n",
    "        # 1. Compute a score for each encoder state\n",
    "        attention_scores = torch.bmm(query, context.transpose(1,2).contiguous())\n",
    "\n",
    "        # Compute weights across every context sequence\n",
    "        attention_scores = attention_scores.view(batch_size * output_len, query_len)\n",
    "        print(\"ATT SCORES\")\n",
    "        print(attention_scores.size())\n",
    "\n",
    "        # 2. Compute the attention weights\n",
    "        attention_weights = self.softmax(attention_scores)\n",
    "        attention_weights = attention_weights.view(batch_size, output_len, query_len)\n",
    "\n",
    "        # 3. Compute the new context vector S\n",
    "        mix = torch.bmm(attention_weights, context)\n",
    "\n",
    "        # 4. Concatenate context vector with output of previous time step\n",
    "        combined = torch.cat((mix, query), dim=2)\n",
    "        combined = combined.view(batch_size * output_len, 2 * dimensions)\n",
    "\n",
    "        #\n",
    "        output = self.linear_out(combined).view(batch_size, output_len, dimensions)\n",
    "        output = self.tanh(output)\n",
    "\n",
    "        return mix, output, attention_weights"
   ],
   "metadata": {
    "collapsed": false,
    "pycharm": {
     "name": "#%%\n"
    }
   }
  },
  {
   "cell_type": "code",
   "execution_count": 247,
   "outputs": [
    {
     "name": "stdout",
     "output_type": "stream",
     "text": [
      "Users embeddings as Query?\n",
      "tensor([ 0.5067,  0.2551,  0.7666, -0.6906,  0.1182],\n",
      "       grad_fn=<EmbeddingBackward>)\n",
      "torch.Size([5])\n"
     ]
    }
   ],
   "source": [
    "print(\"Users embeddings as Query?\")\n",
    "print(user_1_embs)\n",
    "print(user_1_embs.shape)"
   ],
   "metadata": {
    "collapsed": false,
    "pycharm": {
     "name": "#%%\n"
    }
   }
  },
  {
   "cell_type": "code",
   "execution_count": 266,
   "outputs": [
    {
     "name": "stdout",
     "output_type": "stream",
     "text": [
      "4\n",
      "tensor([-0.6129, -0.3982, -1.7458,  1.2110])\n",
      "lstm_out_[0]).squeeze()\n",
      "tensor([-0.0151,  0.0159,  0.1053, -0.0526,  0.1303],\n",
      "       grad_fn=<SqueezeBackward0>)\n",
      "torch.Size([5])\n"
     ]
    }
   ],
   "source": [
    "print(lstm_out_.size(0))\n",
    "aligned_weights = torch.randn(lstm_out_.size(0))\n",
    "print(aligned_weights)\n",
    "\n",
    "print(\"lstm_out_[0]).squeeze()\")\n",
    "x_ = lstm_out_[0].squeeze()\n",
    "print(x_)\n",
    "print(x_.shape)"
   ],
   "metadata": {
    "collapsed": false,
    "pycharm": {
     "name": "#%%\n"
    }
   }
  },
  {
   "cell_type": "markdown",
   "source": [
    "### dot attention"
   ],
   "metadata": {
    "collapsed": false,
    "pycharm": {
     "name": "#%% md\n"
    }
   }
  },
  {
   "cell_type": "code",
   "execution_count": null,
   "outputs": [],
   "source": [],
   "metadata": {
    "collapsed": false,
    "pycharm": {
     "name": "#%%\n"
    }
   }
  },
  {
   "cell_type": "markdown",
   "source": [
    "Atencion con el usuario?"
   ],
   "metadata": {
    "collapsed": false,
    "pycharm": {
     "name": "#%% md\n"
    }
   }
  },
  {
   "cell_type": "code",
   "execution_count": 267,
   "outputs": [],
   "source": [
    "for i in range(lstm_out_.size(0)):\n",
    "    aligned_weights[i] = torch.dot(user_1_embs, lstm_out_[i].squeeze())"
   ],
   "metadata": {
    "collapsed": false,
    "pycharm": {
     "name": "#%%\n"
    }
   }
  },
  {
   "cell_type": "code",
   "execution_count": 268,
   "outputs": [
    {
     "name": "stdout",
     "output_type": "stream",
     "text": [
      "tensor([0.1289, 0.2252, 0.2528, 0.3032], grad_fn=<CopySlices>)\n",
      "torch.Size([4])\n",
      "tensor([[0.1289, 0.2252, 0.2528, 0.3032]], grad_fn=<UnsqueezeBackward0>)\n",
      "torch.Size([1, 4])\n"
     ]
    }
   ],
   "source": [
    "print(aligned_weights)\n",
    "print(aligned_weights.shape)\n",
    "print(aligned_weights.unsqueeze(0))\n",
    "print(aligned_weights.unsqueeze(0).shape)"
   ],
   "metadata": {
    "collapsed": false,
    "pycharm": {
     "name": "#%%\n"
    }
   }
  },
  {
   "cell_type": "code",
   "execution_count": 276,
   "outputs": [
    {
     "name": "stdout",
     "output_type": "stream",
     "text": [
      "tensor([[0.2261, 0.2489, 0.2559, 0.2691]], grad_fn=<SoftmaxBackward>)\n",
      "torch.Size([1, 4])\n",
      "tensor([1.])\n"
     ]
    },
    {
     "name": "stderr",
     "output_type": "stream",
     "text": [
      "/media/eduardo/SSD_DATA/Appl ML Projects/venv/lib/python3.6/site-packages/ipykernel_launcher.py:1: UserWarning: Implicit dimension choice for softmax has been deprecated. Change the call to include dim=X as an argument.\n",
      "  \"\"\"Entry point for launching an IPython kernel.\n"
     ]
    }
   ],
   "source": [
    "aligned_weights_ = F.softmax(aligned_weights.unsqueeze(0))\n",
    "print(aligned_weights_)\n",
    "print(aligned_weights_.shape)\n",
    "print(torch.sum(aligned_weights_.detach(), dim=1))"
   ],
   "metadata": {
    "collapsed": false,
    "pycharm": {
     "name": "#%%\n"
    }
   }
  },
  {
   "cell_type": "markdown",
   "source": [
    "Atencion con el item?"
   ],
   "metadata": {
    "collapsed": false,
    "pycharm": {
     "name": "#%% md\n"
    }
   }
  },
  {
   "cell_type": "code",
   "execution_count": 277,
   "outputs": [],
   "source": [
    "for i in range(lstm_out_.size(0)):\n",
    "    aligned_weights[i] = torch.dot(item_1_embs, lstm_out_[i].squeeze())"
   ],
   "metadata": {
    "collapsed": false,
    "pycharm": {
     "name": "#%%\n"
    }
   }
  },
  {
   "cell_type": "code",
   "execution_count": 278,
   "outputs": [
    {
     "name": "stdout",
     "output_type": "stream",
     "text": [
      "tensor([-0.1604, -0.1883, -0.2789,  0.0313], grad_fn=<CopySlices>)\n",
      "torch.Size([4])\n",
      "tensor([[-0.1604, -0.1883, -0.2789,  0.0313]], grad_fn=<UnsqueezeBackward0>)\n",
      "torch.Size([1, 4])\n"
     ]
    }
   ],
   "source": [
    "print(aligned_weights)\n",
    "print(aligned_weights.shape)\n",
    "print(aligned_weights.unsqueeze(0))\n",
    "print(aligned_weights.unsqueeze(0).shape)"
   ],
   "metadata": {
    "collapsed": false,
    "pycharm": {
     "name": "#%%\n"
    }
   }
  },
  {
   "cell_type": "code",
   "execution_count": 279,
   "outputs": [
    {
     "name": "stdout",
     "output_type": "stream",
     "text": [
      "tensor([[0.2456, 0.2388, 0.2181, 0.2975]], grad_fn=<SoftmaxBackward>)\n",
      "torch.Size([1, 4])\n",
      "tensor([1.])\n"
     ]
    },
    {
     "name": "stderr",
     "output_type": "stream",
     "text": [
      "/media/eduardo/SSD_DATA/Appl ML Projects/venv/lib/python3.6/site-packages/ipykernel_launcher.py:1: UserWarning: Implicit dimension choice for softmax has been deprecated. Change the call to include dim=X as an argument.\n",
      "  \"\"\"Entry point for launching an IPython kernel.\n"
     ]
    }
   ],
   "source": [
    "aligned_weights_ = F.softmax(aligned_weights.unsqueeze(0))\n",
    "print(aligned_weights_)\n",
    "print(aligned_weights_.shape)\n",
    "print(torch.sum(aligned_weights_.detach(), dim=1))\n",
    "\n"
   ],
   "metadata": {
    "collapsed": false,
    "pycharm": {
     "name": "#%%\n"
    }
   }
  },
  {
   "cell_type": "markdown",
   "source": [
    "New Context Vector"
   ],
   "metadata": {
    "collapsed": false,
    "pycharm": {
     "name": "#%% md\n"
    }
   }
  },
  {
   "cell_type": "code",
   "execution_count": 283,
   "outputs": [
    {
     "name": "stdout",
     "output_type": "stream",
     "text": [
      "torch.Size([1, 1, 4])\n",
      "torch.Size([1, 4, 5])\n",
      "tensor([[[-0.0064,  0.0047,  0.1578, -0.1381,  0.1388]]],\n",
      "       grad_fn=<BmmBackward>)\n",
      "torch.Size([1, 1, 5])\n"
     ]
    }
   ],
   "source": [
    "print(aligned_weights_.unsqueeze(0).shape)\n",
    "print(lstm_out_.view(1,-1,hidden_dim).shape)\n",
    "\n",
    "#context_vector = torch.bmm(aligned_weights.unsqueeze(0), encoder_hidden_state.view(1, -1 ,self.hidden_size))\n",
    "context_vector = torch.bmm(aligned_weights_.unsqueeze(0), lstm_out_.view(1,-1,hidden_dim))\n",
    "\n",
    "print(context_vector)\n",
    "print(context_vector.shape)"
   ],
   "metadata": {
    "collapsed": false,
    "pycharm": {
     "name": "#%%\n"
    }
   }
  },
  {
   "cell_type": "markdown",
   "source": [
    "## Concatenate context_vector, user_emb, item_emb"
   ],
   "metadata": {
    "collapsed": false,
    "pycharm": {
     "name": "#%% md\n"
    }
   }
  },
  {
   "cell_type": "code",
   "execution_count": 289,
   "outputs": [
    {
     "name": "stdout",
     "output_type": "stream",
     "text": [
      "tensor([[[-0.0064,  0.0047,  0.1578, -0.1381,  0.1388]]],\n",
      "       grad_fn=<BmmBackward>)\n",
      "torch.Size([1, 1, 5])\n",
      "tensor([[-0.0064,  0.0047,  0.1578, -0.1381,  0.1388]],\n",
      "       grad_fn=<SelectBackward>)\n",
      "torch.Size([1, 5])\n",
      "\n",
      "torch.Size([1, 5])\n",
      "torch.Size([1, 5])\n"
     ]
    }
   ],
   "source": [
    "print(context_vector)\n",
    "print(context_vector.shape)\n",
    "print(context_vector[0])\n",
    "print(context_vector[0].shape)\n",
    "print()\n",
    "print(user_1_embs.unsqueeze(0).shape)\n",
    "print(item_1_embs.unsqueeze(0).shape)"
   ],
   "metadata": {
    "collapsed": false,
    "pycharm": {
     "name": "#%%\n"
    }
   }
  },
  {
   "cell_type": "code",
   "execution_count": 292,
   "outputs": [
    {
     "name": "stdout",
     "output_type": "stream",
     "text": [
      "tensor([[-0.0064,  0.0047,  0.1578, -0.1381,  0.1388],\n",
      "        [ 0.5067,  0.2551,  0.7666, -0.6906,  0.1182],\n",
      "        [-0.0895, -1.9731, -0.1074, -0.2042, -0.9967]], grad_fn=<CatBackward>)\n",
      "torch.Size([3, 5])\n"
     ]
    }
   ],
   "source": [
    "x = torch.cat((context_vector[0], user_1_embs.unsqueeze(0), item_1_embs.unsqueeze(0)))\n",
    "print(x)\n",
    "print(x.shape)"
   ],
   "metadata": {
    "collapsed": false,
    "pycharm": {
     "name": "#%%\n"
    }
   }
  },
  {
   "cell_type": "code",
   "execution_count": 294,
   "outputs": [
    {
     "name": "stdout",
     "output_type": "stream",
     "text": [
      "tensor([[[-0.0064,  0.0047,  0.1578, -0.1381,  0.1388],\n",
      "         [ 0.5067,  0.2551,  0.7666, -0.6906,  0.1182],\n",
      "         [-0.0895, -1.9731, -0.1074, -0.2042, -0.9967]]],\n",
      "       grad_fn=<UnsqueezeBackward0>)\n",
      "torch.Size([1, 3, 5])\n"
     ]
    }
   ],
   "source": [
    "print(x.unsqueeze(0))\n",
    "print(x.unsqueeze(0).shape)\n"
   ],
   "metadata": {
    "collapsed": false,
    "pycharm": {
     "name": "#%%\n"
    }
   }
  },
  {
   "cell_type": "code",
   "execution_count": 296,
   "outputs": [
    {
     "name": "stdout",
     "output_type": "stream",
     "text": [
      "tensor([[-0.0064,  0.0047,  0.1578, -0.1381,  0.1388,  0.5067,  0.2551,  0.7666,\n",
      "         -0.6906,  0.1182, -0.0895, -1.9731, -0.1074, -0.2042, -0.9967]],\n",
      "       grad_fn=<CatBackward>)\n",
      "torch.Size([1, 15])\n"
     ]
    }
   ],
   "source": [
    "x_ = torch.cat((context_vector[0], user_1_embs.unsqueeze(0), item_1_embs.unsqueeze(0)), dim=1)\n",
    "print(x_)\n",
    "print(x_.shape)"
   ],
   "metadata": {
    "collapsed": false,
    "pycharm": {
     "name": "#%%\n"
    }
   }
  },
  {
   "cell_type": "code",
   "execution_count": 302,
   "outputs": [
    {
     "name": "stdout",
     "output_type": "stream",
     "text": [
      "tensor([-0.0064,  0.0047,  0.1578, -0.1381,  0.1388,  0.5067,  0.2551,  0.7666,\n",
      "        -0.6906,  0.1182, -0.0895, -1.9731, -0.1074, -0.2042, -0.9967],\n",
      "       grad_fn=<SqueezeBackward0>)\n",
      "torch.Size([15])\n"
     ]
    }
   ],
   "source": [
    "x_in = x_.squeeze()\n",
    "print(x_in)\n",
    "print(x_in.shape)"
   ],
   "metadata": {
    "collapsed": false,
    "pycharm": {
     "name": "#%%\n"
    }
   }
  },
  {
   "cell_type": "code",
   "execution_count": 311,
   "outputs": [
    {
     "name": "stdout",
     "output_type": "stream",
     "text": [
      "Linear(in_features=15, out_features=32, bias=True)\n"
     ]
    }
   ],
   "source": [
    "n_latent = 32\n",
    "lin1 = nn.Linear(x_in.shape[0], 32)\n",
    "print(lin1)"
   ],
   "metadata": {
    "collapsed": false,
    "pycharm": {
     "name": "#%%\n"
    }
   }
  },
  {
   "cell_type": "code",
   "execution_count": 312,
   "outputs": [
    {
     "name": "stdout",
     "output_type": "stream",
     "text": [
      "tensor([[-0.4468,  0.0611,  0.4502,  0.5875, -0.5259, -0.1126,  0.1453,  0.8601,\n",
      "         -0.1848, -0.5170, -0.9869, -0.3394,  0.5765,  0.0768, -0.3851, -0.2077,\n",
      "          0.2070, -0.1856,  0.1159,  0.1899,  0.6776, -0.6977, -0.0860, -0.2530,\n",
      "         -0.8079,  0.1748, -0.2179, -0.2496, -0.4019, -0.4409, -0.3317,  0.5055]],\n",
      "       grad_fn=<AddmmBackward>)\n",
      "torch.Size([1, 32])\n"
     ]
    }
   ],
   "source": [
    "z1 = lin1(x_)\n",
    "print(z1)\n",
    "print(z1.shape)"
   ],
   "metadata": {
    "collapsed": false,
    "pycharm": {
     "name": "#%%\n"
    }
   }
  },
  {
   "cell_type": "code",
   "execution_count": 315,
   "outputs": [
    {
     "name": "stdout",
     "output_type": "stream",
     "text": [
      "tensor([[0.0000, 0.0611, 0.4502, 0.5875, 0.0000, 0.0000, 0.1453, 0.8601, 0.0000,\n",
      "         0.0000, 0.0000, 0.0000, 0.5765, 0.0768, 0.0000, 0.0000, 0.2070, 0.0000,\n",
      "         0.1159, 0.1899, 0.6776, 0.0000, 0.0000, 0.0000, 0.0000, 0.1748, 0.0000,\n",
      "         0.0000, 0.0000, 0.0000, 0.0000, 0.5055]], grad_fn=<ReluBackward0>)\n",
      "torch.Size([1, 32])\n"
     ]
    }
   ],
   "source": [
    "out= F.relu(z1)\n",
    "print(out)\n",
    "print(out.shape)"
   ],
   "metadata": {
    "collapsed": false,
    "pycharm": {
     "name": "#%%\n"
    }
   }
  },
  {
   "cell_type": "code",
   "execution_count": 316,
   "outputs": [
    {
     "name": "stdout",
     "output_type": "stream",
     "text": [
      "torch.Size([32])\n"
     ]
    }
   ],
   "source": [
    "out = out.squeeze()\n",
    "print(out.shape)\n",
    "reg = nn.Linear(out.shape[0], 1)\n",
    "yr1 = reg(out)"
   ],
   "metadata": {
    "collapsed": false,
    "pycharm": {
     "name": "#%%\n"
    }
   }
  },
  {
   "cell_type": "code",
   "execution_count": 317,
   "outputs": [
    {
     "name": "stdout",
     "output_type": "stream",
     "text": [
      "tensor([0.0258], grad_fn=<AddBackward0>)\n",
      "torch.Size([1])\n"
     ]
    }
   ],
   "source": [
    "print(yr1)\n",
    "print(yr1.shape)"
   ],
   "metadata": {
    "collapsed": false,
    "pycharm": {
     "name": "#%%\n"
    }
   }
  },
  {
   "cell_type": "markdown",
   "source": [
    "Y adjust"
   ],
   "metadata": {
    "collapsed": false,
    "pycharm": {
     "name": "#%% md\n"
    }
   }
  },
  {
   "cell_type": "code",
   "execution_count": 318,
   "outputs": [
    {
     "name": "stdout",
     "output_type": "stream",
     "text": [
      "5.5\n"
     ]
    }
   ],
   "source": [
    "y_range = (0, 5.5)\n",
    "y_adjust= (y_range[1] - y_range[0]) + y_range[0]\n",
    "print(y_adjust)"
   ],
   "metadata": {
    "collapsed": false,
    "pycharm": {
     "name": "#%%\n"
    }
   }
  },
  {
   "cell_type": "code",
   "execution_count": 322,
   "outputs": [
    {
     "name": "stdout",
     "output_type": "stream",
     "text": [
      "tensor([0.1419], grad_fn=<MulBackward0>)\n"
     ]
    }
   ],
   "source": [
    "print(yr1 * y_adjust)"
   ],
   "metadata": {
    "collapsed": false,
    "pycharm": {
     "name": "#%%\n"
    }
   }
  },
  {
   "cell_type": "markdown",
   "source": [
    "Second head"
   ],
   "metadata": {
    "collapsed": false,
    "pycharm": {
     "name": "#%% md\n"
    }
   }
  },
  {
   "cell_type": "code",
   "execution_count": 323,
   "outputs": [
    {
     "name": "stdout",
     "output_type": "stream",
     "text": [
      "Linear(in_features=15, out_features=32, bias=True)\n"
     ]
    }
   ],
   "source": [
    "lin2 = nn.Linear(x_in.shape[0], 32)\n",
    "print(lin2)"
   ],
   "metadata": {
    "collapsed": false,
    "pycharm": {
     "name": "#%%\n"
    }
   }
  },
  {
   "cell_type": "code",
   "execution_count": 324,
   "outputs": [
    {
     "name": "stdout",
     "output_type": "stream",
     "text": [
      "tensor([[ 0.1459, -0.1948,  0.5146, -0.1132,  0.1092,  0.5377,  0.2426,  0.0366,\n",
      "          0.0909,  0.5044,  0.2836, -0.4052, -0.0088,  0.0284,  0.1386,  0.4506,\n",
      "          0.3726,  0.1563,  0.0860,  0.0104,  0.0431,  0.3695, -0.7087, -0.5875,\n",
      "         -0.0440, -0.2235,  0.2613, -0.8489, -0.0332, -0.3492, -0.2408, -0.0486]],\n",
      "       grad_fn=<AddmmBackward>)\n",
      "torch.Size([1, 32])\n"
     ]
    }
   ],
   "source": [
    "z2 = lin2(x_)\n",
    "print(z2)\n",
    "print(z2.shape)"
   ],
   "metadata": {
    "collapsed": false,
    "pycharm": {
     "name": "#%%\n"
    }
   }
  },
  {
   "cell_type": "code",
   "execution_count": 325,
   "outputs": [
    {
     "name": "stdout",
     "output_type": "stream",
     "text": [
      "tensor([[0.1459, 0.0000, 0.5146, 0.0000, 0.1092, 0.5377, 0.2426, 0.0366, 0.0909,\n",
      "         0.5044, 0.2836, 0.0000, 0.0000, 0.0284, 0.1386, 0.4506, 0.3726, 0.1563,\n",
      "         0.0860, 0.0104, 0.0431, 0.3695, 0.0000, 0.0000, 0.0000, 0.0000, 0.2613,\n",
      "         0.0000, 0.0000, 0.0000, 0.0000, 0.0000]], grad_fn=<ReluBackward0>)\n",
      "torch.Size([1, 32])\n"
     ]
    }
   ],
   "source": [
    "out= F.relu(z2)\n",
    "print(out)\n",
    "print(out.shape)"
   ],
   "metadata": {
    "collapsed": false,
    "pycharm": {
     "name": "#%%\n"
    }
   }
  },
  {
   "cell_type": "code",
   "execution_count": 326,
   "outputs": [
    {
     "name": "stdout",
     "output_type": "stream",
     "text": [
      "torch.Size([32])\n"
     ]
    }
   ],
   "source": [
    "out = out.squeeze()\n",
    "print(out.shape)\n",
    "reg = nn.Linear(out.shape[0], 1)\n",
    "yr2 = reg(out)"
   ],
   "metadata": {
    "collapsed": false,
    "pycharm": {
     "name": "#%%\n"
    }
   }
  },
  {
   "cell_type": "code",
   "execution_count": 327,
   "outputs": [
    {
     "name": "stdout",
     "output_type": "stream",
     "text": [
      "tensor([0.0960], grad_fn=<AddBackward0>)\n",
      "torch.Size([1])\n"
     ]
    }
   ],
   "source": [
    "print(yr2)\n",
    "print(yr2.shape)"
   ],
   "metadata": {
    "collapsed": false,
    "pycharm": {
     "name": "#%%\n"
    }
   }
  },
  {
   "cell_type": "code",
   "execution_count": 328,
   "outputs": [
    {
     "name": "stdout",
     "output_type": "stream",
     "text": [
      "tensor([0.5280], grad_fn=<MulBackward0>)\n"
     ]
    }
   ],
   "source": [
    "print(yr2 * y_adjust)\n"
   ],
   "metadata": {
    "collapsed": false,
    "pycharm": {
     "name": "#%%\n"
    }
   }
  },
  {
   "cell_type": "code",
   "execution_count": null,
   "outputs": [],
   "source": [],
   "metadata": {
    "collapsed": false,
    "pycharm": {
     "name": "#%%\n"
    }
   }
  }
 ],
 "metadata": {
  "kernelspec": {
   "display_name": "Python 3",
   "language": "python",
   "name": "python3"
  },
  "language_info": {
   "codemirror_mode": {
    "name": "ipython",
    "version": 2
   },
   "file_extension": ".py",
   "mimetype": "text/x-python",
   "name": "python",
   "nbconvert_exporter": "python",
   "pygments_lexer": "ipython2",
   "version": "2.7.6"
  }
 },
 "nbformat": 4,
 "nbformat_minor": 0
}