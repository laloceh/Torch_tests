{
 "cells": [
  {
   "cell_type": "code",
   "execution_count": 52,
   "metadata": {
    "collapsed": true
   },
   "outputs": [],
   "source": [
    "import torch\n",
    "import torch.nn as nn\n",
    "import numpy as np"
   ]
  },
  {
   "cell_type": "code",
   "execution_count": 126,
   "outputs": [
    {
     "name": "stdout",
     "output_type": "stream",
     "text": [
      "[['hola', 'mundo', 'cruel'], ['me', 'llamo', 'eduardo'], ['buenas', 'noches', 'a', 'todos']]\n",
      "{'cruel', 'todos', 'llamo', 'a', 'hola', 'eduardo', 'noches', 'me', 'buenas', 'mundo'}\n",
      "Vocabulary length 12\n"
     ]
    }
   ],
   "source": [
    "texts=[\"hola mundo cruel\", \"me llamo eduardo\", \"buenas noches a todos\"]\n",
    "\n",
    "tokens = []\n",
    "vocabulary = set()\n",
    "for text in texts:\n",
    "    toks = text.split()\n",
    "    tokens.append(toks)\n",
    "    for w in toks:\n",
    "        vocabulary.add(w)\n",
    "\n",
    "print(tokens)\n",
    "\n",
    "unk_token = \"<UNK>\"\n",
    "pad_token = '<PAD>'\n",
    "print(vocabulary)\n",
    "\n",
    "print(f\"Vocabulary length {len(vocabulary) + 2}\")"
   ],
   "metadata": {
    "collapsed": false,
    "pycharm": {
     "name": "#%%\n"
    }
   }
  },
  {
   "cell_type": "code",
   "execution_count": 127,
   "outputs": [
    {
     "name": "stdout",
     "output_type": "stream",
     "text": [
      "{'<UNK>': 0, '<PAD>': 1, 'cruel': 2, 'todos': 3, 'llamo': 4, 'a': 5, 'hola': 6, 'eduardo': 7, 'noches': 8, 'me': 9, 'buenas': 10, 'mundo': 11}\n",
      "{0: '<UNK>', 1: '<PAD>', 2: 'cruel', 3: 'todos', 4: 'llamo', 5: 'a', 6: 'hola', 7: 'eduardo', 8: 'noches', 9: 'me', 10: 'buenas', 11: 'mundo'}\n",
      "Vocabulary length 12\n"
     ]
    }
   ],
   "source": [
    "word2id = {unk_token:0, pad_token:1}\n",
    "id2word = {0:unk_token, 1:pad_token}\n",
    "\n",
    "for i, w in enumerate(vocabulary,2):\n",
    "    word2id[w] = i\n",
    "    id2word[i] = w\n",
    "\n",
    "print(word2id)\n",
    "print(id2word)\n",
    "\n",
    "vocabulary_size = len(word2id)\n",
    "print(f\"Vocabulary length {vocabulary_size}\")"
   ],
   "metadata": {
    "collapsed": false,
    "pycharm": {
     "name": "#%%\n"
    }
   }
  },
  {
   "cell_type": "code",
   "execution_count": 128,
   "outputs": [],
   "source": [
    "def numeralize(text):\n",
    "    sent = []\n",
    "    for w in text:\n",
    "        if w in vocabulary:\n",
    "            sent.append(word2id[w])\n",
    "        else:\n",
    "            sent.append(0)  # <UNK>\n",
    "    return sent"
   ],
   "metadata": {
    "collapsed": false,
    "pycharm": {
     "name": "#%%\n"
    }
   }
  },
  {
   "cell_type": "code",
   "execution_count": 129,
   "outputs": [
    {
     "name": "stdout",
     "output_type": "stream",
     "text": [
      "[6, 0]\n"
     ]
    }
   ],
   "source": [
    "text = [\"hola\", \"lalo\"]\n",
    "print(numeralize(text))"
   ],
   "metadata": {
    "collapsed": false,
    "pycharm": {
     "name": "#%%\n"
    }
   }
  },
  {
   "cell_type": "code",
   "execution_count": 130,
   "outputs": [
    {
     "name": "stdout",
     "output_type": "stream",
     "text": [
      "[[6, 11, 2], [9, 4, 7], [10, 8, 5, 3]]\n"
     ]
    }
   ],
   "source": [
    "text_numbers = [numeralize(tok) for tok in tokens]\n",
    "print(text_numbers)"
   ],
   "metadata": {
    "collapsed": false,
    "pycharm": {
     "name": "#%%\n"
    }
   }
  },
  {
   "cell_type": "code",
   "execution_count": 131,
   "outputs": [
    {
     "name": "stdout",
     "output_type": "stream",
     "text": [
      "Largest text of 4 words\n"
     ]
    }
   ],
   "source": [
    "larger = 0\n",
    "for text in text_numbers:\n",
    "    if len(text) > larger:\n",
    "        larger = len(text)\n",
    "\n",
    "print(f\"Largest text of {larger} words\")"
   ],
   "metadata": {
    "collapsed": false,
    "pycharm": {
     "name": "#%%\n"
    }
   }
  },
  {
   "cell_type": "code",
   "execution_count": 132,
   "outputs": [],
   "source": [
    "def pad_sentence(text):\n",
    "    if len(text) < larger:\n",
    "        diff = larger - len(text)\n",
    "        for i in range(diff):\n",
    "            text.append(1)  # add token \"<PAD>\"\n",
    "    return text"
   ],
   "metadata": {
    "collapsed": false,
    "pycharm": {
     "name": "#%%\n"
    }
   }
  },
  {
   "cell_type": "code",
   "execution_count": 133,
   "outputs": [
    {
     "name": "stdout",
     "output_type": "stream",
     "text": [
      "[[6, 11, 2, 1], [9, 4, 7, 1], [10, 8, 5, 3]]\n"
     ]
    }
   ],
   "source": [
    "padded_text = [pad_sentence(text) for text in text_numbers]\n",
    "print(padded_text)"
   ],
   "metadata": {
    "collapsed": false,
    "pycharm": {
     "name": "#%%\n"
    }
   }
  },
  {
   "cell_type": "code",
   "execution_count": 134,
   "outputs": [],
   "source": [
    "def textify(text):\n",
    "    words = []\n",
    "    for number in text:\n",
    "        words.append(id2word[number])\n",
    "    return words"
   ],
   "metadata": {
    "collapsed": false,
    "pycharm": {
     "name": "#%%\n"
    }
   }
  },
  {
   "cell_type": "code",
   "execution_count": 135,
   "outputs": [
    {
     "name": "stdout",
     "output_type": "stream",
     "text": [
      "[['hola', 'mundo', 'cruel', '<PAD>'], ['me', 'llamo', 'eduardo', '<PAD>'], ['buenas', 'noches', 'a', 'todos']]\n"
     ]
    }
   ],
   "source": [
    "text_again = [textify(text) for text in padded_text]\n",
    "print(text_again)"
   ],
   "metadata": {
    "collapsed": false,
    "pycharm": {
     "name": "#%%\n"
    }
   }
  },
  {
   "cell_type": "code",
   "execution_count": 146,
   "outputs": [],
   "source": [
    "class Embedder(nn.Module):\n",
    "    def __init__(self, vocab_size, emb_dim):\n",
    "        super(Embedder, self).__init__()\n",
    "        self.embed = nn.Embedding(vocab_size+1, emb_dim)    # +1 for the ids not starting with 0\n",
    "\n",
    "    def forward(self, x):\n",
    "        return self.embed(x)\n",
    "\n",
    "    def print_weights(self):\n",
    "        return self.embed.weight"
   ],
   "metadata": {
    "collapsed": false,
    "pycharm": {
     "name": "#%%\n"
    }
   }
  },
  {
   "cell_type": "code",
   "execution_count": 147,
   "outputs": [
    {
     "name": "stdout",
     "output_type": "stream",
     "text": [
      "[6, 11, 2, 1]\n",
      "<class 'list'>\n"
     ]
    }
   ],
   "source": [
    "embedding_dimension = 5\n",
    "\n",
    "text1 = padded_text[0]\n",
    "print(text1)\n",
    "print(type(text1))"
   ],
   "metadata": {
    "collapsed": false,
    "pycharm": {
     "name": "#%%\n"
    }
   }
  },
  {
   "cell_type": "code",
   "execution_count": 148,
   "outputs": [
    {
     "name": "stdout",
     "output_type": "stream",
     "text": [
      "[[ 6 11  2  1]\n",
      " [ 9  4  7  1]\n",
      " [10  8  5  3]]\n",
      "<class 'numpy.ndarray'>\n",
      "[ 6 11  2  1]\n",
      "<class 'numpy.ndarray'>\n"
     ]
    }
   ],
   "source": [
    "batch = np.vstack(padded_text)\n",
    "print(batch)\n",
    "print(type(batch))\n",
    "print(batch[0])\n",
    "print(type(batch[0]))"
   ],
   "metadata": {
    "collapsed": false,
    "pycharm": {
     "name": "#%%\n"
    }
   }
  },
  {
   "cell_type": "code",
   "execution_count": 149,
   "outputs": [
    {
     "name": "stdout",
     "output_type": "stream",
     "text": [
      "tensor([[ 6, 11,  2,  1],\n",
      "        [ 9,  4,  7,  1],\n",
      "        [10,  8,  5,  3]])\n"
     ]
    }
   ],
   "source": [
    "input_batch = torch.tensor(batch, dtype=torch.long)\n",
    "print(input_batch)"
   ],
   "metadata": {
    "collapsed": false,
    "pycharm": {
     "name": "#%%\n"
    }
   }
  },
  {
   "cell_type": "code",
   "execution_count": 150,
   "outputs": [
    {
     "name": "stdout",
     "output_type": "stream",
     "text": [
      "tensor([ 6, 11,  2,  1])\n",
      "<class 'torch.Tensor'>\n"
     ]
    }
   ],
   "source": [
    "print(input_batch[0])\n",
    "print(type(input_batch[0]))"
   ],
   "metadata": {
    "collapsed": false,
    "pycharm": {
     "name": "#%%\n"
    }
   }
  },
  {
   "cell_type": "code",
   "execution_count": 151,
   "outputs": [
    {
     "name": "stdout",
     "output_type": "stream",
     "text": [
      "Parameter containing:\n",
      "tensor([[-1.5265e+00, -1.4884e+00,  5.3641e-01, -2.4606e-01,  4.5496e-01],\n",
      "        [-7.7714e-01, -2.0969e+00,  1.7835e+00, -2.6246e+00,  4.4385e-02],\n",
      "        [-9.0353e-01,  6.0791e-02, -7.1391e-01,  1.5493e+00,  2.6345e-03],\n",
      "        [-3.7953e-01,  4.6506e-01, -2.4369e+00, -1.8846e-01,  2.1542e+00],\n",
      "        [ 5.9098e-01,  3.7616e-01, -3.1290e-01,  5.6046e-01,  1.0438e-01],\n",
      "        [ 1.2133e+00,  1.3757e+00,  1.1258e+00,  8.7801e-01, -1.1513e+00],\n",
      "        [ 8.0069e-02, -1.1752e+00, -3.9491e-03,  1.1250e-03, -5.0092e-01],\n",
      "        [-5.6224e-02, -5.7728e-01,  1.3235e-01, -1.6854e+00, -5.7394e-01],\n",
      "        [-3.2366e-01,  7.3624e-01, -5.7591e-01,  4.0074e-01, -1.5145e+00],\n",
      "        [-3.0589e-01, -1.0460e-01,  1.0548e+00,  8.8961e-01,  1.1981e+00],\n",
      "        [ 1.0106e+00,  1.0115e+00,  3.5873e-01,  9.3127e-01,  1.6046e-01],\n",
      "        [ 5.4267e-01, -1.4515e+00,  5.6311e-01,  3.6198e-01, -8.6320e-01],\n",
      "        [ 8.8370e-01, -4.5666e-01,  8.0039e-01, -2.6311e+00,  2.1566e-01]],\n",
      "       requires_grad=True)\n"
     ]
    }
   ],
   "source": [
    "embedder = Embedder(vocabulary_size, embedding_dimension)\n",
    "print(embedder.print_weights())\n"
   ],
   "metadata": {
    "collapsed": false,
    "pycharm": {
     "name": "#%%\n"
    }
   }
  },
  {
   "cell_type": "code",
   "execution_count": 152,
   "outputs": [
    {
     "name": "stdout",
     "output_type": "stream",
     "text": [
      "tensor([[[ 8.0069e-02, -1.1752e+00, -3.9491e-03,  1.1250e-03, -5.0092e-01],\n",
      "         [ 5.4267e-01, -1.4515e+00,  5.6311e-01,  3.6198e-01, -8.6320e-01],\n",
      "         [-9.0353e-01,  6.0791e-02, -7.1391e-01,  1.5493e+00,  2.6345e-03],\n",
      "         [-7.7714e-01, -2.0969e+00,  1.7835e+00, -2.6246e+00,  4.4385e-02]],\n",
      "\n",
      "        [[-3.0589e-01, -1.0460e-01,  1.0548e+00,  8.8961e-01,  1.1981e+00],\n",
      "         [ 5.9098e-01,  3.7616e-01, -3.1290e-01,  5.6046e-01,  1.0438e-01],\n",
      "         [-5.6224e-02, -5.7728e-01,  1.3235e-01, -1.6854e+00, -5.7394e-01],\n",
      "         [-7.7714e-01, -2.0969e+00,  1.7835e+00, -2.6246e+00,  4.4385e-02]],\n",
      "\n",
      "        [[ 1.0106e+00,  1.0115e+00,  3.5873e-01,  9.3127e-01,  1.6046e-01],\n",
      "         [-3.2366e-01,  7.3624e-01, -5.7591e-01,  4.0074e-01, -1.5145e+00],\n",
      "         [ 1.2133e+00,  1.3757e+00,  1.1258e+00,  8.7801e-01, -1.1513e+00],\n",
      "         [-3.7953e-01,  4.6506e-01, -2.4369e+00, -1.8846e-01,  2.1542e+00]]],\n",
      "       grad_fn=<EmbeddingBackward>)\n",
      "torch.Size([3, 4, 5])\n"
     ]
    }
   ],
   "source": [
    "print(embedder(input_batch))\n",
    "print(embedder(input_batch).shape)\n"
   ],
   "metadata": {
    "collapsed": false,
    "pycharm": {
     "name": "#%%\n"
    }
   }
  },
  {
   "cell_type": "code",
   "execution_count": 157,
   "outputs": [
    {
     "name": "stdout",
     "output_type": "stream",
     "text": [
      "User embeddings\n",
      "Parameter containing:\n",
      "tensor([[-0.8669,  0.2444,  0.0309,  0.7737, -1.3752],\n",
      "        [ 0.5067,  0.2551,  0.7666, -0.6906,  0.1182],\n",
      "        [-1.4574, -0.7139, -1.2903,  0.1250, -0.1761],\n",
      "        [-0.7156, -0.6478,  0.4806,  1.3227, -0.5890],\n",
      "        [-0.0481, -0.7023,  1.6830, -0.0741,  0.9336],\n",
      "        [ 1.2916, -0.1991,  1.7233, -1.1685,  1.8439],\n",
      "        [-0.9833,  2.5072,  1.3217,  2.6013,  0.0705]], requires_grad=True)\n",
      "Item embeddings\n",
      "Parameter containing:\n",
      "tensor([[ 0.0167, -0.8347, -0.7065, -0.4941,  0.3440],\n",
      "        [-0.0895, -1.9731, -0.1074, -0.2042, -0.9967],\n",
      "        [ 0.0519, -0.4616,  1.5299, -1.5154,  0.2876],\n",
      "        [-0.2978, -0.1996,  0.5468,  1.8366, -1.0105],\n",
      "        [ 1.0886,  0.4457, -1.1799, -1.1166,  0.2687],\n",
      "        [-2.8253,  0.4217,  0.4023, -0.6789, -0.5841],\n",
      "        [ 0.0880,  0.9356,  1.3416,  0.2956, -0.2526],\n",
      "        [-0.5941,  0.2293, -0.8367, -0.1605,  0.6026],\n",
      "        [-1.5620,  0.9095, -0.5343,  0.8031, -1.0756],\n",
      "        [-0.4596, -0.2761,  1.2171,  1.4323, -1.0655]], requires_grad=True)\n"
     ]
    }
   ],
   "source": [
    "n_users = 6\n",
    "n_items = 9\n",
    "\n",
    "embedder_users = Embedder(n_users, embedding_dimension)\n",
    "embedder_items = Embedder(n_items, embedding_dimension)\n",
    "\n",
    "print(\"User embeddings\")\n",
    "print(embedder_users.print_weights())\n",
    "\n",
    "print(\"Item embeddings\")\n",
    "print(embedder_items.print_weights())"
   ],
   "metadata": {
    "collapsed": false,
    "pycharm": {
     "name": "#%%\n"
    }
   }
  },
  {
   "cell_type": "code",
   "execution_count": 158,
   "outputs": [],
   "source": [
    "user_item = (1,1)\n",
    "ratings = [4.5, 2.5, 5.0]\n",
    "user_1 = torch.tensor(user_item[0], dtype=torch.long)\n",
    "item_1 = torch.tensor(user_item[1], dtype=torch.long)"
   ],
   "metadata": {
    "collapsed": false,
    "pycharm": {
     "name": "#%%\n"
    }
   }
  },
  {
   "cell_type": "code",
   "execution_count": 161,
   "outputs": [
    {
     "name": "stdout",
     "output_type": "stream",
     "text": [
      "tensor([ 0.5067,  0.2551,  0.7666, -0.6906,  0.1182],\n",
      "       grad_fn=<EmbeddingBackward>)\n",
      "torch.Size([5])\n"
     ]
    }
   ],
   "source": [
    "user_1_embs = embedder_users(user_1)\n",
    "print(user_1_embs)\n",
    "print(user_1_embs.shape)"
   ],
   "metadata": {
    "collapsed": false,
    "pycharm": {
     "name": "#%%\n"
    }
   }
  },
  {
   "cell_type": "code",
   "execution_count": 160,
   "outputs": [
    {
     "name": "stdout",
     "output_type": "stream",
     "text": [
      "tensor([-0.0895, -1.9731, -0.1074, -0.2042, -0.9967],\n",
      "       grad_fn=<EmbeddingBackward>)\n"
     ]
    }
   ],
   "source": [
    "item_1_embs = embedder_items(item_1)\n",
    "print(item_1_embs)"
   ],
   "metadata": {
    "collapsed": false,
    "pycharm": {
     "name": "#%%\n"
    }
   }
  },
  {
   "cell_type": "markdown",
   "source": [
    "## LSTM"
   ],
   "metadata": {
    "collapsed": false,
    "pycharm": {
     "name": "#%% md\n"
    }
   }
  },
  {
   "cell_type": "code",
   "execution_count": 192,
   "outputs": [],
   "source": [],
   "metadata": {
    "collapsed": false,
    "pycharm": {
     "name": "#%%\n"
    }
   }
  },
  {
   "cell_type": "markdown",
   "source": [
    "Get first sentence"
   ],
   "metadata": {
    "collapsed": false,
    "pycharm": {
     "name": "#%% md\n"
    }
   }
  },
  {
   "cell_type": "code",
   "execution_count": 196,
   "outputs": [
    {
     "name": "stdout",
     "output_type": "stream",
     "text": [
      "tensor([[ 6, 11,  2,  1],\n",
      "        [ 9,  4,  7,  1],\n",
      "        [10,  8,  5,  3]])\n",
      "tensor([ 6, 11,  2,  1])\n"
     ]
    }
   ],
   "source": [
    "print(input_batch)\n",
    "sentence1 = input_batch[0]\n",
    "\n",
    "print(sentence1)"
   ],
   "metadata": {
    "collapsed": false,
    "pycharm": {
     "name": "#%%\n"
    }
   }
  },
  {
   "cell_type": "code",
   "execution_count": 197,
   "outputs": [
    {
     "name": "stdout",
     "output_type": "stream",
     "text": [
      "torch.Size([4])\n"
     ]
    }
   ],
   "source": [
    "print(sentence1.shape)"
   ],
   "metadata": {
    "collapsed": false,
    "pycharm": {
     "name": "#%%\n"
    }
   }
  },
  {
   "cell_type": "code",
   "execution_count": 201,
   "outputs": [
    {
     "name": "stdout",
     "output_type": "stream",
     "text": [
      "tensor([ 6, 11,  2,  1])\n",
      "torch.Size([4])\n"
     ]
    }
   ],
   "source": [
    "def prepare_sequence(seq):\n",
    "    idxs = [word2id[w] for w in seq]\n",
    "    return torch.tensor(idxs, dtype=torch.long)\n",
    "\n",
    "input_ = prepare_sequence([\"hola\",\"mundo\",\"cruel\", \"<PAD>\"])\n",
    "print(input_)\n",
    "print(input_.shape)"
   ],
   "metadata": {
    "collapsed": false,
    "pycharm": {
     "name": "#%%\n"
    }
   }
  },
  {
   "cell_type": "code",
   "execution_count": 211,
   "outputs": [
    {
     "name": "stdout",
     "output_type": "stream",
     "text": [
      "tensor([[-1.1404e+00, -2.1343e+00,  1.2045e+00, -1.4209e-01,  4.3552e-04],\n",
      "        [-1.7869e+00, -6.0799e-01, -2.6232e-01,  3.7224e-01,  4.5826e-02],\n",
      "        [-1.0003e+00, -1.1581e+00,  4.7018e-01, -9.4365e-02, -1.1623e+00],\n",
      "        [ 2.0146e+00, -4.0179e-01,  5.9712e-01,  4.2814e-01, -5.2815e-01]],\n",
      "       grad_fn=<EmbeddingBackward>)\n"
     ]
    }
   ],
   "source": [
    "embed = nn.Embedding(vocabulary_size, embedding_dimension)\n",
    "print(embed(input_))"
   ],
   "metadata": {
    "collapsed": false,
    "pycharm": {
     "name": "#%%\n"
    }
   }
  },
  {
   "cell_type": "code",
   "execution_count": 214,
   "outputs": [
    {
     "name": "stdout",
     "output_type": "stream",
     "text": [
      "tensor([[ 8.0069e-02, -1.1752e+00, -3.9491e-03,  1.1250e-03, -5.0092e-01],\n",
      "        [ 5.4267e-01, -1.4515e+00,  5.6311e-01,  3.6198e-01, -8.6320e-01],\n",
      "        [-9.0353e-01,  6.0791e-02, -7.1391e-01,  1.5493e+00,  2.6345e-03],\n",
      "        [-7.7714e-01, -2.0969e+00,  1.7835e+00, -2.6246e+00,  4.4385e-02]],\n",
      "       grad_fn=<EmbeddingBackward>)\n",
      "torch.Size([4, 5])\n"
     ]
    }
   ],
   "source": [
    "word_embeddings = nn.Embedding(vocabulary_size, embedding_dimension)\n",
    "embeds = embedder(input_)\n",
    "print(embeds)\n",
    "print(embeds.shape)"
   ],
   "metadata": {
    "collapsed": false,
    "pycharm": {
     "name": "#%%\n"
    }
   }
  },
  {
   "cell_type": "code",
   "execution_count": 226,
   "outputs": [
    {
     "name": "stdout",
     "output_type": "stream",
     "text": [
      "Sentence size: 4\n",
      "torch.Size([4, 1, 5])\n"
     ]
    }
   ],
   "source": [
    "hidden_dim = 7\n",
    "lstm = nn.LSTM(embedding_dimension, hidden_dim)\n",
    "print(\"Sentence size:\",len(sentence1))\n",
    "embeds_in = embeds.view(len(sentence1), 1, -1)\n",
    "print(embeds_in.shape)"
   ],
   "metadata": {
    "collapsed": false,
    "pycharm": {
     "name": "#%%\n"
    }
   }
  },
  {
   "cell_type": "code",
   "execution_count": 227,
   "outputs": [
    {
     "name": "stdout",
     "output_type": "stream",
     "text": [
      "lstm_out\n",
      "tensor([[[ 0.1788,  0.0853, -0.1030,  0.0252, -0.0884, -0.0841,  0.0955]],\n",
      "\n",
      "        [[ 0.1753,  0.1843, -0.1282,  0.1058, -0.1759, -0.1136,  0.0295]],\n",
      "\n",
      "        [[ 0.2085,  0.2587, -0.1476, -0.0880, -0.2581, -0.2253,  0.0561]],\n",
      "\n",
      "        [[ 0.2998,  0.1784, -0.1303,  0.2102, -0.1331, -0.2268,  0.2363]]],\n",
      "       grad_fn=<StackBackward>)\n",
      "torch.Size([4, 1, 7])\n",
      "\n",
      "hn\n",
      "tensor([[[ 0.2998,  0.1784, -0.1303,  0.2102, -0.1331, -0.2268,  0.2363]]],\n",
      "       grad_fn=<StackBackward>)\n",
      "torch.Size([1, 1, 7])\n",
      "cn\n",
      "tensor([[[ 0.4707,  0.4994, -0.3381,  0.2950, -0.1699, -0.6178,  0.6249]]],\n",
      "       grad_fn=<StackBackward>)\n",
      "torch.Size([1, 1, 7])\n"
     ]
    }
   ],
   "source": [
    "lstm_out, (hn, cn) = lstm(embeds_in)\n",
    "print(\"lstm_out\")\n",
    "print(lstm_out)\n",
    "print(lstm_out.shape)\n",
    "print()\n",
    "print(\"hn\")\n",
    "print(hn)\n",
    "print(hn.shape)\n",
    "print(\"cn\")\n",
    "print(cn)\n",
    "print(cn.shape)"
   ],
   "metadata": {
    "collapsed": false,
    "pycharm": {
     "name": "#%%\n"
    }
   }
  },
  {
   "cell_type": "markdown",
   "source": [
    "# Using the whole batch"
   ],
   "metadata": {
    "collapsed": false,
    "pycharm": {
     "name": "#%% md\n"
    }
   }
  },
  {
   "cell_type": "code",
   "execution_count": 234,
   "outputs": [
    {
     "name": "stdout",
     "output_type": "stream",
     "text": [
      "tensor([[ 6, 11,  2,  1],\n",
      "        [ 9,  4,  7,  1],\n",
      "        [10,  8,  5,  3]])\n",
      "torch.Size([3, 4])\n",
      "tensor([[[ 8.0069e-02, -1.1752e+00, -3.9491e-03,  1.1250e-03, -5.0092e-01],\n",
      "         [ 5.4267e-01, -1.4515e+00,  5.6311e-01,  3.6198e-01, -8.6320e-01],\n",
      "         [-9.0353e-01,  6.0791e-02, -7.1391e-01,  1.5493e+00,  2.6345e-03],\n",
      "         [-7.7714e-01, -2.0969e+00,  1.7835e+00, -2.6246e+00,  4.4385e-02]],\n",
      "\n",
      "        [[-3.0589e-01, -1.0460e-01,  1.0548e+00,  8.8961e-01,  1.1981e+00],\n",
      "         [ 5.9098e-01,  3.7616e-01, -3.1290e-01,  5.6046e-01,  1.0438e-01],\n",
      "         [-5.6224e-02, -5.7728e-01,  1.3235e-01, -1.6854e+00, -5.7394e-01],\n",
      "         [-7.7714e-01, -2.0969e+00,  1.7835e+00, -2.6246e+00,  4.4385e-02]],\n",
      "\n",
      "        [[ 1.0106e+00,  1.0115e+00,  3.5873e-01,  9.3127e-01,  1.6046e-01],\n",
      "         [-3.2366e-01,  7.3624e-01, -5.7591e-01,  4.0074e-01, -1.5145e+00],\n",
      "         [ 1.2133e+00,  1.3757e+00,  1.1258e+00,  8.7801e-01, -1.1513e+00],\n",
      "         [-3.7953e-01,  4.6506e-01, -2.4369e+00, -1.8846e-01,  2.1542e+00]]],\n",
      "       grad_fn=<EmbeddingBackward>)\n",
      "torch.Size([3, 4, 5])\n"
     ]
    }
   ],
   "source": [
    "print(input_batch)\n",
    "print(input_batch.shape)\n",
    "embeds_batch_in = embedder(input_batch)\n",
    "print(embeds_batch_in)\n",
    "print(embeds_batch_in.shape)"
   ],
   "metadata": {
    "collapsed": false,
    "pycharm": {
     "name": "#%%\n"
    }
   }
  },
  {
   "cell_type": "code",
   "execution_count": 233,
   "outputs": [
    {
     "name": "stdout",
     "output_type": "stream",
     "text": [
      "lstm_out\n",
      "tensor([[[ 0.1788,  0.0853, -0.1030,  0.0252, -0.0884, -0.0841,  0.0955],\n",
      "         [ 0.1087,  0.1119, -0.1159,  0.0897, -0.1193, -0.0753,  0.0105],\n",
      "         [ 0.1569,  0.1536, -0.0925, -0.1249, -0.1908, -0.1614,  0.0603],\n",
      "         [ 0.1764,  0.0380, -0.0104,  0.3139, -0.0652, -0.0929,  0.2297]],\n",
      "\n",
      "        [[ 0.1157,  0.1885, -0.1408, -0.1213, -0.2338, -0.2006,  0.0442],\n",
      "         [ 0.1713,  0.0997, -0.1735, -0.0919, -0.0124, -0.0834,  0.0108],\n",
      "         [ 0.3108,  0.0961, -0.0975, -0.0678, -0.0162, -0.0677,  0.2343],\n",
      "         [ 0.2707,  0.0690, -0.0184,  0.4416, -0.1180, -0.1508,  0.2537]],\n",
      "\n",
      "        [[ 0.0876,  0.0994, -0.1824, -0.1794, -0.0106, -0.1126, -0.1050],\n",
      "         [ 0.1705,  0.0717, -0.1187, -0.0973,  0.0053,  0.0831,  0.0347],\n",
      "         [ 0.0099,  0.0037, -0.1273, -0.0926,  0.1023,  0.0157, -0.0056],\n",
      "         [ 0.5047,  0.0522, -0.0125, -0.0197, -0.0388, -0.1787,  0.5678]]],\n",
      "       grad_fn=<StackBackward>)\n",
      "torch.Size([3, 4, 7])\n",
      "\n",
      "hn\n",
      "tensor([[[ 0.0876,  0.0994, -0.1824, -0.1794, -0.0106, -0.1126, -0.1050],\n",
      "         [ 0.1705,  0.0717, -0.1187, -0.0973,  0.0053,  0.0831,  0.0347],\n",
      "         [ 0.0099,  0.0037, -0.1273, -0.0926,  0.1023,  0.0157, -0.0056],\n",
      "         [ 0.5047,  0.0522, -0.0125, -0.0197, -0.0388, -0.1787,  0.5678]]],\n",
      "       grad_fn=<StackBackward>)\n",
      "torch.Size([1, 4, 7])\n",
      "\n",
      "cn\n",
      "tensor([[[ 0.2445,  0.1698, -0.3221, -0.4576, -0.0189, -0.3478, -0.1483],\n",
      "         [ 0.2771,  0.1510, -0.3633, -0.3320,  0.0124,  0.1882,  0.0674],\n",
      "         [ 0.0255,  0.0072, -0.2058, -0.2484,  0.1901,  0.0524, -0.0087],\n",
      "         [ 0.9417,  0.0741, -0.0408, -0.0534, -0.1070, -0.3755,  0.9091]]],\n",
      "       grad_fn=<StackBackward>)\n",
      "torch.Size([1, 4, 7])\n"
     ]
    }
   ],
   "source": [
    "lstm_out, (hn, cn) = lstm(embeds_in)\n",
    "print(\"lstm_out\")\n",
    "print(lstm_out)\n",
    "print(lstm_out.shape)\n",
    "print()\n",
    "print(\"hn\")\n",
    "print(hn)\n",
    "print(hn.shape)\n",
    "print()\n",
    "print(\"cn\")\n",
    "print(cn)\n",
    "print(cn.shape)\n",
    "\n"
   ],
   "metadata": {
    "collapsed": false,
    "pycharm": {
     "name": "#%%\n"
    }
   }
  },
  {
   "cell_type": "code",
   "execution_count": null,
   "outputs": [],
   "source": [
    "\n"
   ],
   "metadata": {
    "collapsed": false,
    "pycharm": {
     "name": "#%%\n"
    }
   }
  }
 ],
 "metadata": {
  "kernelspec": {
   "display_name": "Python 3",
   "language": "python",
   "name": "python3"
  },
  "language_info": {
   "codemirror_mode": {
    "name": "ipython",
    "version": 2
   },
   "file_extension": ".py",
   "mimetype": "text/x-python",
   "name": "python",
   "nbconvert_exporter": "python",
   "pygments_lexer": "ipython2",
   "version": "2.7.6"
  }
 },
 "nbformat": 4,
 "nbformat_minor": 0
}