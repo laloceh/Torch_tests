{
 "cells": [
  {
   "cell_type": "code",
   "execution_count": 1,
   "metadata": {
    "collapsed": true
   },
   "outputs": [],
   "source": [
    "import torch\n",
    "import torch.nn as nn\n",
    "import numpy as np\n",
    "import torch.nn.functional as F\n"
   ]
  },
  {
   "cell_type": "code",
   "execution_count": 2,
   "outputs": [
    {
     "name": "stdout",
     "output_type": "stream",
     "text": [
      "[['hola', 'mundo', 'cruel'], ['me', 'llamo', 'eduardo'], ['buenas', 'noches', 'a', 'todos']]\n",
      "{'a', 'hola', 'todos', 'noches', 'llamo', 'buenas', 'cruel', 'eduardo', 'me', 'mundo'}\n",
      "Vocabulary length 12\n"
     ]
    }
   ],
   "source": [
    "texts=[\"hola mundo cruel\", \"me llamo eduardo\", \"buenas noches a todos\"]\n",
    "\n",
    "tokens = []\n",
    "vocabulary = set()\n",
    "for text in texts:\n",
    "    toks = text.split()\n",
    "    tokens.append(toks)\n",
    "    for w in toks:\n",
    "        vocabulary.add(w)\n",
    "\n",
    "print(tokens)\n",
    "\n",
    "unk_token = \"<UNK>\"\n",
    "pad_token = '<PAD>'\n",
    "print(vocabulary)\n",
    "\n",
    "print(f\"Vocabulary length {len(vocabulary) + 2}\")"
   ],
   "metadata": {
    "collapsed": false,
    "pycharm": {
     "name": "#%%\n"
    }
   }
  },
  {
   "cell_type": "code",
   "execution_count": 3,
   "outputs": [
    {
     "name": "stdout",
     "output_type": "stream",
     "text": [
      "{'<UNK>': 0, '<PAD>': 1, 'a': 2, 'hola': 3, 'todos': 4, 'noches': 5, 'llamo': 6, 'buenas': 7, 'cruel': 8, 'eduardo': 9, 'me': 10, 'mundo': 11}\n",
      "{0: '<UNK>', 1: '<PAD>', 2: 'a', 3: 'hola', 4: 'todos', 5: 'noches', 6: 'llamo', 7: 'buenas', 8: 'cruel', 9: 'eduardo', 10: 'me', 11: 'mundo'}\n",
      "Vocabulary length 12\n"
     ]
    }
   ],
   "source": [
    "word2id = {unk_token:0, pad_token:1}\n",
    "id2word = {0:unk_token, 1:pad_token}\n",
    "\n",
    "for i, w in enumerate(vocabulary,2):\n",
    "    word2id[w] = i\n",
    "    id2word[i] = w\n",
    "\n",
    "print(word2id)\n",
    "print(id2word)\n",
    "\n",
    "vocabulary_size = len(word2id)\n",
    "print(f\"Vocabulary length {vocabulary_size}\")"
   ],
   "metadata": {
    "collapsed": false,
    "pycharm": {
     "name": "#%%\n"
    }
   }
  },
  {
   "cell_type": "code",
   "execution_count": 4,
   "outputs": [],
   "source": [
    "def numeralize(text):\n",
    "    sent = []\n",
    "    for w in text:\n",
    "        if w in vocabulary:\n",
    "            sent.append(word2id[w])\n",
    "        else:\n",
    "            sent.append(0)  # <UNK>\n",
    "    return sent"
   ],
   "metadata": {
    "collapsed": false,
    "pycharm": {
     "name": "#%%\n"
    }
   }
  },
  {
   "cell_type": "code",
   "execution_count": 5,
   "outputs": [
    {
     "name": "stdout",
     "output_type": "stream",
     "text": [
      "[3, 0]\n"
     ]
    }
   ],
   "source": [
    "text = [\"hola\", \"lalo\"]\n",
    "print(numeralize(text))"
   ],
   "metadata": {
    "collapsed": false,
    "pycharm": {
     "name": "#%%\n"
    }
   }
  },
  {
   "cell_type": "code",
   "execution_count": 6,
   "outputs": [
    {
     "name": "stdout",
     "output_type": "stream",
     "text": [
      "[[3, 11, 8], [10, 6, 9], [7, 5, 2, 4]]\n"
     ]
    }
   ],
   "source": [
    "text_numbers = [numeralize(tok) for tok in tokens]\n",
    "print(text_numbers)"
   ],
   "metadata": {
    "collapsed": false,
    "pycharm": {
     "name": "#%%\n"
    }
   }
  },
  {
   "cell_type": "code",
   "execution_count": 7,
   "outputs": [
    {
     "name": "stdout",
     "output_type": "stream",
     "text": [
      "Largest text of 4 words\n"
     ]
    }
   ],
   "source": [
    "larger = 0\n",
    "for text in text_numbers:\n",
    "    if len(text) > larger:\n",
    "        larger = len(text)\n",
    "\n",
    "print(f\"Largest text of {larger} words\")"
   ],
   "metadata": {
    "collapsed": false,
    "pycharm": {
     "name": "#%%\n"
    }
   }
  },
  {
   "cell_type": "code",
   "execution_count": 8,
   "outputs": [],
   "source": [
    "def pad_sentence(text):\n",
    "    if len(text) < larger:\n",
    "        diff = larger - len(text)\n",
    "        for i in range(diff):\n",
    "            text.append(1)  # add token \"<PAD>\"\n",
    "    return text"
   ],
   "metadata": {
    "collapsed": false,
    "pycharm": {
     "name": "#%%\n"
    }
   }
  },
  {
   "cell_type": "code",
   "execution_count": 9,
   "outputs": [
    {
     "name": "stdout",
     "output_type": "stream",
     "text": [
      "[[3, 11, 8, 1], [10, 6, 9, 1], [7, 5, 2, 4]]\n"
     ]
    }
   ],
   "source": [
    "padded_text = [pad_sentence(text) for text in text_numbers]\n",
    "print(padded_text)"
   ],
   "metadata": {
    "collapsed": false,
    "pycharm": {
     "name": "#%%\n"
    }
   }
  },
  {
   "cell_type": "code",
   "execution_count": 10,
   "outputs": [],
   "source": [
    "def textify(text):\n",
    "    words = []\n",
    "    for number in text:\n",
    "        words.append(id2word[number])\n",
    "    return words"
   ],
   "metadata": {
    "collapsed": false,
    "pycharm": {
     "name": "#%%\n"
    }
   }
  },
  {
   "cell_type": "code",
   "execution_count": 11,
   "outputs": [
    {
     "name": "stdout",
     "output_type": "stream",
     "text": [
      "[['hola', 'mundo', 'cruel', '<PAD>'], ['me', 'llamo', 'eduardo', '<PAD>'], ['buenas', 'noches', 'a', 'todos']]\n"
     ]
    }
   ],
   "source": [
    "text_again = [textify(text) for text in padded_text]\n",
    "print(text_again)"
   ],
   "metadata": {
    "collapsed": false,
    "pycharm": {
     "name": "#%%\n"
    }
   }
  },
  {
   "cell_type": "code",
   "execution_count": 12,
   "outputs": [],
   "source": [
    "class Embedder(nn.Module):\n",
    "    def __init__(self, vocab_size, emb_dim):\n",
    "        super(Embedder, self).__init__()\n",
    "        self.embed = nn.Embedding(vocab_size+1, emb_dim)    # +1 for the ids not starting with 0\n",
    "\n",
    "    def forward(self, x):\n",
    "        return self.embed(x)\n",
    "\n",
    "    def print_weights(self):\n",
    "        return self.embed.weight"
   ],
   "metadata": {
    "collapsed": false,
    "pycharm": {
     "name": "#%%\n"
    }
   }
  },
  {
   "cell_type": "code",
   "execution_count": 13,
   "outputs": [
    {
     "name": "stdout",
     "output_type": "stream",
     "text": [
      "[3, 11, 8, 1]\n",
      "<class 'list'>\n"
     ]
    }
   ],
   "source": [
    "embedding_dimension = 5\n",
    "\n",
    "text1 = padded_text[0]\n",
    "print(text1)\n",
    "print(type(text1))"
   ],
   "metadata": {
    "collapsed": false,
    "pycharm": {
     "name": "#%%\n"
    }
   }
  },
  {
   "cell_type": "code",
   "execution_count": 14,
   "outputs": [
    {
     "name": "stdout",
     "output_type": "stream",
     "text": [
      "[[ 3 11  8  1]\n",
      " [10  6  9  1]\n",
      " [ 7  5  2  4]]\n",
      "<class 'numpy.ndarray'>\n",
      "[ 3 11  8  1]\n",
      "<class 'numpy.ndarray'>\n"
     ]
    }
   ],
   "source": [
    "batch = np.vstack(padded_text)\n",
    "print(batch)\n",
    "print(type(batch))\n",
    "print(batch[0])\n",
    "print(type(batch[0]))"
   ],
   "metadata": {
    "collapsed": false,
    "pycharm": {
     "name": "#%%\n"
    }
   }
  },
  {
   "cell_type": "code",
   "execution_count": 15,
   "outputs": [
    {
     "name": "stdout",
     "output_type": "stream",
     "text": [
      "tensor([[ 3, 11,  8,  1],\n",
      "        [10,  6,  9,  1],\n",
      "        [ 7,  5,  2,  4]])\n"
     ]
    }
   ],
   "source": [
    "input_batch = torch.tensor(batch, dtype=torch.long)\n",
    "print(input_batch)"
   ],
   "metadata": {
    "collapsed": false,
    "pycharm": {
     "name": "#%%\n"
    }
   }
  },
  {
   "cell_type": "code",
   "execution_count": 16,
   "outputs": [
    {
     "name": "stdout",
     "output_type": "stream",
     "text": [
      "tensor([ 3, 11,  8,  1])\n",
      "<class 'torch.Tensor'>\n"
     ]
    }
   ],
   "source": [
    "print(input_batch[0])\n",
    "print(type(input_batch[0]))"
   ],
   "metadata": {
    "collapsed": false,
    "pycharm": {
     "name": "#%%\n"
    }
   }
  },
  {
   "cell_type": "code",
   "execution_count": 17,
   "outputs": [
    {
     "name": "stdout",
     "output_type": "stream",
     "text": [
      "Parameter containing:\n",
      "tensor([[ 4.2069e-01,  7.6514e-02, -6.3567e-01,  1.9497e+00, -8.9343e-01],\n",
      "        [ 6.1225e-01, -1.2635e+00, -2.6804e-01,  6.8436e-01, -6.6422e-01],\n",
      "        [ 1.9512e+00,  7.0124e-01, -7.4065e-01,  5.1531e-01, -9.4208e-01],\n",
      "        [-8.8818e-02,  1.1508e+00, -8.0582e-01,  1.8525e+00,  1.1676e+00],\n",
      "        [ 1.7644e+00,  8.0813e-02,  2.8024e-01,  5.4458e-02, -4.9933e-02],\n",
      "        [ 2.4747e-01,  1.9355e+00,  1.0355e+00,  1.3789e-01, -2.9034e-01],\n",
      "        [-4.1499e-01,  5.6145e-01, -9.8728e-01, -2.7918e-01, -3.9903e-01],\n",
      "        [-1.4724e+00, -6.5922e-01, -9.3738e-01, -1.5431e-01,  5.1570e-01],\n",
      "        [-5.6930e-01, -8.3106e-04, -5.0901e-01,  1.1157e+00, -4.0423e-01],\n",
      "        [ 9.4209e-01,  1.5095e-01, -1.5613e+00, -3.1993e-01,  8.3828e-01],\n",
      "        [-8.6807e-01, -1.6060e-01,  5.2281e-01,  7.1901e-01, -9.9410e-01],\n",
      "        [-1.2920e+00,  7.8423e-01, -9.0783e-02, -8.5154e-01,  1.3041e-01],\n",
      "        [ 1.9151e-01,  2.7788e-01, -7.2578e-01, -4.9673e-01,  1.7045e-01]],\n",
      "       requires_grad=True)\n"
     ]
    }
   ],
   "source": [
    "embedder = Embedder(vocabulary_size, embedding_dimension)\n",
    "print(embedder.print_weights())\n"
   ],
   "metadata": {
    "collapsed": false,
    "pycharm": {
     "name": "#%%\n"
    }
   }
  },
  {
   "cell_type": "code",
   "execution_count": 18,
   "outputs": [
    {
     "name": "stdout",
     "output_type": "stream",
     "text": [
      "tensor([[[-8.8818e-02,  1.1508e+00, -8.0582e-01,  1.8525e+00,  1.1676e+00],\n",
      "         [-1.2920e+00,  7.8423e-01, -9.0783e-02, -8.5154e-01,  1.3041e-01],\n",
      "         [-5.6930e-01, -8.3106e-04, -5.0901e-01,  1.1157e+00, -4.0423e-01],\n",
      "         [ 6.1225e-01, -1.2635e+00, -2.6804e-01,  6.8436e-01, -6.6422e-01]],\n",
      "\n",
      "        [[-8.6807e-01, -1.6060e-01,  5.2281e-01,  7.1901e-01, -9.9410e-01],\n",
      "         [-4.1499e-01,  5.6145e-01, -9.8728e-01, -2.7918e-01, -3.9903e-01],\n",
      "         [ 9.4209e-01,  1.5095e-01, -1.5613e+00, -3.1993e-01,  8.3828e-01],\n",
      "         [ 6.1225e-01, -1.2635e+00, -2.6804e-01,  6.8436e-01, -6.6422e-01]],\n",
      "\n",
      "        [[-1.4724e+00, -6.5922e-01, -9.3738e-01, -1.5431e-01,  5.1570e-01],\n",
      "         [ 2.4747e-01,  1.9355e+00,  1.0355e+00,  1.3789e-01, -2.9034e-01],\n",
      "         [ 1.9512e+00,  7.0124e-01, -7.4065e-01,  5.1531e-01, -9.4208e-01],\n",
      "         [ 1.7644e+00,  8.0813e-02,  2.8024e-01,  5.4458e-02, -4.9933e-02]]],\n",
      "       grad_fn=<EmbeddingBackward>)\n",
      "torch.Size([3, 4, 5])\n"
     ]
    }
   ],
   "source": [
    "print(embedder(input_batch))\n",
    "print(embedder(input_batch).shape)\n"
   ],
   "metadata": {
    "collapsed": false,
    "pycharm": {
     "name": "#%%\n"
    }
   }
  },
  {
   "cell_type": "code",
   "execution_count": 19,
   "outputs": [
    {
     "name": "stdout",
     "output_type": "stream",
     "text": [
      "User embeddings\n",
      "Parameter containing:\n",
      "tensor([[-0.2380, -0.3900, -0.3008, -2.2889,  1.4160],\n",
      "        [ 0.7804,  0.3699, -0.7864,  0.2914, -0.6794],\n",
      "        [ 0.4083,  1.8565, -0.6354,  0.3214, -0.5585],\n",
      "        [-0.1887,  0.7602, -0.2233,  1.2523,  0.5037],\n",
      "        [ 0.5539, -0.5804,  0.2078,  0.4279, -0.6583],\n",
      "        [-0.3904,  0.2019,  1.6831, -1.8207,  0.8827],\n",
      "        [ 0.2987, -0.2708,  0.7202, -0.3698,  1.4666]], requires_grad=True)\n",
      "Item embeddings\n",
      "Parameter containing:\n",
      "tensor([[-0.9171,  1.2775, -1.5247,  0.0356,  0.6333],\n",
      "        [ 0.6971,  1.2208,  1.6442, -1.8370, -0.5363],\n",
      "        [-0.1975,  0.8366,  0.4677,  0.1314,  0.0982],\n",
      "        [ 0.9187, -0.1161,  1.1129,  0.2691,  2.0420],\n",
      "        [ 0.0883, -0.0461,  1.2943,  0.5682, -0.1644],\n",
      "        [-0.2421, -0.0471,  1.8228,  0.8298, -1.6756],\n",
      "        [ 1.4120, -1.3770, -0.0187, -0.4971, -0.3081],\n",
      "        [ 0.4083,  0.8845,  1.6022,  2.1710,  0.6012],\n",
      "        [-0.5811,  1.9930,  0.8790,  1.3150, -1.8118],\n",
      "        [ 0.6352,  1.4298, -0.4854,  1.4378,  0.6805]], requires_grad=True)\n"
     ]
    }
   ],
   "source": [
    "n_users = 6\n",
    "n_items = 9\n",
    "\n",
    "embedder_users = Embedder(n_users, embedding_dimension)\n",
    "embedder_items = Embedder(n_items, embedding_dimension)\n",
    "\n",
    "print(\"User embeddings\")\n",
    "print(embedder_users.print_weights())\n",
    "\n",
    "print(\"Item embeddings\")\n",
    "print(embedder_items.print_weights())"
   ],
   "metadata": {
    "collapsed": false,
    "pycharm": {
     "name": "#%%\n"
    }
   }
  },
  {
   "cell_type": "code",
   "execution_count": 20,
   "outputs": [],
   "source": [
    "user_item = (1,1)\n",
    "ratings = [4.5, 2.5, 5.0]\n",
    "user_1 = torch.tensor(user_item[0], dtype=torch.long)\n",
    "item_1 = torch.tensor(user_item[1], dtype=torch.long)"
   ],
   "metadata": {
    "collapsed": false,
    "pycharm": {
     "name": "#%%\n"
    }
   }
  },
  {
   "cell_type": "code",
   "execution_count": 21,
   "outputs": [
    {
     "name": "stdout",
     "output_type": "stream",
     "text": [
      "tensor([ 0.7804,  0.3699, -0.7864,  0.2914, -0.6794],\n",
      "       grad_fn=<EmbeddingBackward>)\n",
      "torch.Size([5])\n"
     ]
    }
   ],
   "source": [
    "user_1_embs = embedder_users(user_1)\n",
    "print(user_1_embs)\n",
    "print(user_1_embs.shape)"
   ],
   "metadata": {
    "collapsed": false,
    "pycharm": {
     "name": "#%%\n"
    }
   }
  },
  {
   "cell_type": "code",
   "execution_count": 22,
   "outputs": [
    {
     "name": "stdout",
     "output_type": "stream",
     "text": [
      "tensor([ 0.6971,  1.2208,  1.6442, -1.8370, -0.5363],\n",
      "       grad_fn=<EmbeddingBackward>)\n"
     ]
    }
   ],
   "source": [
    "item_1_embs = embedder_items(item_1)\n",
    "print(item_1_embs)"
   ],
   "metadata": {
    "collapsed": false,
    "pycharm": {
     "name": "#%%\n"
    }
   }
  },
  {
   "cell_type": "markdown",
   "source": [
    "## LSTM"
   ],
   "metadata": {
    "collapsed": false,
    "pycharm": {
     "name": "#%% md\n"
    }
   }
  },
  {
   "cell_type": "code",
   "execution_count": 22,
   "outputs": [],
   "source": [],
   "metadata": {
    "collapsed": false,
    "pycharm": {
     "name": "#%%\n"
    }
   }
  },
  {
   "cell_type": "markdown",
   "source": [
    "Get first sentence"
   ],
   "metadata": {
    "collapsed": false,
    "pycharm": {
     "name": "#%% md\n"
    }
   }
  },
  {
   "cell_type": "code",
   "execution_count": 23,
   "outputs": [
    {
     "name": "stdout",
     "output_type": "stream",
     "text": [
      "tensor([[ 3, 11,  8,  1],\n",
      "        [10,  6,  9,  1],\n",
      "        [ 7,  5,  2,  4]])\n",
      "tensor([ 3, 11,  8,  1])\n"
     ]
    }
   ],
   "source": [
    "print(input_batch)\n",
    "sentence1 = input_batch[0]\n",
    "\n",
    "print(sentence1)"
   ],
   "metadata": {
    "collapsed": false,
    "pycharm": {
     "name": "#%%\n"
    }
   }
  },
  {
   "cell_type": "code",
   "execution_count": 24,
   "outputs": [
    {
     "name": "stdout",
     "output_type": "stream",
     "text": [
      "torch.Size([4])\n"
     ]
    }
   ],
   "source": [
    "print(sentence1.shape)"
   ],
   "metadata": {
    "collapsed": false,
    "pycharm": {
     "name": "#%%\n"
    }
   }
  },
  {
   "cell_type": "code",
   "execution_count": 25,
   "outputs": [
    {
     "name": "stdout",
     "output_type": "stream",
     "text": [
      "tensor([ 3, 11,  8,  1])\n",
      "torch.Size([4])\n"
     ]
    }
   ],
   "source": [
    "def prepare_sequence(seq):\n",
    "    idxs = [word2id[w] for w in seq]\n",
    "    return torch.tensor(idxs, dtype=torch.long)\n",
    "\n",
    "input_ = prepare_sequence([\"hola\",\"mundo\",\"cruel\", \"<PAD>\"])\n",
    "print(input_)\n",
    "print(input_.shape)"
   ],
   "metadata": {
    "collapsed": false,
    "pycharm": {
     "name": "#%%\n"
    }
   }
  },
  {
   "cell_type": "code",
   "execution_count": 26,
   "outputs": [
    {
     "name": "stdout",
     "output_type": "stream",
     "text": [
      "tensor([[ 0.8454,  0.2955, -1.6030,  2.3140,  1.2802],\n",
      "        [-0.4422,  0.6616,  1.7816,  0.8376,  1.5056],\n",
      "        [-0.0143, -0.1195, -0.0478,  0.1282, -1.0189],\n",
      "        [ 0.3890,  0.2782,  0.6848,  0.0927,  0.7669]],\n",
      "       grad_fn=<EmbeddingBackward>)\n"
     ]
    }
   ],
   "source": [
    "embed = nn.Embedding(vocabulary_size, embedding_dimension)\n",
    "print(embed(input_))"
   ],
   "metadata": {
    "collapsed": false,
    "pycharm": {
     "name": "#%%\n"
    }
   }
  },
  {
   "cell_type": "code",
   "execution_count": 27,
   "outputs": [
    {
     "name": "stdout",
     "output_type": "stream",
     "text": [
      "tensor([[-8.8818e-02,  1.1508e+00, -8.0582e-01,  1.8525e+00,  1.1676e+00],\n",
      "        [-1.2920e+00,  7.8423e-01, -9.0783e-02, -8.5154e-01,  1.3041e-01],\n",
      "        [-5.6930e-01, -8.3106e-04, -5.0901e-01,  1.1157e+00, -4.0423e-01],\n",
      "        [ 6.1225e-01, -1.2635e+00, -2.6804e-01,  6.8436e-01, -6.6422e-01]],\n",
      "       grad_fn=<EmbeddingBackward>)\n",
      "torch.Size([4, 5])\n"
     ]
    }
   ],
   "source": [
    "word_embeddings = nn.Embedding(vocabulary_size, embedding_dimension)\n",
    "embeds = embedder(input_)\n",
    "print(embeds)\n",
    "print(embeds.shape)"
   ],
   "metadata": {
    "collapsed": false,
    "pycharm": {
     "name": "#%%\n"
    }
   }
  },
  {
   "cell_type": "code",
   "execution_count": 28,
   "outputs": [
    {
     "name": "stdout",
     "output_type": "stream",
     "text": [
      "Sentence size: 4\n",
      "torch.Size([4, 1, 5])\n"
     ]
    }
   ],
   "source": [
    "hidden_dim = 5\n",
    "lstm = nn.LSTM(embedding_dimension, hidden_dim)\n",
    "print(\"Sentence size:\",len(sentence1))\n",
    "embeds_in = embeds.view(len(sentence1), 1, -1)\n",
    "print(embeds_in.shape)"
   ],
   "metadata": {
    "collapsed": false,
    "pycharm": {
     "name": "#%%\n"
    }
   }
  },
  {
   "cell_type": "code",
   "execution_count": 29,
   "outputs": [
    {
     "name": "stdout",
     "output_type": "stream",
     "text": [
      "lstm_out\n",
      "tensor([[[-0.0058, -0.1278,  0.1569, -0.0781,  0.0857]],\n",
      "\n",
      "        [[-0.1830,  0.0238,  0.0035, -0.0726,  0.0350]],\n",
      "\n",
      "        [[-0.1541, -0.0381,  0.1317,  0.0651,  0.1740]],\n",
      "\n",
      "        [[-0.1939,  0.0252,  0.2474,  0.2457,  0.2950]]],\n",
      "       grad_fn=<StackBackward>)\n",
      "torch.Size([4, 1, 5])\n",
      "\n",
      "hn\n",
      "tensor([[[-0.1939,  0.0252,  0.2474,  0.2457,  0.2950]]],\n",
      "       grad_fn=<StackBackward>)\n",
      "torch.Size([1, 1, 5])\n",
      "cn\n",
      "tensor([[[-0.3703,  0.0530,  0.4538,  0.4661,  0.5441]]],\n",
      "       grad_fn=<StackBackward>)\n",
      "torch.Size([1, 1, 5])\n"
     ]
    }
   ],
   "source": [
    "lstm_out_, (hn_, cn_) = lstm(embeds_in)\n",
    "print(\"lstm_out\")\n",
    "print(lstm_out_)\n",
    "print(lstm_out_.shape)\n",
    "print()\n",
    "print(\"hn\")\n",
    "print(hn_)\n",
    "print(hn_.shape)\n",
    "print(\"cn\")\n",
    "print(cn_)\n",
    "print(cn_.shape)"
   ],
   "metadata": {
    "collapsed": false,
    "pycharm": {
     "name": "#%%\n"
    }
   }
  },
  {
   "cell_type": "markdown",
   "source": [
    "# Using the whole batch"
   ],
   "metadata": {
    "collapsed": false,
    "pycharm": {
     "name": "#%% md\n"
    }
   }
  },
  {
   "cell_type": "code",
   "execution_count": 30,
   "outputs": [
    {
     "name": "stdout",
     "output_type": "stream",
     "text": [
      "tensor([[ 3, 11,  8,  1],\n",
      "        [10,  6,  9,  1],\n",
      "        [ 7,  5,  2,  4]])\n",
      "torch.Size([3, 4])\n",
      "tensor([[[-8.8818e-02,  1.1508e+00, -8.0582e-01,  1.8525e+00,  1.1676e+00],\n",
      "         [-1.2920e+00,  7.8423e-01, -9.0783e-02, -8.5154e-01,  1.3041e-01],\n",
      "         [-5.6930e-01, -8.3106e-04, -5.0901e-01,  1.1157e+00, -4.0423e-01],\n",
      "         [ 6.1225e-01, -1.2635e+00, -2.6804e-01,  6.8436e-01, -6.6422e-01]],\n",
      "\n",
      "        [[-8.6807e-01, -1.6060e-01,  5.2281e-01,  7.1901e-01, -9.9410e-01],\n",
      "         [-4.1499e-01,  5.6145e-01, -9.8728e-01, -2.7918e-01, -3.9903e-01],\n",
      "         [ 9.4209e-01,  1.5095e-01, -1.5613e+00, -3.1993e-01,  8.3828e-01],\n",
      "         [ 6.1225e-01, -1.2635e+00, -2.6804e-01,  6.8436e-01, -6.6422e-01]],\n",
      "\n",
      "        [[-1.4724e+00, -6.5922e-01, -9.3738e-01, -1.5431e-01,  5.1570e-01],\n",
      "         [ 2.4747e-01,  1.9355e+00,  1.0355e+00,  1.3789e-01, -2.9034e-01],\n",
      "         [ 1.9512e+00,  7.0124e-01, -7.4065e-01,  5.1531e-01, -9.4208e-01],\n",
      "         [ 1.7644e+00,  8.0813e-02,  2.8024e-01,  5.4458e-02, -4.9933e-02]]],\n",
      "       grad_fn=<EmbeddingBackward>)\n",
      "torch.Size([3, 4, 5])\n"
     ]
    }
   ],
   "source": [
    "print(input_batch)\n",
    "print(input_batch.shape)\n",
    "embeds_batch_in = embedder(input_batch)\n",
    "print(embeds_batch_in)\n",
    "print(embeds_batch_in.shape)"
   ],
   "metadata": {
    "collapsed": false,
    "pycharm": {
     "name": "#%%\n"
    }
   }
  },
  {
   "cell_type": "code",
   "execution_count": 31,
   "outputs": [
    {
     "name": "stdout",
     "output_type": "stream",
     "text": [
      "lstm_out\n",
      "tensor([[[-0.0058, -0.1278,  0.1569, -0.0781,  0.0857]],\n",
      "\n",
      "        [[-0.1830,  0.0238,  0.0035, -0.0726,  0.0350]],\n",
      "\n",
      "        [[-0.1541, -0.0381,  0.1317,  0.0651,  0.1740]],\n",
      "\n",
      "        [[-0.1939,  0.0252,  0.2474,  0.2457,  0.2950]]],\n",
      "       grad_fn=<StackBackward>)\n",
      "torch.Size([4, 1, 5])\n",
      "\n",
      "hn\n",
      "tensor([[[-0.1939,  0.0252,  0.2474,  0.2457,  0.2950]]],\n",
      "       grad_fn=<StackBackward>)\n",
      "torch.Size([1, 1, 5])\n",
      "\n",
      "cn\n",
      "tensor([[[-0.3703,  0.0530,  0.4538,  0.4661,  0.5441]]],\n",
      "       grad_fn=<StackBackward>)\n",
      "torch.Size([1, 1, 5])\n"
     ]
    }
   ],
   "source": [
    "lstm_out, (hn, cn) = lstm(embeds_in)\n",
    "print(\"lstm_out\")\n",
    "print(lstm_out)\n",
    "print(lstm_out.shape)\n",
    "print()\n",
    "print(\"hn\")\n",
    "print(hn)\n",
    "print(hn.shape)\n",
    "print()\n",
    "print(\"cn\")\n",
    "print(cn)\n",
    "print(cn.shape)\n",
    "\n"
   ],
   "metadata": {
    "collapsed": false,
    "pycharm": {
     "name": "#%%\n"
    }
   }
  },
  {
   "cell_type": "markdown",
   "source": [
    "## Attention"
   ],
   "metadata": {
    "collapsed": false,
    "pycharm": {
     "name": "#%% md\n"
    }
   }
  },
  {
   "cell_type": "code",
   "execution_count": 32,
   "outputs": [],
   "source": [
    "class Attention(nn.Module):\n",
    "\n",
    "    def __init__(self, dimensions, attention_type='general'):\n",
    "        super(Attention, self).__init__()\n",
    "\n",
    "        if attention_type not in ['dot', 'general']:\n",
    "            raise ValueError(\"Invalid attention type selected\")\n",
    "\n",
    "        self.attention_type = attention_type\n",
    "        if self.attention_type == 'general':\n",
    "            self.linear_in = nn.Linear(dimensions, dimensions, bias=False)\n",
    "\n",
    "        self.linear_out = nn.Linear(dimensions * 2, dimensions, bias=False)\n",
    "        self.softmax = nn.Softmax(dim=-1)\n",
    "        self.tanh = nn.Tanh()\n",
    "\n",
    "    def forward(self, query, context):\n",
    "        \"\"\"\n",
    "\n",
    "        :param query: [batch_size, output_length, dimensions]\n",
    "        :param context: [batch_size, output_length, query_length]\n",
    "        :return:\n",
    "        output [batch_size, output_legth, dimensions]\n",
    "        weights [batch_size, output_length, query_length]\n",
    "        \"\"\"\n",
    "        batch_size, output_len, dimensions = query.size()\n",
    "        query_len = context.size(1)\n",
    "\n",
    "        if self.attention_type == 'general':\n",
    "            query = query.reshape(batch_size * output_len, dimensions)\n",
    "            query = self.linear_in(query)\n",
    "            query = query.reshape(batch_size, output_len, dimensions)\n",
    "\n",
    "        # 1. Compute a score for each encoder state\n",
    "        attention_scores = torch.bmm(query, context.transpose(1,2).contiguous())\n",
    "\n",
    "        # Compute weights across every context sequence\n",
    "        attention_scores = attention_scores.view(batch_size * output_len, query_len)\n",
    "        print(\"ATT SCORES\")\n",
    "        print(attention_scores.size())\n",
    "\n",
    "        # 2. Compute the attention weights\n",
    "        attention_weights = self.softmax(attention_scores)\n",
    "        attention_weights = attention_weights.view(batch_size, output_len, query_len)\n",
    "\n",
    "        # 3. Compute the new context vector S\n",
    "        mix = torch.bmm(attention_weights, context)\n",
    "\n",
    "        # 4. Concatenate context vector with output of previous time step\n",
    "        combined = torch.cat((mix, query), dim=2)\n",
    "        combined = combined.view(batch_size * output_len, 2 * dimensions)\n",
    "\n",
    "        #\n",
    "        output = self.linear_out(combined).view(batch_size, output_len, dimensions)\n",
    "        output = self.tanh(output)\n",
    "\n",
    "        return mix, output, attention_weights"
   ],
   "metadata": {
    "collapsed": false,
    "pycharm": {
     "name": "#%%\n"
    }
   }
  },
  {
   "cell_type": "code",
   "execution_count": 33,
   "outputs": [
    {
     "name": "stdout",
     "output_type": "stream",
     "text": [
      "Users embeddings as Query?\n",
      "tensor([ 0.7804,  0.3699, -0.7864,  0.2914, -0.6794],\n",
      "       grad_fn=<EmbeddingBackward>)\n",
      "torch.Size([5])\n"
     ]
    }
   ],
   "source": [
    "print(\"Users embeddings as Query?\")\n",
    "print(user_1_embs)\n",
    "print(user_1_embs.shape)"
   ],
   "metadata": {
    "collapsed": false,
    "pycharm": {
     "name": "#%%\n"
    }
   }
  },
  {
   "cell_type": "code",
   "execution_count": 34,
   "outputs": [
    {
     "name": "stdout",
     "output_type": "stream",
     "text": [
      "4\n",
      "tensor([ 1.0619, -0.9165, -0.2354, -0.6006])\n",
      "lstm_out_[0]).squeeze()\n",
      "tensor([-0.0058, -0.1278,  0.1569, -0.0781,  0.0857],\n",
      "       grad_fn=<SqueezeBackward0>)\n",
      "torch.Size([5])\n"
     ]
    }
   ],
   "source": [
    "print(lstm_out_.size(0))\n",
    "aligned_weights = torch.randn(lstm_out_.size(0))\n",
    "print(aligned_weights)\n",
    "\n",
    "print(\"lstm_out_[0]).squeeze()\")\n",
    "x_ = lstm_out_[0].squeeze()\n",
    "print(x_)\n",
    "print(x_.shape)"
   ],
   "metadata": {
    "collapsed": false,
    "pycharm": {
     "name": "#%%\n"
    }
   }
  },
  {
   "cell_type": "markdown",
   "source": [
    "### dot attention"
   ],
   "metadata": {
    "collapsed": false,
    "pycharm": {
     "name": "#%% md\n"
    }
   }
  },
  {
   "cell_type": "code",
   "execution_count": 34,
   "outputs": [],
   "source": [],
   "metadata": {
    "collapsed": false,
    "pycharm": {
     "name": "#%%\n"
    }
   }
  },
  {
   "cell_type": "markdown",
   "source": [
    "Atencion con el usuario?"
   ],
   "metadata": {
    "collapsed": false,
    "pycharm": {
     "name": "#%% md\n"
    }
   }
  },
  {
   "cell_type": "code",
   "execution_count": 35,
   "outputs": [],
   "source": [
    "for i in range(lstm_out_.size(0)):\n",
    "    aligned_weights[i] = torch.dot(user_1_embs, lstm_out_[i].squeeze())"
   ],
   "metadata": {
    "collapsed": false,
    "pycharm": {
     "name": "#%%\n"
    }
   }
  },
  {
   "cell_type": "code",
   "execution_count": 36,
   "outputs": [
    {
     "name": "stdout",
     "output_type": "stream",
     "text": [
      "tensor([-0.2562, -0.1816, -0.3372, -0.4654], grad_fn=<CopySlices>)\n",
      "torch.Size([4])\n",
      "tensor([[-0.2562, -0.1816, -0.3372, -0.4654]], grad_fn=<UnsqueezeBackward0>)\n",
      "torch.Size([1, 4])\n"
     ]
    }
   ],
   "source": [
    "print(aligned_weights)\n",
    "print(aligned_weights.shape)\n",
    "print(aligned_weights.unsqueeze(0))\n",
    "print(aligned_weights.unsqueeze(0).shape)"
   ],
   "metadata": {
    "collapsed": false,
    "pycharm": {
     "name": "#%%\n"
    }
   }
  },
  {
   "cell_type": "code",
   "execution_count": 37,
   "outputs": [
    {
     "name": "stdout",
     "output_type": "stream",
     "text": [
      "tensor([[0.2624, 0.2827, 0.2420, 0.2129]], grad_fn=<SoftmaxBackward>)\n",
      "torch.Size([1, 4])\n",
      "tensor([1.])\n"
     ]
    },
    {
     "name": "stderr",
     "output_type": "stream",
     "text": [
      "/media/eduardo/SSD_DATA/Appl ML Projects/venv/lib/python3.6/site-packages/ipykernel_launcher.py:1: UserWarning: Implicit dimension choice for softmax has been deprecated. Change the call to include dim=X as an argument.\n",
      "  \"\"\"Entry point for launching an IPython kernel.\n"
     ]
    }
   ],
   "source": [
    "aligned_weights_ = F.softmax(aligned_weights.unsqueeze(0))\n",
    "print(aligned_weights_)\n",
    "print(aligned_weights_.shape)\n",
    "print(torch.sum(aligned_weights_.detach(), dim=1))"
   ],
   "metadata": {
    "collapsed": false,
    "pycharm": {
     "name": "#%%\n"
    }
   }
  },
  {
   "cell_type": "markdown",
   "source": [
    "Atencion con el item?"
   ],
   "metadata": {
    "collapsed": false,
    "pycharm": {
     "name": "#%% md\n"
    }
   }
  },
  {
   "cell_type": "code",
   "execution_count": 38,
   "outputs": [],
   "source": [
    "for i in range(lstm_out_.size(0)):\n",
    "    aligned_weights[i] = torch.dot(item_1_embs, lstm_out_[i].squeeze())"
   ],
   "metadata": {
    "collapsed": false,
    "pycharm": {
     "name": "#%%\n"
    }
   }
  },
  {
   "cell_type": "code",
   "execution_count": 39,
   "outputs": [
    {
     "name": "stdout",
     "output_type": "stream",
     "text": [
      "tensor([ 0.1955,  0.0218, -0.1504, -0.3072], grad_fn=<CopySlices>)\n",
      "torch.Size([4])\n",
      "tensor([[ 0.1955,  0.0218, -0.1504, -0.3072]], grad_fn=<UnsqueezeBackward0>)\n",
      "torch.Size([1, 4])\n"
     ]
    }
   ],
   "source": [
    "print(aligned_weights)\n",
    "print(aligned_weights.shape)\n",
    "print(aligned_weights.unsqueeze(0))\n",
    "print(aligned_weights.unsqueeze(0).shape)"
   ],
   "metadata": {
    "collapsed": false,
    "pycharm": {
     "name": "#%%\n"
    }
   }
  },
  {
   "cell_type": "code",
   "execution_count": 40,
   "outputs": [
    {
     "name": "stdout",
     "output_type": "stream",
     "text": [
      "tensor([[0.3171, 0.2666, 0.2244, 0.1919]], grad_fn=<SoftmaxBackward>)\n",
      "torch.Size([1, 4])\n",
      "tensor([1.])\n"
     ]
    },
    {
     "name": "stderr",
     "output_type": "stream",
     "text": [
      "/media/eduardo/SSD_DATA/Appl ML Projects/venv/lib/python3.6/site-packages/ipykernel_launcher.py:1: UserWarning: Implicit dimension choice for softmax has been deprecated. Change the call to include dim=X as an argument.\n",
      "  \"\"\"Entry point for launching an IPython kernel.\n"
     ]
    }
   ],
   "source": [
    "aligned_weights_ = F.softmax(aligned_weights.unsqueeze(0))\n",
    "print(aligned_weights_)\n",
    "print(aligned_weights_.shape)\n",
    "print(torch.sum(aligned_weights_.detach(), dim=1))\n",
    "\n"
   ],
   "metadata": {
    "collapsed": false,
    "pycharm": {
     "name": "#%%\n"
    }
   }
  },
  {
   "cell_type": "markdown",
   "source": [
    "New Context Vector"
   ],
   "metadata": {
    "collapsed": false,
    "pycharm": {
     "name": "#%% md\n"
    }
   }
  },
  {
   "cell_type": "code",
   "execution_count": 41,
   "outputs": [
    {
     "name": "stdout",
     "output_type": "stream",
     "text": [
      "torch.Size([1, 1, 4])\n",
      "torch.Size([1, 4, 5])\n",
      "tensor([[[-0.1224, -0.0379,  0.1277,  0.0176,  0.1322]]],\n",
      "       grad_fn=<BmmBackward>)\n",
      "torch.Size([1, 1, 5])\n"
     ]
    }
   ],
   "source": [
    "print(aligned_weights_.unsqueeze(0).shape)\n",
    "print(lstm_out_.view(1,-1,hidden_dim).shape)\n",
    "\n",
    "#context_vector = torch.bmm(aligned_weights.unsqueeze(0), encoder_hidden_state.view(1, -1 ,self.hidden_size))\n",
    "context_vector = torch.bmm(aligned_weights_.unsqueeze(0), lstm_out_.view(1,-1,hidden_dim))\n",
    "\n",
    "print(context_vector)\n",
    "print(context_vector.shape)"
   ],
   "metadata": {
    "collapsed": false,
    "pycharm": {
     "name": "#%%\n"
    }
   }
  },
  {
   "cell_type": "markdown",
   "source": [
    "## Concatenate context_vector, user_emb, item_emb"
   ],
   "metadata": {
    "collapsed": false,
    "pycharm": {
     "name": "#%% md\n"
    }
   }
  },
  {
   "cell_type": "code",
   "execution_count": 42,
   "outputs": [
    {
     "name": "stdout",
     "output_type": "stream",
     "text": [
      "tensor([[[-0.1224, -0.0379,  0.1277,  0.0176,  0.1322]]],\n",
      "       grad_fn=<BmmBackward>)\n",
      "torch.Size([1, 1, 5])\n",
      "tensor([[-0.1224, -0.0379,  0.1277,  0.0176,  0.1322]],\n",
      "       grad_fn=<SelectBackward>)\n",
      "torch.Size([1, 5])\n",
      "\n",
      "torch.Size([1, 5])\n",
      "torch.Size([1, 5])\n"
     ]
    }
   ],
   "source": [
    "print(context_vector)\n",
    "print(context_vector.shape)\n",
    "print(context_vector[0])\n",
    "print(context_vector[0].shape)\n",
    "print()\n",
    "print(user_1_embs.unsqueeze(0).shape)\n",
    "print(item_1_embs.unsqueeze(0).shape)"
   ],
   "metadata": {
    "collapsed": false,
    "pycharm": {
     "name": "#%%\n"
    }
   }
  },
  {
   "cell_type": "code",
   "execution_count": 43,
   "outputs": [
    {
     "name": "stdout",
     "output_type": "stream",
     "text": [
      "tensor([[-0.1224, -0.0379,  0.1277,  0.0176,  0.1322],\n",
      "        [ 0.7804,  0.3699, -0.7864,  0.2914, -0.6794],\n",
      "        [ 0.6971,  1.2208,  1.6442, -1.8370, -0.5363]], grad_fn=<CatBackward>)\n",
      "torch.Size([3, 5])\n"
     ]
    }
   ],
   "source": [
    "x = torch.cat((context_vector[0], user_1_embs.unsqueeze(0), item_1_embs.unsqueeze(0)))\n",
    "print(x)\n",
    "print(x.shape)"
   ],
   "metadata": {
    "collapsed": false,
    "pycharm": {
     "name": "#%%\n"
    }
   }
  },
  {
   "cell_type": "code",
   "execution_count": 44,
   "outputs": [
    {
     "name": "stdout",
     "output_type": "stream",
     "text": [
      "tensor([[[-0.1224, -0.0379,  0.1277,  0.0176,  0.1322],\n",
      "         [ 0.7804,  0.3699, -0.7864,  0.2914, -0.6794],\n",
      "         [ 0.6971,  1.2208,  1.6442, -1.8370, -0.5363]]],\n",
      "       grad_fn=<UnsqueezeBackward0>)\n",
      "torch.Size([1, 3, 5])\n"
     ]
    }
   ],
   "source": [
    "print(x.unsqueeze(0))\n",
    "print(x.unsqueeze(0).shape)\n"
   ],
   "metadata": {
    "collapsed": false,
    "pycharm": {
     "name": "#%%\n"
    }
   }
  },
  {
   "cell_type": "code",
   "execution_count": 45,
   "outputs": [
    {
     "name": "stdout",
     "output_type": "stream",
     "text": [
      "tensor([[-0.1224, -0.0379,  0.1277,  0.0176,  0.1322,  0.7804,  0.3699, -0.7864,\n",
      "          0.2914, -0.6794,  0.6971,  1.2208,  1.6442, -1.8370, -0.5363]],\n",
      "       grad_fn=<CatBackward>)\n",
      "torch.Size([1, 15])\n"
     ]
    }
   ],
   "source": [
    "x_ = torch.cat((context_vector[0], user_1_embs.unsqueeze(0), item_1_embs.unsqueeze(0)), dim=1)\n",
    "print(x_)\n",
    "print(x_.shape)"
   ],
   "metadata": {
    "collapsed": false,
    "pycharm": {
     "name": "#%%\n"
    }
   }
  },
  {
   "cell_type": "code",
   "execution_count": 84,
   "outputs": [
    {
     "name": "stdout",
     "output_type": "stream",
     "text": [
      "tensor([-0.1224, -0.0379,  0.1277,  0.0176,  0.1322,  0.7804,  0.3699, -0.7864,\n",
      "         0.2914, -0.6794,  0.6971,  1.2208,  1.6442, -1.8370, -0.5363],\n",
      "       grad_fn=<SqueezeBackward0>)\n",
      "torch.Size([15])\n"
     ]
    }
   ],
   "source": [
    "x_in = x_.squeeze()\n",
    "print(x_in)\n",
    "print(x_in.shape)"
   ],
   "metadata": {
    "collapsed": false,
    "pycharm": {
     "name": "#%%\n"
    }
   }
  },
  {
   "cell_type": "code",
   "execution_count": 85,
   "outputs": [
    {
     "name": "stdout",
     "output_type": "stream",
     "text": [
      "Linear(in_features=15, out_features=5, bias=True)\n"
     ]
    }
   ],
   "source": [
    "n_latent = 32\n",
    "lin1 = nn.Linear(x_in.shape[0], 5)\n",
    "print(lin1)"
   ],
   "metadata": {
    "collapsed": false,
    "pycharm": {
     "name": "#%%\n"
    }
   }
  },
  {
   "cell_type": "code",
   "execution_count": 86,
   "outputs": [
    {
     "name": "stdout",
     "output_type": "stream",
     "text": [
      "tensor([[ 0.2217,  0.1925,  0.8500, -0.5057,  0.1228]],\n",
      "       grad_fn=<AddmmBackward>)\n",
      "torch.Size([1, 5])\n"
     ]
    }
   ],
   "source": [
    "z1 = lin1(x_)\n",
    "print(z1)\n",
    "print(z1.shape)"
   ],
   "metadata": {
    "collapsed": false,
    "pycharm": {
     "name": "#%%\n"
    }
   }
  },
  {
   "cell_type": "code",
   "execution_count": 87,
   "outputs": [
    {
     "name": "stdout",
     "output_type": "stream",
     "text": [
      "tensor([[0.2217, 0.1925, 0.8500, 0.0000, 0.1228]], grad_fn=<ReluBackward0>)\n",
      "torch.Size([1, 5])\n"
     ]
    }
   ],
   "source": [
    "out1= F.relu(z1)\n",
    "print(out1)\n",
    "print(out1.shape)"
   ],
   "metadata": {
    "collapsed": false,
    "pycharm": {
     "name": "#%%\n"
    }
   }
  },
  {
   "cell_type": "code",
   "execution_count": 88,
   "outputs": [
    {
     "name": "stdout",
     "output_type": "stream",
     "text": [
      "torch.Size([5])\n"
     ]
    }
   ],
   "source": [
    "out1 = out1.squeeze()\n",
    "print(out1.shape)\n",
    "reg = nn.Linear(out1.shape[0], 1)\n",
    "yr1 = reg(out1)"
   ],
   "metadata": {
    "collapsed": false,
    "pycharm": {
     "name": "#%%\n"
    }
   }
  },
  {
   "cell_type": "code",
   "execution_count": 89,
   "outputs": [
    {
     "name": "stdout",
     "output_type": "stream",
     "text": [
      "tensor([-0.1921], grad_fn=<AddBackward0>)\n",
      "torch.Size([1])\n"
     ]
    }
   ],
   "source": [
    "print(yr1)\n",
    "print(yr1.shape)"
   ],
   "metadata": {
    "collapsed": false,
    "pycharm": {
     "name": "#%%\n"
    }
   }
  },
  {
   "cell_type": "markdown",
   "source": [
    "Y adjust"
   ],
   "metadata": {
    "collapsed": false,
    "pycharm": {
     "name": "#%% md\n"
    }
   }
  },
  {
   "cell_type": "code",
   "execution_count": 90,
   "outputs": [
    {
     "name": "stdout",
     "output_type": "stream",
     "text": [
      "5.5\n"
     ]
    }
   ],
   "source": [
    "y_range = (0, 5.5)\n",
    "y_adjust= (y_range[1] - y_range[0]) + y_range[0]\n",
    "print(y_adjust)"
   ],
   "metadata": {
    "collapsed": false,
    "pycharm": {
     "name": "#%%\n"
    }
   }
  },
  {
   "cell_type": "code",
   "execution_count": 91,
   "outputs": [
    {
     "name": "stdout",
     "output_type": "stream",
     "text": [
      "tensor([-1.0567], grad_fn=<MulBackward0>)\n"
     ]
    }
   ],
   "source": [
    "print(yr1 * y_adjust)"
   ],
   "metadata": {
    "collapsed": false,
    "pycharm": {
     "name": "#%%\n"
    }
   }
  },
  {
   "cell_type": "markdown",
   "source": [
    "Second head"
   ],
   "metadata": {
    "collapsed": false,
    "pycharm": {
     "name": "#%% md\n"
    }
   }
  },
  {
   "cell_type": "code",
   "execution_count": 92,
   "outputs": [
    {
     "name": "stdout",
     "output_type": "stream",
     "text": [
      "Linear(in_features=15, out_features=5, bias=True)\n"
     ]
    }
   ],
   "source": [
    "lin2 = nn.Linear(x_in.shape[0], 5)\n",
    "print(lin2)"
   ],
   "metadata": {
    "collapsed": false,
    "pycharm": {
     "name": "#%%\n"
    }
   }
  },
  {
   "cell_type": "code",
   "execution_count": 93,
   "outputs": [
    {
     "name": "stdout",
     "output_type": "stream",
     "text": [
      "tensor([[-0.6157, -0.5333, -0.8299, -0.1530,  0.0195]],\n",
      "       grad_fn=<AddmmBackward>)\n",
      "torch.Size([1, 5])\n"
     ]
    }
   ],
   "source": [
    "z2 = lin2(x_)\n",
    "print(z2)\n",
    "print(z2.shape)"
   ],
   "metadata": {
    "collapsed": false,
    "pycharm": {
     "name": "#%%\n"
    }
   }
  },
  {
   "cell_type": "code",
   "execution_count": 94,
   "outputs": [
    {
     "name": "stdout",
     "output_type": "stream",
     "text": [
      "tensor([[0.0000, 0.0000, 0.0000, 0.0000, 0.0195]], grad_fn=<ReluBackward0>)\n",
      "torch.Size([1, 5])\n"
     ]
    }
   ],
   "source": [
    "out2= F.relu(z2)\n",
    "print(out2)\n",
    "print(out2.shape)"
   ],
   "metadata": {
    "collapsed": false,
    "pycharm": {
     "name": "#%%\n"
    }
   }
  },
  {
   "cell_type": "code",
   "execution_count": 95,
   "outputs": [
    {
     "name": "stdout",
     "output_type": "stream",
     "text": [
      "torch.Size([5])\n"
     ]
    }
   ],
   "source": [
    "out2 = out2.squeeze()\n",
    "print(out2.shape)\n",
    "reg = nn.Linear(out2.shape[0], 1)\n",
    "yr2 = reg(out2)"
   ],
   "metadata": {
    "collapsed": false,
    "pycharm": {
     "name": "#%%\n"
    }
   }
  },
  {
   "cell_type": "code",
   "execution_count": 96,
   "outputs": [
    {
     "name": "stdout",
     "output_type": "stream",
     "text": [
      "tensor([-0.0370], grad_fn=<AddBackward0>)\n",
      "torch.Size([1])\n"
     ]
    }
   ],
   "source": [
    "print(yr2)\n",
    "print(yr2.shape)"
   ],
   "metadata": {
    "collapsed": false,
    "pycharm": {
     "name": "#%%\n"
    }
   }
  },
  {
   "cell_type": "code",
   "execution_count": 97,
   "outputs": [
    {
     "name": "stdout",
     "output_type": "stream",
     "text": [
      "tensor([-0.2032], grad_fn=<MulBackward0>)\n"
     ]
    }
   ],
   "source": [
    "print(yr2 * y_adjust)\n"
   ],
   "metadata": {
    "collapsed": false,
    "pycharm": {
     "name": "#%%\n"
    }
   }
  },
  {
   "cell_type": "markdown",
   "source": [
    "## overall rating"
   ],
   "metadata": {
    "collapsed": false,
    "pycharm": {
     "name": "#%% md\n"
    }
   }
  },
  {
   "cell_type": "code",
   "execution_count": 98,
   "outputs": [
    {
     "name": "stdout",
     "output_type": "stream",
     "text": [
      "tensor([0.2217, 0.1925, 0.8500, 0.0000, 0.1228], grad_fn=<SqueezeBackward0>)\n",
      "torch.Size([5])\n",
      "tensor([0.0000, 0.0000, 0.0000, 0.0000, 0.0195], grad_fn=<SqueezeBackward0>)\n",
      "torch.Size([5])\n"
     ]
    }
   ],
   "source": [
    "print(out1)\n",
    "print(out1.shape)\n",
    "print(out2)\n",
    "print(out2.shape)"
   ],
   "metadata": {
    "collapsed": false,
    "pycharm": {
     "name": "#%%\n"
    }
   }
  },
  {
   "cell_type": "code",
   "execution_count": 99,
   "outputs": [
    {
     "name": "stdout",
     "output_type": "stream",
     "text": [
      "\n",
      "tensor([[0.2217, 0.1925, 0.8500, 0.0000, 0.1228],\n",
      "        [0.0000, 0.0000, 0.0000, 0.0000, 0.0195]], grad_fn=<CatBackward>)\n",
      "torch.Size([2, 5])\n"
     ]
    }
   ],
   "source": [
    "o1 = out1.unsqueeze(0)\n",
    "o2 = out2.unsqueeze(0)\n",
    "print()\n",
    "t = torch.cat((o1, o2), dim=0)\n",
    "print(t)\n",
    "print(t.shape)"
   ],
   "metadata": {
    "collapsed": false,
    "pycharm": {
     "name": "#%%\n"
    }
   }
  },
  {
   "cell_type": "code",
   "execution_count": 100,
   "outputs": [
    {
     "name": "stdout",
     "output_type": "stream",
     "text": [
      "tensor([0.2217, 0.1925, 0.8500, 0.0000, 0.1228], grad_fn=<SqueezeBackward0>)\n",
      "torch.Size([5])\n"
     ]
    }
   ],
   "source": [
    "t_ = t[0].squeeze()\n",
    "print(t_)\n",
    "print(t_.shape)"
   ],
   "metadata": {
    "collapsed": false,
    "pycharm": {
     "name": "#%%\n"
    }
   }
  },
  {
   "cell_type": "code",
   "execution_count": 101,
   "outputs": [
    {
     "name": "stdout",
     "output_type": "stream",
     "text": [
      "torch.Size([5])\n",
      "tensor([ 0.5440,  0.4515, -1.2929, -0.5352,  0.3643], grad_fn=<MulBackward0>)\n",
      "torch.Size([5])\n"
     ]
    }
   ],
   "source": [
    "print(user_1_embs.shape)\n",
    "u_i = torch.mul(user_1_embs, item_1_embs)\n",
    "print(u_i)\n",
    "print(u_i.shape)"
   ],
   "metadata": {
    "collapsed": false,
    "pycharm": {
     "name": "#%%\n"
    }
   }
  },
  {
   "cell_type": "code",
   "execution_count": 102,
   "outputs": [
    {
     "name": "stdout",
     "output_type": "stream",
     "text": [
      "tensor([-1.2850,  0.8361])\n"
     ]
    }
   ],
   "source": [
    "aligned_weights = torch.randn(t.size(0))\n",
    "print(aligned_weights)"
   ],
   "metadata": {
    "collapsed": false,
    "pycharm": {
     "name": "#%%\n"
    }
   }
  },
  {
   "cell_type": "code",
   "execution_count": 103,
   "outputs": [],
   "source": [
    "for i in range(t.size(0)):\n",
    "    aligned_weights[i] = torch.dot(u_i, t[i].squeeze())"
   ],
   "metadata": {
    "collapsed": false,
    "pycharm": {
     "name": "#%%\n"
    }
   }
  },
  {
   "cell_type": "code",
   "execution_count": 104,
   "outputs": [
    {
     "name": "stdout",
     "output_type": "stream",
     "text": [
      "tensor([-0.8467,  0.0071], grad_fn=<CopySlices>)\n",
      "torch.Size([2])\n",
      "tensor([[-0.8467,  0.0071]], grad_fn=<UnsqueezeBackward0>)\n",
      "torch.Size([1, 2])\n"
     ]
    }
   ],
   "source": [
    "print(aligned_weights)\n",
    "print(aligned_weights.shape)\n",
    "print(aligned_weights.unsqueeze(0))\n",
    "print(aligned_weights.unsqueeze(0).shape)"
   ],
   "metadata": {
    "collapsed": false,
    "pycharm": {
     "name": "#%%\n"
    }
   }
  },
  {
   "cell_type": "code",
   "execution_count": 105,
   "outputs": [
    {
     "name": "stdout",
     "output_type": "stream",
     "text": [
      "tensor([[0.2986, 0.7014]], grad_fn=<SoftmaxBackward>)\n",
      "torch.Size([1, 2])\n",
      "tensor([1.])\n"
     ]
    },
    {
     "name": "stderr",
     "output_type": "stream",
     "text": [
      "/media/eduardo/SSD_DATA/Appl ML Projects/venv/lib/python3.6/site-packages/ipykernel_launcher.py:1: UserWarning: Implicit dimension choice for softmax has been deprecated. Change the call to include dim=X as an argument.\n",
      "  \"\"\"Entry point for launching an IPython kernel.\n"
     ]
    }
   ],
   "source": [
    "aligned_weights_ = F.softmax(aligned_weights.unsqueeze(0))\n",
    "print(aligned_weights_)\n",
    "print(aligned_weights_.shape)\n",
    "print(torch.sum(aligned_weights_.detach(), dim=1))"
   ],
   "metadata": {
    "collapsed": false,
    "pycharm": {
     "name": "#%%\n"
    }
   }
  },
  {
   "cell_type": "code",
   "execution_count": null,
   "outputs": [],
   "source": [],
   "metadata": {
    "collapsed": false,
    "pycharm": {
     "name": "#%%\n"
    }
   }
  },
  {
   "cell_type": "markdown",
   "source": [
    "New Context Vector para el overall rating"
   ],
   "metadata": {
    "collapsed": false
   }
  },
  {
   "cell_type": "code",
   "execution_count": 106,
   "outputs": [
    {
     "name": "stdout",
     "output_type": "stream",
     "text": [
      "torch.Size([1, 1, 2])\n",
      "torch.Size([1, 2, 5])\n",
      "tensor([[[0.0662, 0.0575, 0.2538, 0.0000, 0.0503]]], grad_fn=<BmmBackward>)\n",
      "torch.Size([1, 1, 5])\n"
     ]
    }
   ],
   "source": [
    "print(aligned_weights_.unsqueeze(0).shape)\n",
    "print(t.view(1,-1,hidden_dim).shape)\n",
    "\n",
    "#context_vector = torch.bmm(aligned_weights.unsqueeze(0), encoder_hidden_state.view(1, -1 ,self.hidden_size))\n",
    "context_vector = torch.bmm(aligned_weights_.unsqueeze(0), t.view(1,-1,hidden_dim))\n",
    "\n",
    "print(context_vector)\n",
    "print(context_vector.shape)\n"
   ],
   "metadata": {
    "collapsed": false,
    "pycharm": {
     "name": "#%%\n"
    }
   }
  },
  {
   "cell_type": "code",
   "execution_count": null,
   "outputs": [],
   "source": [
    "\n"
   ],
   "metadata": {
    "collapsed": false,
    "pycharm": {
     "name": "#%%\n"
    }
   }
  }
 ],
 "metadata": {
  "kernelspec": {
   "display_name": "Python 3",
   "language": "python",
   "name": "python3"
  },
  "language_info": {
   "codemirror_mode": {
    "name": "ipython",
    "version": 2
   },
   "file_extension": ".py",
   "mimetype": "text/x-python",
   "name": "python",
   "nbconvert_exporter": "python",
   "pygments_lexer": "ipython2",
   "version": "2.7.6"
  }
 },
 "nbformat": 4,
 "nbformat_minor": 0
}