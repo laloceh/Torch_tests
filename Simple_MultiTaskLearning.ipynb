{
 "cells": [
  {
   "cell_type": "code",
   "execution_count": null,
   "metadata": {
    "collapsed": true
   },
   "outputs": [],
   "source": [
    "### https://github.com/hosseinshn/Basic-Multi-task-Learning/blob/master/MTL-Pytorch.ipynb"
   ]
  },
  {
   "cell_type": "code",
   "execution_count": 36,
   "outputs": [],
   "source": [
    "import torch\n",
    "import torch.nn as nn\n",
    "from torch.autograd import Variable\n",
    "import numpy as np\n",
    "import matplotlib.pyplot as plt\n",
    "import random\n",
    "import math\n"
   ],
   "metadata": {
    "collapsed": false,
    "pycharm": {
     "name": "#%%\n"
    }
   }
  },
  {
   "cell_type": "markdown",
   "source": [
    "### Prepare the data"
   ],
   "metadata": {
    "collapsed": false,
    "pycharm": {
     "name": "#%% md\n"
    }
   }
  },
  {
   "cell_type": "code",
   "execution_count": 3,
   "outputs": [],
   "source": [
    "seed = 42\n",
    "random.seed(seed)\n",
    "torch.cuda.manual_seed_all(seed)\n",
    "\n",
    "N = 10000\n",
    "M = 100\n",
    "c = 0.5\n",
    "p = 0.9\n",
    "k = np.random.randn(M)\n",
    "u1 = np.random.randn(M)\n",
    "u1 -= u1.dot(k) * k / np.linalg.norm(k)**2\n",
    "u1 /= np.linalg.norm(u1)\n",
    "k /= np.linalg.norm(k)\n",
    "u2 = k\n",
    "w1 = c*u1\n",
    "w2 = c*(p*u1+np.sqrt((1-p**2))*u2)\n",
    "X = np.random.normal(0, 1, (N, M))\n",
    "eps1 = np.random.normal(0, 0.01)\n",
    "eps2 = np.random.normal(0, 0.01)\n",
    "Y1 = np.matmul(X, w1) + np.sin(np.matmul(X, w1))+eps1\n",
    "Y2 = np.matmul(X, w2) + np.sin(np.matmul(X, w2))+eps2\n",
    "split = list(np.random.permutation(N))"
   ],
   "metadata": {
    "collapsed": false,
    "pycharm": {
     "name": "#%%\n"
    }
   }
  },
  {
   "cell_type": "code",
   "execution_count": 10,
   "outputs": [
    {
     "name": "stdout",
     "output_type": "stream",
     "text": [
      "X_train shape: (8000, 100)\n",
      "X_valid shape: (1000, 100)\n",
      "X_test shape: (1000, 100)\n",
      "Y1_train shape: (8000,)\n",
      "Y2_train shape: (8000,)\n",
      "Y1_valid shape: (1000,)\n",
      "Y2_valid shape: (1000,)\n",
      "Y1_test shape: (1000,)\n",
      "Y2_test shape: (1000,)\n"
     ]
    }
   ],
   "source": [
    "X_train = X[split[0:8000],:]\n",
    "Y1_train = Y1[split[0:8000]]\n",
    "Y2_train = Y2[split[0:8000]]\n",
    "X_valid = X[8000:9000,:]\n",
    "Y1_valid = Y1[8000:9000]\n",
    "Y2_valid = Y2[8000:9000]\n",
    "X_test = X[9000:10000,:]\n",
    "Y1_test = Y1[9000:10000]\n",
    "Y2_test = Y2[9000:10000]\n",
    "print(\"X_train shape:\",X_train.shape)\n",
    "print(\"X_valid shape:\",X_valid.shape)\n",
    "print(\"X_test shape:\",X_test.shape)\n",
    "print(\"Y1_train shape:\",Y1_train.shape)\n",
    "print(\"Y2_train shape:\",Y2_train.shape)\n",
    "print(\"Y1_valid shape:\",Y1_valid.shape)\n",
    "print(\"Y2_valid shape:\",Y2_valid.shape)\n",
    "print(\"Y1_test shape:\",Y1_test.shape)\n",
    "print(\"Y2_test shape:\",Y2_test.shape)"
   ],
   "metadata": {
    "collapsed": false,
    "pycharm": {
     "name": "#%%\n"
    }
   }
  },
  {
   "cell_type": "markdown",
   "source": [
    "### MTL definition"
   ],
   "metadata": {
    "collapsed": false,
    "pycharm": {
     "name": "#%% md\n"
    }
   }
  },
  {
   "cell_type": "code",
   "execution_count": 18,
   "outputs": [
    {
     "name": "stdout",
     "output_type": "stream",
     "text": [
      "X shape: (10000, 100)\n",
      "Input size [row]: 10000\n",
      "Feature size [cols]: 100\n"
     ]
    }
   ],
   "source": [
    "print(\"X shape:\", X.shape)\n",
    "input_size = X.shape[0]\n",
    "feature_size = X.shape[1]\n",
    "print(\"Input size [row]:\", input_size)\n",
    "print(\"Feature size [cols]:\", feature_size)\n",
    "\n",
    "shared_layer_size = 64\n",
    "layer_1_h_size = 32\n",
    "layer_2_h_size = 16\n",
    "output_size = 1\n",
    "\n",
    "lr = 0.001\n",
    "epoch = 50\n",
    "batch_size = 100\n",
    "\n",
    "cost_task_1 = []\n",
    "cost_task_2 = []\n",
    "\n",
    "cost_task_val_1 = []\n",
    "cost_task_val_2 = []\n",
    "\n",
    "cost_task_test_1 = []\n",
    "cost_task_test_2 = []\n",
    "\n",
    "cost_total = []\n",
    "cost_validation = []\n",
    "cost_test = []"
   ],
   "metadata": {
    "collapsed": false,
    "pycharm": {
     "name": "#%%\n"
    }
   }
  },
  {
   "cell_type": "code",
   "execution_count": 19,
   "outputs": [],
   "source": [
    "class MTLnet(nn.Module):\n",
    "    def __init__(self):\n",
    "        super(MTLnet, self).__init__()\n",
    "\n",
    "        self.shared_layer = nn.Sequential(\n",
    "            nn.Linear(feature_size, shared_layer_size),\n",
    "            nn.ReLU(),\n",
    "            nn.Dropout()\n",
    "        )\n",
    "\n",
    "        self.task1_layer = nn.Sequential(\n",
    "            nn.Linear(shared_layer_size, layer_1_h_size),\n",
    "            nn.ReLU(),\n",
    "            nn.Dropout(),\n",
    "            nn.Linear(layer_1_h_size, layer_2_h_size),\n",
    "            nn.ReLU(),\n",
    "            nn.Dropout(),\n",
    "            nn.Linear(layer_2_h_size, output_size)\n",
    "        )\n",
    "\n",
    "        self.task2_layer = nn.Sequential(\n",
    "            nn.Linear(shared_layer_size, layer_1_h_size),\n",
    "            nn.ReLU(),\n",
    "            nn.Dropout(),\n",
    "            nn.Linear(layer_1_h_size, layer_2_h_size),\n",
    "            nn.ReLU(),\n",
    "            nn.Dropout(),\n",
    "            nn.Linear(layer_2_h_size, output_size)\n",
    "        )\n",
    "\n",
    "    def forward(self, x):\n",
    "        h_shared = self.shared_layer(x)\n",
    "        out1 = self.task1_layer(h_shared)\n",
    "        out2 = self.task2_layer(h_shared)\n",
    "\n",
    "        return out1, out2"
   ],
   "metadata": {
    "collapsed": false,
    "pycharm": {
     "name": "#%%\n"
    }
   }
  },
  {
   "cell_type": "markdown",
   "source": [
    "### Create a function to retrieve mini batches"
   ],
   "metadata": {
    "collapsed": false,
    "pycharm": {
     "name": "#%% md\n"
    }
   }
  },
  {
   "cell_type": "code",
   "execution_count": 24,
   "outputs": [],
   "source": [
    "def random_mini_batches(XE, R1E, R2E, mini_batch_size = 10, seed = 42):\n",
    "    # Creating the mini-batches\n",
    "    np.random.seed(seed)\n",
    "    m = XE.shape[0]\n",
    "    mini_batches = []\n",
    "    permutation = list(np.random.permutation(m))\n",
    "    shuffled_XE = XE[permutation,:]\n",
    "    shuffled_X1R = R1E[permutation]\n",
    "    shuffled_X2R = R2E[permutation]\n",
    "    num_complete_minibatches = math.floor(m/mini_batch_size)\n",
    "    for k in range(0, int(num_complete_minibatches)):\n",
    "        mini_batch_XE = shuffled_XE[k * mini_batch_size : (k+1) * mini_batch_size, :]\n",
    "        mini_batch_X1R = shuffled_X1R[k * mini_batch_size : (k+1) * mini_batch_size]\n",
    "        mini_batch_X2R = shuffled_X2R[k * mini_batch_size : (k+1) * mini_batch_size]\n",
    "        mini_batch = (mini_batch_XE, mini_batch_X1R, mini_batch_X2R)\n",
    "        mini_batches.append(mini_batch)\n",
    "    Lower = int(num_complete_minibatches * mini_batch_size)\n",
    "    Upper = int(m - (mini_batch_size * math.floor(m/mini_batch_size)))\n",
    "    if m % mini_batch_size != 0:\n",
    "        mini_batch_XE = shuffled_XE[Lower : Lower + Upper, :]\n",
    "        mini_batch_X1R = shuffled_X1R[Lower : Lower + Upper]\n",
    "        mini_batch_X2R = shuffled_X2R[Lower : Lower + Upper]\n",
    "        mini_batch = (mini_batch_XE, mini_batch_X1R, mini_batch_X2R)\n",
    "        mini_batches.append(mini_batch)\n",
    "\n",
    "    return mini_batches\n"
   ],
   "metadata": {
    "collapsed": false,
    "pycharm": {
     "name": "#%%\n"
    }
   }
  },
  {
   "cell_type": "markdown",
   "source": [
    "### Define a Loss Function"
   ],
   "metadata": {
    "collapsed": false,
    "pycharm": {
     "name": "#%% md\n"
    }
   }
  },
  {
   "cell_type": "code",
   "execution_count": 109,
   "outputs": [],
   "source": [
    "def MTL_Loss(Yhat1, YE1, Yhat2, YE2):\n",
    "    lf = nn.MSELoss()\n",
    "    l1 = lf(Yhat1, YE1.view(-1,1))\n",
    "    l2 = lf(Yhat2, YE2.view(-1,1))\n",
    "    loss = (l1 + l2) / 2\n",
    "\n",
    "    return loss"
   ],
   "metadata": {
    "collapsed": false,
    "pycharm": {
     "name": "#%%\n"
    }
   }
  },
  {
   "cell_type": "markdown",
   "source": [
    "### Compile the network"
   ],
   "metadata": {
    "collapsed": false
   }
  },
  {
   "cell_type": "code",
   "execution_count": 116,
   "outputs": [],
   "source": [
    "MTL = MTLnet()\n",
    "optimizer = torch.optim.Adam(MTL.parameters(), lr=lr)\n",
    "loss_func = nn.MSELoss()\n",
    "\n"
   ],
   "metadata": {
    "collapsed": false,
    "pycharm": {
     "name": "#%%\n"
    }
   }
  },
  {
   "cell_type": "markdown",
   "source": [
    "### Train the network"
   ],
   "metadata": {
    "collapsed": false,
    "pycharm": {
     "name": "#%% md\n"
    }
   }
  },
  {
   "cell_type": "code",
   "execution_count": 117,
   "outputs": [
    {
     "name": "stdout",
     "output_type": "stream",
     "text": [
      "Num minibatches 100\n",
      "Minibatch size 80\n",
      "Iter-1, Total Loss: 0.5922\n",
      "\n",
      "Num minibatches 100\n",
      "Minibatch size 80\n",
      "Iter-2, Total Loss: 0.3165\n",
      "\n",
      "Num minibatches 100\n",
      "Minibatch size 80\n",
      "Iter-3, Total Loss: 0.2383\n",
      "\n",
      "Num minibatches 100\n",
      "Minibatch size 80\n",
      "Iter-4, Total Loss: 0.1684\n",
      "\n",
      "Num minibatches 100\n",
      "Minibatch size 80\n",
      "Iter-5, Total Loss: 0.1933\n",
      "\n",
      "Num minibatches 100\n",
      "Minibatch size 80\n",
      "Iter-6, Total Loss: 0.1861\n",
      "\n",
      "Num minibatches 100\n",
      "Minibatch size 80\n",
      "Iter-7, Total Loss: 0.1607\n",
      "\n",
      "Num minibatches 100\n",
      "Minibatch size 80\n",
      "Iter-8, Total Loss: 0.1459\n",
      "\n",
      "Num minibatches 100\n",
      "Minibatch size 80\n",
      "Iter-9, Total Loss: 0.1343\n",
      "\n",
      "Num minibatches 100\n",
      "Minibatch size 80\n",
      "Iter-10, Total Loss: 0.1574\n",
      "\n",
      "Num minibatches 100\n",
      "Minibatch size 80\n",
      "Iter-11, Total Loss: 0.1628\n",
      "\n",
      "Num minibatches 100\n",
      "Minibatch size 80\n",
      "Iter-12, Total Loss: 0.1578\n",
      "\n",
      "Num minibatches 100\n",
      "Minibatch size 80\n",
      "Iter-13, Total Loss: 0.1429\n",
      "\n",
      "Num minibatches 100\n",
      "Minibatch size 80\n",
      "Iter-14, Total Loss: 0.1413\n",
      "\n",
      "Num minibatches 100\n",
      "Minibatch size 80\n",
      "Iter-15, Total Loss: 0.1893\n",
      "\n",
      "Num minibatches 100\n",
      "Minibatch size 80\n",
      "Iter-16, Total Loss: 0.1202\n",
      "\n",
      "Num minibatches 100\n",
      "Minibatch size 80\n",
      "Iter-17, Total Loss: 0.1246\n",
      "\n",
      "Num minibatches 100\n",
      "Minibatch size 80\n",
      "Iter-18, Total Loss: 0.1174\n",
      "\n",
      "Num minibatches 100\n",
      "Minibatch size 80\n",
      "Iter-19, Total Loss: 0.1425\n",
      "\n",
      "Num minibatches 100\n",
      "Minibatch size 80\n",
      "Iter-20, Total Loss: 0.1558\n",
      "\n",
      "Num minibatches 100\n",
      "Minibatch size 80\n",
      "Iter-21, Total Loss: 0.1439\n",
      "\n",
      "Num minibatches 100\n",
      "Minibatch size 80\n",
      "Iter-22, Total Loss: 0.1647\n",
      "\n",
      "Num minibatches 100\n",
      "Minibatch size 80\n",
      "Iter-23, Total Loss: 0.1541\n",
      "\n",
      "Num minibatches 100\n",
      "Minibatch size 80\n",
      "Iter-24, Total Loss: 0.1326\n",
      "\n",
      "Num minibatches 100\n",
      "Minibatch size 80\n",
      "Iter-25, Total Loss: 0.1426\n",
      "\n",
      "Num minibatches 100\n",
      "Minibatch size 80\n",
      "Iter-26, Total Loss: 0.1693\n",
      "\n",
      "Num minibatches 100\n",
      "Minibatch size 80\n",
      "Iter-27, Total Loss: 0.1208\n",
      "\n",
      "Num minibatches 100\n",
      "Minibatch size 80\n",
      "Iter-28, Total Loss: 0.1686\n",
      "\n",
      "Num minibatches 100\n",
      "Minibatch size 80\n",
      "Iter-29, Total Loss: 0.1273\n",
      "\n",
      "Num minibatches 100\n",
      "Minibatch size 80\n",
      "Iter-30, Total Loss: 0.1961\n",
      "\n",
      "Num minibatches 100\n",
      "Minibatch size 80\n",
      "Iter-31, Total Loss: 0.1532\n",
      "\n",
      "Num minibatches 100\n",
      "Minibatch size 80\n",
      "Iter-32, Total Loss: 0.1412\n",
      "\n",
      "Num minibatches 100\n",
      "Minibatch size 80\n",
      "Iter-33, Total Loss: 0.1204\n",
      "\n",
      "Num minibatches 100\n",
      "Minibatch size 80\n",
      "Iter-34, Total Loss: 0.1145\n",
      "\n",
      "Num minibatches 100\n",
      "Minibatch size 80\n",
      "Iter-35, Total Loss: 0.1259\n",
      "\n",
      "Num minibatches 100\n",
      "Minibatch size 80\n",
      "Iter-36, Total Loss: 0.1214\n",
      "\n",
      "Num minibatches 100\n",
      "Minibatch size 80\n",
      "Iter-37, Total Loss: 0.09915\n",
      "\n",
      "Num minibatches 100\n",
      "Minibatch size 80\n",
      "Iter-38, Total Loss: 0.1462\n",
      "\n",
      "Num minibatches 100\n",
      "Minibatch size 80\n",
      "Iter-39, Total Loss: 0.1141\n",
      "\n",
      "Num minibatches 100\n",
      "Minibatch size 80\n",
      "Iter-40, Total Loss: 0.177\n",
      "\n",
      "Num minibatches 100\n",
      "Minibatch size 80\n",
      "Iter-41, Total Loss: 0.1207\n",
      "\n",
      "Num minibatches 100\n",
      "Minibatch size 80\n",
      "Iter-42, Total Loss: 0.1685\n",
      "\n",
      "Num minibatches 100\n",
      "Minibatch size 80\n",
      "Iter-43, Total Loss: 0.1217\n",
      "\n",
      "Num minibatches 100\n",
      "Minibatch size 80\n",
      "Iter-44, Total Loss: 0.1059\n",
      "\n",
      "Num minibatches 100\n",
      "Minibatch size 80\n",
      "Iter-45, Total Loss: 0.1219\n",
      "\n",
      "Num minibatches 100\n",
      "Minibatch size 80\n",
      "Iter-46, Total Loss: 0.1561\n",
      "\n",
      "Num minibatches 100\n",
      "Minibatch size 80\n",
      "Iter-47, Total Loss: 0.1523\n",
      "\n",
      "Num minibatches 100\n",
      "Minibatch size 80\n",
      "Iter-48, Total Loss: 0.1308\n",
      "\n",
      "Num minibatches 100\n",
      "Minibatch size 80\n",
      "Iter-49, Total Loss: 0.139\n",
      "\n",
      "Num minibatches 100\n",
      "Minibatch size 80\n",
      "Iter-50, Total Loss: 0.1671\n",
      "\n"
     ]
    }
   ],
   "source": [
    "for iteration in range(epoch):\n",
    "    epoch_cost = 0\n",
    "    epoch_cost_task1 = 0\n",
    "    epoch_cost_task2 = 0\n",
    "\n",
    "    num_minibatches = int(input_size/batch_size)\n",
    "    print(\"Num minibatches\",num_minibatches)\n",
    "    minibatches = random_mini_batches(X_train, Y1_train, Y2_train, batch_size)\n",
    "    print(\"Minibatch size\", len(minibatches))\n",
    "\n",
    "    for minibatch in minibatches:\n",
    "        XE, YE1, YE2 = minibatch\n",
    "\n",
    "        XE = torch.from_numpy(XE).float()\n",
    "        YE1 = torch.from_numpy(YE1).float()\n",
    "        YE2 = torch.from_numpy(YE2).float()\n",
    "        Yhat1, Yhat2 = MTL(XE)\n",
    "\n",
    "\n",
    "        l1 = loss_func(Yhat1, YE1.view(-1,1))\n",
    "        l2 = loss_func(Yhat2, YE2.view(-1,1))\n",
    "        loss = (l1 + l2) / 2\n",
    "\n",
    "        #loss = MTL_Loss(Yhat1, YE1, Yhat2, YE2)\n",
    "\n",
    "        optimizer.zero_grad()\n",
    "        loss.backward()\n",
    "        optimizer.step()\n",
    "\n",
    "        epoch_cost = epoch_cost + (loss/num_minibatches)\n",
    "        epoch_cost_task1 = epoch_cost_task1 + (l1/num_minibatches)\n",
    "        epoch_cost_task2 = epoch_cost_task2 + (l2/num_minibatches)\n",
    "\n",
    "    cost_total.append(torch.mean(epoch_cost))\n",
    "    cost_task_1.append(torch.mean(epoch_cost_task1))\n",
    "    cost_task_2.append(torch.mean(epoch_cost_task2))\n",
    "\n",
    "    with torch.no_grad(): # To evaluate\n",
    "        #X_valid = torch.from_numpy(X_valid).float()\n",
    "        #Y1_valid = torch.from_numpy(Y1_valid).float()\n",
    "        #Y2_valid = torch.from_numpy(Y2_valid).float()\n",
    "\n",
    "        Y_hat_val_1, Y_hat_val_2 = MTL(X_valid)\n",
    "        loss_val_1 = loss_func(Y_hat_val_1, Y1_valid.view(-1,1))\n",
    "        loss_val_2 = loss_func(Y_hat_val_2, Y2_valid.view(-1,1))\n",
    "        loss_val = (loss_val_1+loss_val_2)/2\n",
    "\n",
    "        cost_task_val_1.append(loss_val_1)\n",
    "        cost_task_val_2.append(loss_val_2)\n",
    "        cost_validation.append(loss_val)\n",
    "        print(\"Iter-{}, Total Loss: {:.4}\".format(iteration+1, loss.data.item()))\n",
    "        print()"
   ],
   "metadata": {
    "collapsed": false,
    "pycharm": {
     "name": "#%%\n"
    }
   }
  },
  {
   "cell_type": "markdown",
   "source": [
    "### Plots"
   ],
   "metadata": {
    "collapsed": false,
    "pycharm": {
     "name": "#%% md\n"
    }
   }
  },
  {
   "cell_type": "code",
   "execution_count": 118,
   "outputs": [
    {
     "data": {
      "text/plain": "<Figure size 432x288 with 1 Axes>",
      "image/png": "[encoded data removed]"
     },
     "metadata": {
      "needs_background": "light"
     },
     "output_type": "display_data"
    },
    {
     "data": {
      "text/plain": "<Figure size 432x288 with 1 Axes>",
      "image/png": "[encoded data removed]"
     },
     "metadata": {
      "needs_background": "light"
     },
     "output_type": "display_data"
    },
    {
     "data": {
      "text/plain": "<Figure size 432x288 with 1 Axes>",
      "image/png": "[encoded data removed]"
     },
     "metadata": {
      "needs_background": "light"
     },
     "output_type": "display_data"
    }
   ],
   "source": [
    "plt.plot(np.squeeze(cost_total), '-r', np.squeeze(cost_validation), '-b')\n",
    "plt.ylabel('Total Cost')\n",
    "plt.xlabel(\"Iterations (x10)\")\n",
    "plt.show()\n",
    "\n",
    "plt.plot(np.squeeze(cost_task_1), '-r', np.squeeze(cost_task_val_1), '-b')\n",
    "plt.ylabel(\"Task 1 cost\")\n",
    "plt.xlabel(\"Iterations (x10)\")\n",
    "plt.show()\n",
    "\n",
    "plt.plot(np.squeeze(cost_task_2), '-r', np.squeeze(cost_task_val_2), '-b')\n",
    "plt.ylabel(\"Task 2 cost\")\n",
    "plt.xlabel(\"Iterations (x10)\")\n",
    "plt.show()"
   ],
   "metadata": {
    "collapsed": false,
    "pycharm": {
     "name": "#%%\n"
    }
   }
  },
  {
   "cell_type": "markdown",
   "source": [
    "### Trying the testing"
   ],
   "metadata": {
    "collapsed": false,
    "pycharm": {
     "name": "#%% md\n"
    }
   }
  },
  {
   "cell_type": "code",
   "execution_count": 119,
   "outputs": [
    {
     "name": "stdout",
     "output_type": "stream",
     "text": [
      "Task 1 ground truth\n",
      "[-0.72161804  0.74349062  1.61617758 -0.44607916  0.49524973  0.07754001\n",
      " -1.70951239 -0.17257475  0.26834699 -1.35984282]\n",
      "Task 1 ground truth\n",
      "[-0.67468327  0.90825528  1.50279447  0.23291663  0.09244194  0.45388838\n",
      " -1.42987715 -0.30332321  0.39646699 -1.14497807]\n",
      "-0.988\t-0.5633\n",
      "0.5529\t0.4359\n",
      "0.6248\t1.14\n",
      "-0.1705\t0.2934\n",
      "0.4536\t0.2863\n",
      "0.05325\t0.6751\n",
      "-1.537\t-0.6368\n",
      "-0.0298\t-0.413\n",
      "0.4582\t0.372\n",
      "-1.855\t-1.398\n"
     ]
    }
   ],
   "source": [
    "# Get the first element from test\n",
    "#X_test_0 = X_test[0]\n",
    "print(\"Task 1 ground truth\")\n",
    "print(Y1_test[:10])\n",
    "print(\"Task 1 ground truth\")\n",
    "print(Y2_test[:10])\n",
    "\n",
    "\n",
    "with torch.no_grad(): # To evaluate\n",
    "    for test in X_test[:10]:\n",
    "        out1, out2 = MTL(test.float())\n",
    "        print(\"{:.4}\\t{:.4}\".format(out1.item(), out2.item()))\n"
   ],
   "metadata": {
    "collapsed": false,
    "pycharm": {
     "name": "#%%\n"
    }
   }
  },
  {
   "cell_type": "code",
   "execution_count": null,
   "outputs": [],
   "source": [],
   "metadata": {
    "collapsed": false,
    "pycharm": {
     "name": "#%%\n"
    }
   }
  }
 ],
 "metadata": {
  "kernelspec": {
   "display_name": "Python 3",
   "language": "python",
   "name": "python3"
  },
  "language_info": {
   "codemirror_mode": {
    "name": "ipython",
    "version": 2
   },
   "file_extension": ".py",
   "mimetype": "text/x-python",
   "name": "python",
   "nbconvert_exporter": "python",
   "pygments_lexer": "ipython2",
   "version": "2.7.6"
  }
 },
 "nbformat": 4,
 "nbformat_minor": 0
}