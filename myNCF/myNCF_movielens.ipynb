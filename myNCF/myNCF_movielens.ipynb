{
 "cells": [
  {
   "cell_type": "code",
   "execution_count": null,
   "metadata": {
    "collapsed": true
   },
   "outputs": [],
   "source": []
  },
  {
   "cell_type": "code",
   "execution_count": 11,
   "outputs": [],
   "source": [
    "import torch\n",
    "import math\n",
    "import torch.nn as nn\n",
    "import torch.optim as optim\n",
    "from torch.utils.data import Dataset, DataLoader, TensorDataset\n",
    "import pandas as pd\n",
    "from sklearn.model_selection import train_test_split\n",
    "import numpy as np\n",
    "from torch.utils.data import DataLoader"
   ],
   "metadata": {
    "collapsed": false,
    "pycharm": {
     "name": "#%%\n"
    }
   }
  },
  {
   "cell_type": "code",
   "execution_count": 12,
   "outputs": [
    {
     "name": "stdout",
     "output_type": "stream",
     "text": [
      "   uid  iid  rating\n",
      "0  196  242       3\n",
      "1  186  302       3\n",
      "2   22  377       1\n",
      "3  244   51       2\n",
      "4  166  346       1\n"
     ]
    }
   ],
   "source": [
    "file = \"../ml-100k/u.data\"\n",
    "\n",
    "df = pd.read_csv(file, sep='\\t', header=None)\n",
    "df.columns = \"uid iid rating timestamp\".split()\n",
    "df.drop('timestamp', axis=1, inplace=True)\n",
    "print(df.head())\n"
   ],
   "metadata": {
    "collapsed": false,
    "pycharm": {
     "name": "#%%\n"
    }
   }
  },
  {
   "cell_type": "code",
   "execution_count": 13,
   "outputs": [
    {
     "name": "stdout",
     "output_type": "stream",
     "text": [
      "num users 943, num items 1682\n"
     ]
    }
   ],
   "source": [
    "n_users = df['uid'].nunique()\n",
    "n_items = df['iid'].nunique()\n",
    "print(\"num users {}, num items {}\".format(n_users, n_items))"
   ],
   "metadata": {
    "collapsed": false,
    "pycharm": {
     "name": "#%%\n"
    }
   }
  },
  {
   "cell_type": "code",
   "execution_count": 14,
   "outputs": [
    {
     "name": "stdout",
     "output_type": "stream",
     "text": [
      "<class 'numpy.ndarray'>\n",
      "<class 'numpy.ndarray'>\n",
      "[[196 242]\n",
      " [186 302]\n",
      " [ 22 377]\n",
      " [244  51]\n",
      " [166 346]\n",
      " [298 474]\n",
      " [115 265]\n",
      " [253 465]\n",
      " [305 451]\n",
      " [  6  86]]\n",
      "[3 3 1 2 1 4 2 5 3 3]\n",
      "196 242 3\n"
     ]
    }
   ],
   "source": [
    "X = df.iloc[:, :-1].values\n",
    "target = df.iloc[:, -1].values\n",
    "\n",
    "print(type(X))\n",
    "print(type(target))\n",
    "print(X[:10])\n",
    "print(target[:10])\n",
    "print(X[0][0], X[0][1], target[0])\n"
   ],
   "metadata": {
    "collapsed": false,
    "pycharm": {
     "name": "#%%\n"
    }
   }
  },
  {
   "cell_type": "code",
   "execution_count": 15,
   "outputs": [
    {
     "name": "stdout",
     "output_type": "stream",
     "text": [
      "(80000, 2)\n",
      "(80000,)\n",
      "(20000, 2)\n",
      "(20000,)\n"
     ]
    }
   ],
   "source": [
    "X_train, X_test, y_train, y_test = train_test_split(X, target, test_size=0.20, random_state=42)\n",
    "print(X_train.shape)\n",
    "print(y_train.shape)\n",
    "print(X_test.shape)\n",
    "print(y_test.shape)\n"
   ],
   "metadata": {
    "collapsed": false,
    "pycharm": {
     "name": "#%%\n"
    }
   }
  },
  {
   "cell_type": "code",
   "execution_count": 16,
   "outputs": [
    {
     "name": "stdout",
     "output_type": "stream",
     "text": [
      "[[ 807 1411]\n",
      " [ 474  659]\n",
      " [ 463  268]\n",
      " [ 139  286]\n",
      " [ 621  751]\n",
      " [ 264  137]\n",
      " [ 262  219]\n",
      " [   7  300]\n",
      " [ 653  393]\n",
      " [ 235  198]]\n",
      "[807 474 463 ... 437 284 222]\n",
      "[1411  659  268 ...  475  322  200]\n"
     ]
    }
   ],
   "source": [
    "print(X_train[:10])\n",
    "print(X_train[:, 0])\n",
    "print(X_train[:, 1])"
   ],
   "metadata": {
    "collapsed": false,
    "pycharm": {
     "name": "#%%\n"
    }
   }
  },
  {
   "cell_type": "code",
   "execution_count": 17,
   "outputs": [
    {
     "name": "stdout",
     "output_type": "stream",
     "text": [
      "[1 5 4 ... 3 3 3]\n",
      "tensor([[1],\n",
      "        [5],\n",
      "        [4],\n",
      "        ...,\n",
      "        [3],\n",
      "        [3],\n",
      "        [3]])\n"
     ]
    }
   ],
   "source": [
    "print(y_train)\n",
    "rating = torch.from_numpy(y_train).view(-1, 1)\n",
    "print(rating)\n"
   ],
   "metadata": {
    "collapsed": false,
    "pycharm": {
     "name": "#%%\n"
    }
   }
  },
  {
   "cell_type": "code",
   "execution_count": 18,
   "outputs": [],
   "source": [
    "class MovieLens(Dataset):\n",
    "\n",
    "    def __init__(self, X, y):\n",
    "        self.users = torch.from_numpy(X[:, 0]).type(torch.LongTensor)\n",
    "        self.items = torch.from_numpy(X[:, 1]).type(torch.LongTensor)\n",
    "        self.ratings = torch.from_numpy(y).view(-1, 1).type(torch.FloatTensor)\n",
    "        self.n_samples = self.users.shape[0]\n",
    "\n",
    "    def __getitem__(self, index):\n",
    "        return self.users[index], self.items[index], self.ratings[index]\n",
    "\n",
    "    def __len__(self):\n",
    "        return self.n_samples"
   ],
   "metadata": {
    "collapsed": false,
    "pycharm": {
     "name": "#%%\n"
    }
   }
  },
  {
   "cell_type": "code",
   "execution_count": 19,
   "outputs": [],
   "source": [
    "bs = 256\n",
    "\n",
    "train_dataset = MovieLens(X_train, y_train)\n",
    "train_dataloader = DataLoader(dataset=train_dataset, batch_size=bs, shuffle=True, num_workers=2)"
   ],
   "metadata": {
    "collapsed": false,
    "pycharm": {
     "name": "#%%\n"
    }
   }
  },
  {
   "cell_type": "code",
   "execution_count": 20,
   "outputs": [],
   "source": [
    "test_dataset = MovieLens(X_test, y_test)\n",
    "test_dataloader = DataLoader(dataset=test_dataset, batch_size=bs, shuffle=False, num_workers=2)"
   ],
   "metadata": {
    "collapsed": false,
    "pycharm": {
     "name": "#%%\n"
    }
   }
  },
  {
   "cell_type": "code",
   "execution_count": 21,
   "outputs": [],
   "source": [
    "train_dataiter = iter(train_dataloader)\n",
    "data = train_dataiter.next()\n",
    "users, items, ratings = data\n",
    "#print(users)\n",
    "#print(items)\n",
    "#print(ratings)"
   ],
   "metadata": {
    "collapsed": false,
    "pycharm": {
     "name": "#%%\n"
    }
   }
  },
  {
   "cell_type": "code",
   "execution_count": 22,
   "outputs": [],
   "source": [
    "test_dataiter = iter(test_dataloader)\n",
    "data = test_dataiter.next()\n",
    "users, items, ratings = data\n",
    "#print(users)\n",
    "#print(items)\n",
    "#print(ratings)\n",
    "\n"
   ],
   "metadata": {
    "collapsed": false,
    "pycharm": {
     "name": "#%%\n"
    }
   }
  },
  {
   "cell_type": "code",
   "execution_count": 23,
   "outputs": [],
   "source": [
    "embed_dim= 50\n",
    "bias_dim = 1\n",
    "ratings_range = (0, 5.5)"
   ],
   "metadata": {
    "collapsed": false,
    "pycharm": {
     "name": "#%%\n"
    }
   }
  },
  {
   "cell_type": "code",
   "execution_count": 24,
   "outputs": [],
   "source": [
    "class NCF(nn.Module):\n",
    "    def __init__(self, users_size, items_size, embed_dim ,bias_dim, ratings_range):\n",
    "        super(NCF, self).__init__()\n",
    "        self.embed_dim = embed_dim\n",
    "        self.ratings_range = ratings_range\n",
    "        self.embedding_user = nn.Embedding(users_size+1, embed_dim)\n",
    "        self.embedding_item = nn.Embedding(items_size+1, embed_dim)\n",
    "        self.bias_user = nn.Embedding(users_size+1, bias_dim)\n",
    "        self.bias_item = nn.Embedding(items_size+1, bias_dim)\n",
    "        self.sigmoid = nn.Sigmoid()\n",
    "\n",
    "    def forward(self, users, items):\n",
    "        u_emb = self.embedding_user(users)\n",
    "        i_emb = self.embedding_item(items)\n",
    "        u_bias = self.bias_user(users)\n",
    "        i_bias = self.bias_item(items)\n",
    "\n",
    "        dot = torch.bmm(u_emb.view(-1, 1, self.embed_dim), i_emb.view(-1, self.embed_dim, 1))\n",
    "        dot = dot.squeeze()\n",
    "\n",
    "        res = dot + u_bias.squeeze() + i_bias.squeeze()\n",
    "        pred = self.sigmoid(res) * (self.ratings_range[1]-self.ratings_range[0] + self.ratings_range[0])\n",
    "\n",
    "        return pred"
   ],
   "metadata": {
    "collapsed": false,
    "pycharm": {
     "name": "#%%\n"
    }
   }
  },
  {
   "cell_type": "code",
   "execution_count": 26,
   "outputs": [
    {
     "name": "stdout",
     "output_type": "stream",
     "text": [
      "5.5\n"
     ]
    }
   ],
   "source": [
    "print(ratings_range[1]-ratings_range[0] + ratings_range[0])\n",
    "\n"
   ],
   "metadata": {
    "collapsed": false,
    "pycharm": {
     "name": "#%%\n"
    }
   }
  },
  {
   "cell_type": "code",
   "execution_count": 27,
   "outputs": [],
   "source": [
    "model = NCF(n_users, n_items, embed_dim, bias_dim, ratings_range)"
   ],
   "metadata": {
    "collapsed": false,
    "pycharm": {
     "name": "#%%\n"
    }
   }
  },
  {
   "cell_type": "code",
   "execution_count": 28,
   "outputs": [],
   "source": [
    "learning_rate = 0.001\n",
    "criterion = nn.MSELoss()\n",
    "optimizer = optim.SGD(model.parameters(), lr=learning_rate)"
   ],
   "metadata": {
    "collapsed": false,
    "pycharm": {
     "name": "#%%\n"
    }
   }
  },
  {
   "cell_type": "code",
   "execution_count": 29,
   "outputs": [
    {
     "name": "stdout",
     "output_type": "stream",
     "text": [
      "80000 313\n",
      "epoch 1/4, step 100/313, loss 0.03086385875940323\n",
      "epoch 1/4, step 200/313, loss 0.029513316228985786\n",
      "epoch 1/4, step 300/313, loss 0.029406651854515076\n",
      "epoch 2/4, step 100/313, loss 0.027330242097377777\n",
      "epoch 2/4, step 200/313, loss 0.030482186004519463\n",
      "epoch 2/4, step 300/313, loss 0.029925281181931496\n",
      "epoch 3/4, step 100/313, loss 0.030874887481331825\n",
      "epoch 3/4, step 200/313, loss 0.02982785925269127\n",
      "epoch 3/4, step 300/313, loss 0.030129769816994667\n",
      "epoch 4/4, step 100/313, loss 0.02955903857946396\n",
      "epoch 4/4, step 200/313, loss 0.0291665717959404\n",
      "epoch 4/4, step 300/313, loss 0.03188612312078476\n"
     ]
    },
    {
     "name": "stderr",
     "output_type": "stream",
     "text": [
      "/media/eduardo/SSD_DATA/Appl ML Projects/venv/lib/python3.6/site-packages/torch/nn/modules/loss.py:432: UserWarning: Using a target size (torch.Size([256, 1])) that is different to the input size (torch.Size([256])). This will likely lead to incorrect results due to broadcasting. Please ensure they have the same size.\n",
      "  return F.mse_loss(input, target, reduction=self.reduction)\n",
      "/media/eduardo/SSD_DATA/Appl ML Projects/venv/lib/python3.6/site-packages/torch/nn/modules/loss.py:432: UserWarning: Using a target size (torch.Size([128, 1])) that is different to the input size (torch.Size([128])). This will likely lead to incorrect results due to broadcasting. Please ensure they have the same size.\n",
      "  return F.mse_loss(input, target, reduction=self.reduction)\n"
     ]
    }
   ],
   "source": [
    "num_epochs = 4\n",
    "total_samples = len(train_dataset)\n",
    "n_iterations = math.ceil(total_samples / bs)\n",
    "print(total_samples, n_iterations)\n",
    "\n",
    "for epoch in range(num_epochs):\n",
    "    for i, (users, items, ratings) in enumerate(train_dataloader):\n",
    "        loss_step = 0.0\n",
    "        rating_preds = model(users, items)\n",
    "        #print(rating_preds.type())\n",
    "        #print(ratings.type())\n",
    "        #print()\n",
    "        #print()\n",
    "        optimizer.zero_grad()\n",
    "        loss = criterion(rating_preds, ratings)\n",
    "        loss.backward()\n",
    "        optimizer.step()\n",
    "\n",
    "        loss_step += loss.item()\n",
    "\n",
    "        if (i+1) % 100 == 0:\n",
    "            print(\"epoch {}/{}, step {}/{}, loss {}\".format(\n",
    "                        epoch+1, num_epochs, i+1,n_iterations, loss_step/users.shape[0]))"
   ],
   "metadata": {
    "collapsed": false,
    "pycharm": {
     "name": "#%%\n"
    }
   }
  },
  {
   "cell_type": "code",
   "execution_count": 29,
   "outputs": [],
   "source": [],
   "metadata": {
    "collapsed": false,
    "pycharm": {
     "name": "#%%\n"
    }
   }
  },
  {
   "cell_type": "code",
   "execution_count": 34,
   "outputs": [
    {
     "name": "stdout",
     "output_type": "stream",
     "text": [
      "Predicted rating: 0.2023475468158722\n"
     ]
    }
   ],
   "source": [
    "userid = 244\n",
    "item_missig = 51\n",
    "userid = torch.LongTensor([userid])\n",
    "itemid = torch.LongTensor([item_missig])\n",
    "\n",
    "with torch.no_grad():\n",
    "    rating_pred = model(userid, itemid)\n",
    "    print(\"Predicted rating: {}\".format(rating_pred))"
   ],
   "metadata": {
    "collapsed": false,
    "pycharm": {
     "name": "#%%\n"
    }
   }
  },
  {
   "cell_type": "code",
   "execution_count": 33,
   "outputs": [],
   "source": [],
   "metadata": {
    "collapsed": false,
    "pycharm": {
     "name": "#%%\n"
    }
   }
  },
  {
   "cell_type": "code",
   "execution_count": null,
   "outputs": [],
   "source": [
    "\n",
    "\n",
    "\n"
   ],
   "metadata": {
    "collapsed": false,
    "pycharm": {
     "name": "#%%\n"
    }
   }
  }
 ],
 "metadata": {
  "kernelspec": {
   "display_name": "Python 3",
   "language": "python",
   "name": "python3"
  },
  "language_info": {
   "codemirror_mode": {
    "name": "ipython",
    "version": 2
   },
   "file_extension": ".py",
   "mimetype": "text/x-python",
   "name": "python",
   "nbconvert_exporter": "python",
   "pygments_lexer": "ipython2",
   "version": "2.7.6"
  }
 },
 "nbformat": 4,
 "nbformat_minor": 0
}