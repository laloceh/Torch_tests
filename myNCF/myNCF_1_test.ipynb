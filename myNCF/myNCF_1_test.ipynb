{
 "cells": [
  {
   "cell_type": "code",
   "execution_count": 15,
   "metadata": {
    "collapsed": true
   },
   "outputs": [],
   "source": [
    "\n",
    "import torch\n",
    "import torch.nn as nn\n",
    "import numpy as np\n",
    "import torch.optim as optim\n"
   ]
  },
  {
   "cell_type": "code",
   "execution_count": 16,
   "outputs": [],
   "source": [
    "n_users = 2 # los user_ids comienzan desde 1, asi que hay que agregar 1 row mas, 0 no cuenta\n",
    "n_items = 10\n",
    "embed_size = 5\n",
    "bias = 1"
   ],
   "metadata": {
    "collapsed": false,
    "pycharm": {
     "name": "#%%%\n"
    }
   }
  },
  {
   "cell_type": "code",
   "execution_count": 17,
   "outputs": [],
   "source": [
    "user_embeddings= nn.Embedding(n_users+1, embed_size)\n",
    "item_embeddings = nn.Embedding(n_items+1, embed_size)\n",
    "bias_users = nn.Embedding(n_users+1, bias)\n",
    "bias_items = nn.Embedding(n_items+1, bias)"
   ],
   "metadata": {
    "collapsed": false,
    "pycharm": {
     "name": "#%%\n"
    }
   }
  },
  {
   "cell_type": "code",
   "execution_count": 18,
   "outputs": [
    {
     "name": "stdout",
     "output_type": "stream",
     "text": [
      "Embedding(3, 5)\n",
      "Embedding(11, 5)\n",
      "Embedding(3, 1)\n",
      "Embedding(11, 1)\n"
     ]
    }
   ],
   "source": [
    "print(user_embeddings)\n",
    "print(item_embeddings)\n",
    "print(bias_users)\n",
    "print(bias_items)\n"
   ],
   "metadata": {
    "collapsed": false,
    "pycharm": {
     "name": "#%%\n"
    }
   }
  },
  {
   "cell_type": "markdown",
   "source": [
    "### Ver algunos embeddings"
   ],
   "metadata": {
    "collapsed": false,
    "pycharm": {
     "name": "#%% md\n"
    }
   }
  },
  {
   "cell_type": "code",
   "execution_count": 19,
   "outputs": [
    {
     "name": "stdout",
     "output_type": "stream",
     "text": [
      "User 1 embeddings\n",
      "tensor([[ 0.4479, -1.0190, -0.0465,  0.1341, -0.2730]],\n",
      "       grad_fn=<EmbeddingBackward>)\n",
      "Item 3 embeddings\n",
      "tensor([[ 1.2285, -0.8647,  0.1552,  1.3463,  1.1785]],\n",
      "       grad_fn=<EmbeddingBackward>)\n",
      "User bias tensor([1]) embeddings\n",
      "tensor([[0.3460]], grad_fn=<EmbeddingBackward>)\n",
      "Item bias tensor([3]) embeddings\n",
      "tensor([[-0.3841]], grad_fn=<EmbeddingBackward>)\n"
     ]
    }
   ],
   "source": [
    "userid = 1\n",
    "itemid = 3\n",
    "rating = 4.5\n",
    "\n",
    "y_range = (0, 5.5)\n",
    "\n",
    "print(\"User {} embeddings\".format(userid))\n",
    "userid = torch.LongTensor([userid])\n",
    "print(user_embeddings(userid))\n",
    "\n",
    "print(\"Item {} embeddings\".format(itemid))\n",
    "itemid = torch.LongTensor([itemid])\n",
    "print(item_embeddings(userid))\n",
    "\n",
    "print(\"User bias {} embeddings\".format(userid))\n",
    "userid = torch.LongTensor([userid])\n",
    "print(bias_users(userid))\n",
    "\n",
    "print(\"Item bias {} embeddings\".format(itemid))\n",
    "itemid = torch.LongTensor([itemid])\n",
    "print(bias_items(userid))\n"
   ],
   "metadata": {
    "collapsed": false,
    "pycharm": {
     "name": "#%%%\n"
    }
   }
  },
  {
   "cell_type": "code",
   "execution_count": 20,
   "outputs": [
    {
     "name": "stdout",
     "output_type": "stream",
     "text": [
      "torch.Size([1, 5])\n",
      "torch.Size([1, 5])\n",
      "tensor(1.7964, grad_fn=<DotBackward>)\n",
      "tensor(3.4217, grad_fn=<AddBackward0>)\n"
     ]
    }
   ],
   "source": [
    "print(user_embeddings(userid).shape)\n",
    "print(item_embeddings(itemid).shape)\n",
    "\n",
    "dot = user_embeddings(userid).squeeze().dot(item_embeddings(itemid).squeeze())\n",
    "print(dot)\n",
    "res = dot + bias_users(userid).squeeze() + bias_items(itemid).squeeze()\n",
    "print(res)"
   ],
   "metadata": {
    "collapsed": false,
    "pycharm": {
     "name": "#%%\n"
    }
   }
  },
  {
   "cell_type": "code",
   "execution_count": 26,
   "outputs": [
    {
     "name": "stdout",
     "output_type": "stream",
     "text": [
      "tensor(5.3261, grad_fn=<MulBackward0>)\n"
     ]
    }
   ],
   "source": [
    "pred = torch.sigmoid(res) * (y_range[1]-y_range[0] + y_range[0])\n",
    "print(pred)"
   ],
   "metadata": {
    "collapsed": false,
    "pycharm": {
     "name": "#%%\n"
    }
   }
  },
  {
   "cell_type": "code",
   "execution_count": 22,
   "outputs": [
    {
     "name": "stdout",
     "output_type": "stream",
     "text": [
      "tensor(0.6824, grad_fn=<MseLossBackward>)\n"
     ]
    }
   ],
   "source": [
    "criterion = nn.MSELoss()\n",
    "\n",
    "rating = torch.FloatTensor([rating])\n",
    "loss = criterion(pred, rating)\n",
    "print(loss)\n",
    "\n",
    "loss.backward()"
   ],
   "metadata": {
    "collapsed": false,
    "pycharm": {
     "name": "#%%\n"
    }
   }
  },
  {
   "cell_type": "code",
   "execution_count": 23,
   "outputs": [
    {
     "data": {
      "text/plain": "'\\nprint(bias_items.weight)\\nprint(bias_items.weight.grad)\\n\\nlearning_rate = 0.01\\nz = learning_rate * bias_items.weight.grad\\nprint(z)\\nf = bias_items.weight - z\\nprint(f)\\n'"
     },
     "execution_count": 23,
     "metadata": {},
     "output_type": "execute_result"
    }
   ],
   "source": [
    "\"\"\"\n",
    "print(bias_items.weight)\n",
    "print(bias_items.weight.grad)\n",
    "\n",
    "learning_rate = 0.01\n",
    "z = learning_rate * bias_items.weight.grad\n",
    "print(z)\n",
    "f = bias_items.weight - z\n",
    "print(f)\n",
    "\"\"\""
   ],
   "metadata": {
    "collapsed": false,
    "pycharm": {
     "name": "#%%\n"
    }
   }
  },
  {
   "cell_type": "code",
   "execution_count": 24,
   "outputs": [],
   "source": [
    "learning_rate = 0.01\n",
    "with torch.no_grad():\n",
    "    user_embeddings.weight -= learning_rate * user_embeddings.weight.grad\n",
    "    item_embeddings.weight -= learning_rate * item_embeddings.weight.grad\n",
    "    bias_users.weight -= learning_rate * bias_users.weight.grad\n",
    "    bias_items.weight -= learning_rate * bias_items.weight.grad"
   ],
   "metadata": {
    "collapsed": false,
    "pycharm": {
     "name": "#%%\n"
    }
   }
  },
  {
   "cell_type": "code",
   "execution_count": 25,
   "outputs": [
    {
     "name": "stdout",
     "output_type": "stream",
     "text": [
      "User tensor([1]) embeddings\n",
      "tensor([[ 0.4490, -1.0142, -0.0477,  0.1280, -0.2736]],\n",
      "       grad_fn=<EmbeddingBackward>)\n",
      "Item tensor([3]) embeddings\n",
      "tensor([[ 1.2285, -0.8647,  0.1552,  1.3463,  1.1785]],\n",
      "       grad_fn=<EmbeddingBackward>)\n",
      "User bias tensor([1]) embeddings\n",
      "tensor([[0.3432]], grad_fn=<EmbeddingBackward>)\n",
      "Item bias tensor([3]) embeddings\n",
      "tensor([[-0.3841]], grad_fn=<EmbeddingBackward>)\n"
     ]
    }
   ],
   "source": [
    "print(\"User {} embeddings\".format(userid))\n",
    "userid = torch.LongTensor([userid])\n",
    "print(user_embeddings(userid))\n",
    "\n",
    "print(\"Item {} embeddings\".format(itemid))\n",
    "itemid = torch.LongTensor([itemid])\n",
    "print(item_embeddings(userid))\n",
    "\n",
    "print(\"User bias {} embeddings\".format(userid))\n",
    "userid = torch.LongTensor([userid])\n",
    "print(bias_users(userid))\n",
    "\n",
    "print(\"Item bias {} embeddings\".format(itemid))\n",
    "itemid = torch.LongTensor([itemid])\n",
    "print(bias_items(userid))"
   ],
   "metadata": {
    "collapsed": false,
    "pycharm": {
     "name": "#%%\n"
    }
   }
  },
  {
   "cell_type": "code",
   "execution_count": 25,
   "outputs": [],
   "source": [
    "\n"
   ],
   "metadata": {
    "collapsed": false,
    "pycharm": {
     "name": "#%%\n"
    }
   }
  }
 ],
 "metadata": {
  "kernelspec": {
   "display_name": "Python 3",
   "language": "python",
   "name": "python3"
  },
  "language_info": {
   "codemirror_mode": {
    "name": "ipython",
    "version": 2
   },
   "file_extension": ".py",
   "mimetype": "text/x-python",
   "name": "python",
   "nbconvert_exporter": "python",
   "pygments_lexer": "ipython2",
   "version": "2.7.6"
  }
 },
 "nbformat": 4,
 "nbformat_minor": 0
}