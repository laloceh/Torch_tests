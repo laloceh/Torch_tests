{
 "cells": [
  {
   "cell_type": "code",
   "execution_count": 2,
   "metadata": {
    "collapsed": true
   },
   "outputs": [],
   "source": [
    "import torch\n",
    "import torch.nn as nn\n",
    "import torch.optim as optim\n",
    "import numpy as np"
   ]
  },
  {
   "cell_type": "code",
   "execution_count": 259,
   "outputs": [
    {
     "name": "stdout",
     "output_type": "stream",
     "text": [
      "[[ 1.   1.   5. ]\n",
      " [ 1.   2.   3.5]\n",
      " [ 1.   3.   4. ]\n",
      " [ 1.   6.   3. ]\n",
      " [ 1.   8.   4.5]\n",
      " [ 1.  10.   5. ]\n",
      " [ 2.   2.   4.5]\n",
      " [ 2.   3.   4.5]\n",
      " [ 2.   4.   2.5]\n",
      " [ 2.   5.   4.5]\n",
      " [ 2.   7.   3.5]\n",
      " [ 2.   9.   3.5]\n",
      " [ 2.  10.   3.5]]\n",
      "(13, 3)\n"
     ]
    }
   ],
   "source": [
    "dataset = np.array([ [1, 1, 5.0],\n",
    "                     [1, 2, 3.5],\n",
    "                     [1, 3, 4.0],\n",
    "                     [1, 6, 3.0],\n",
    "                     [1, 8, 4.5],\n",
    "                     [1, 10, 5.0],\n",
    "                     [2, 2, 4.5],\n",
    "                     [2, 3, 4.5],\n",
    "                     [2, 4, 2.5],\n",
    "                     [2, 5, 4.5],\n",
    "                     [2, 7, 3.5],\n",
    "                     [2, 9, 3.5],\n",
    "                     [2, 10, 3.5]])\n",
    "\n",
    "print(dataset)\n",
    "print(dataset.shape)"
   ],
   "metadata": {
    "collapsed": false,
    "pycharm": {
     "name": "#%%\n"
    }
   }
  },
  {
   "cell_type": "code",
   "execution_count": 260,
   "outputs": [
    {
     "name": "stdout",
     "output_type": "stream",
     "text": [
      "[1. 1. 1. 1. 1. 1. 2. 2. 2. 2. 2. 2. 2.]\n",
      "[ 1.  2.  3.  6.  8. 10.  2.  3.  4.  5.  7.  9. 10.]\n",
      "[5.  3.5 4.  3.  4.5 5.  4.5 4.5 2.5 4.5 3.5 3.5 3.5]\n"
     ]
    }
   ],
   "source": [
    "user_item = dataset[:, :2]\n",
    "#print(user_item)\n",
    "users = user_item[:, 0]\n",
    "print(users)\n",
    "items = user_item[:, 1]\n",
    "print(items)\n",
    "ratings = dataset[:,2]\n",
    "print(ratings)"
   ],
   "metadata": {
    "collapsed": false,
    "pycharm": {
     "name": "#%%\n"
    }
   }
  },
  {
   "cell_type": "code",
   "execution_count": 261,
   "outputs": [
    {
     "name": "stdout",
     "output_type": "stream",
     "text": [
      "2 10\n"
     ]
    }
   ],
   "source": [
    "n_users = len(np.unique(users)) # los user_ids comienzan desde 1, asi que hay que agregar 1 row mas, 0 no cuenta\n",
    "n_items = len(np.unique(items))\n",
    "print(n_users, n_items)"
   ],
   "metadata": {
    "collapsed": false,
    "pycharm": {
     "name": "#%%\n"
    }
   }
  },
  {
   "cell_type": "code",
   "execution_count": 262,
   "outputs": [],
   "source": [
    "embed_dim= 5\n",
    "bias_dim = 1\n",
    "ratings_range = (0, 5.5)"
   ],
   "metadata": {
    "collapsed": false,
    "pycharm": {
     "name": "#%%\n"
    }
   }
  },
  {
   "cell_type": "code",
   "execution_count": 263,
   "outputs": [
    {
     "name": "stdout",
     "output_type": "stream",
     "text": [
      "torch.Size([13, 1])\n",
      "torch.Size([13, 1])\n",
      "torch.Size([13, 1])\n",
      "torch.FloatTensor\n"
     ]
    }
   ],
   "source": [
    "users = torch.from_numpy(users).view(-1, 1).type(torch.LongTensor)\n",
    "items = torch.from_numpy(items).view(-1, 1).type(torch.LongTensor)\n",
    "ratings = torch.from_numpy(ratings).view(-1, 1).type(torch.FloatTensor)\n",
    "\n",
    "print(users.shape)\n",
    "print(items.shape)\n",
    "print(ratings.shape)\n",
    "\n",
    "print(ratings.type())"
   ],
   "metadata": {
    "collapsed": false,
    "pycharm": {
     "name": "#%%\n"
    }
   }
  },
  {
   "cell_type": "code",
   "execution_count": 264,
   "outputs": [
    {
     "name": "stdout",
     "output_type": "stream",
     "text": [
      "tensor([[1],\n",
      "        [1],\n",
      "        [1],\n",
      "        [1],\n",
      "        [1],\n",
      "        [1],\n",
      "        [2],\n",
      "        [2],\n",
      "        [2],\n",
      "        [2],\n",
      "        [2],\n",
      "        [2],\n",
      "        [2]])\n",
      "tensor([[ 1],\n",
      "        [ 2],\n",
      "        [ 3],\n",
      "        [ 6],\n",
      "        [ 8],\n",
      "        [10],\n",
      "        [ 2],\n",
      "        [ 3],\n",
      "        [ 4],\n",
      "        [ 5],\n",
      "        [ 7],\n",
      "        [ 9],\n",
      "        [10]])\n",
      "tensor([[5.0000],\n",
      "        [3.5000],\n",
      "        [4.0000],\n",
      "        [3.0000],\n",
      "        [4.5000],\n",
      "        [5.0000],\n",
      "        [4.5000],\n",
      "        [4.5000],\n",
      "        [2.5000],\n",
      "        [4.5000],\n",
      "        [3.5000],\n",
      "        [3.5000],\n",
      "        [3.5000]])\n"
     ]
    }
   ],
   "source": [
    "print(users)\n",
    "print(items)\n",
    "print(ratings)\n",
    "\n"
   ],
   "metadata": {
    "collapsed": false,
    "pycharm": {
     "name": "#%%\n"
    }
   }
  },
  {
   "cell_type": "code",
   "execution_count": 265,
   "outputs": [],
   "source": [
    "class NCF(nn.Module):\n",
    "    def __init__(self, users_size, items_size, embed_dim ,bias_dim, ratings_range):\n",
    "        super(NCF, self).__init__()\n",
    "        self.embed_dim = embed_dim\n",
    "        self.ratings_range = ratings_range\n",
    "        self.embedding_user = nn.Embedding(users_size+1, embed_dim)\n",
    "        self.embedding_item = nn.Embedding(items_size+1, embed_dim)\n",
    "        self.bias_user = nn.Embedding(users_size+1, bias_dim)\n",
    "        self.bias_item = nn.Embedding(items_size+1, bias_dim)\n",
    "        self.sigmoid = nn.Sigmoid()\n",
    "\n",
    "    def forward(self, users, items):\n",
    "        u_emb = self.embedding_user(users)\n",
    "        i_emb = self.embedding_item(items)\n",
    "        u_bias = self.bias_user(users)\n",
    "        i_bias = self.bias_item(items)\n",
    "\n",
    "        dot = torch.bmm(u_emb.view(-1, 1, self.embed_dim), i_emb.view(-1, self.embed_dim, 1))\n",
    "        dot = dot.squeeze()\n",
    "\n",
    "        res = dot + u_bias.squeeze() + i_bias.squeeze()\n",
    "        pred = self.sigmoid(res) * (self.ratings_range[1]-self.ratings_range[0] + self.ratings_range[0])\n",
    "\n",
    "        return pred"
   ],
   "metadata": {
    "collapsed": false,
    "pycharm": {
     "name": "#%%\n"
    }
   }
  },
  {
   "cell_type": "code",
   "execution_count": 266,
   "outputs": [],
   "source": [
    "model = NCF(n_users, n_items, embed_dim, bias_dim, ratings_range)"
   ],
   "metadata": {
    "collapsed": false,
    "pycharm": {
     "name": "#%%\n"
    }
   }
  },
  {
   "cell_type": "code",
   "execution_count": 267,
   "outputs": [],
   "source": [
    "learning_rate = 0.01\n",
    "criterion = nn.MSELoss()\n",
    "optimizer = optim.SGD(model.parameters(), lr=learning_rate)"
   ],
   "metadata": {
    "collapsed": false,
    "pycharm": {
     "name": "#%%\n"
    }
   }
  },
  {
   "cell_type": "code",
   "execution_count": 268,
   "outputs": [
    {
     "name": "stdout",
     "output_type": "stream",
     "text": [
      "epoch 10, loss 1.621\n",
      "epoch 20, loss 1.508\n",
      "epoch 30, loss 1.428\n",
      "epoch 40, loss 1.366\n",
      "epoch 50, loss 1.315\n",
      "epoch 60, loss 1.27\n",
      "epoch 70, loss 1.23\n",
      "epoch 80, loss 1.193\n",
      "epoch 90, loss 1.159\n",
      "epoch 100, loss 1.127\n"
     ]
    }
   ],
   "source": [
    "num_epochs = 100\n",
    "for epoch in range(num_epochs):\n",
    "    rating_preds = model(users, items)\n",
    "    #print(rating_preds.type())\n",
    "    #print(ratings.type())\n",
    "    #print()\n",
    "    #print()\n",
    "    optimizer.zero_grad()\n",
    "    loss = criterion(rating_preds, ratings)\n",
    "    loss.backward()\n",
    "    optimizer.step()\n",
    "\n",
    "    if (epoch+1) % 10 == 0:\n",
    "        print(\"epoch {}, loss {:.4}\".format(epoch+1, loss.item()))"
   ],
   "metadata": {
    "collapsed": false,
    "pycharm": {
     "name": "#%%\n"
    }
   }
  },
  {
   "cell_type": "code",
   "execution_count": 244,
   "outputs": [],
   "source": [],
   "metadata": {
    "collapsed": false,
    "pycharm": {
     "name": "#%%\n"
    }
   }
  },
  {
   "cell_type": "code",
   "execution_count": 273,
   "outputs": [
    {
     "name": "stdout",
     "output_type": "stream",
     "text": [
      "Predicted rating: 5.22271728515625\n"
     ]
    }
   ],
   "source": [
    "userid = 2\n",
    "item_missig = 9\n",
    "userid = torch.LongTensor([userid])\n",
    "itemid = torch.LongTensor([item_missig])\n",
    "\n",
    "with torch.no_grad():\n",
    "    rating_pred = model(userid, itemid)\n",
    "    print(\"Predicted rating: {}\".format(rating_pred))"
   ],
   "metadata": {
    "collapsed": false,
    "pycharm": {
     "name": "#%%\n"
    }
   }
  },
  {
   "cell_type": "code",
   "execution_count": null,
   "outputs": [],
   "source": [
    "\n"
   ],
   "metadata": {
    "collapsed": false,
    "pycharm": {
     "name": "#%%\n"
    }
   }
  }
 ],
 "metadata": {
  "kernelspec": {
   "display_name": "Python 3",
   "language": "python",
   "name": "python3"
  },
  "language_info": {
   "codemirror_mode": {
    "name": "ipython",
    "version": 2
   },
   "file_extension": ".py",
   "mimetype": "text/x-python",
   "name": "python",
   "nbconvert_exporter": "python",
   "pygments_lexer": "ipython2",
   "version": "2.7.6"
  }
 },
 "nbformat": 4,
 "nbformat_minor": 0
}